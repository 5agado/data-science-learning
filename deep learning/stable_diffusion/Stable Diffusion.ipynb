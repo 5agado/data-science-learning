{
 "cells": [
  {
   "cell_type": "markdown",
   "id": "6c4fa959",
   "metadata": {
    "toc": true
   },
   "source": [
    "<h1>Table of Contents<span class=\"tocSkip\"></span></h1>\n",
    "<div class=\"toc\"><ul class=\"toc-item\"></ul></div>"
   ]
  },
  {
   "cell_type": "code",
   "execution_count": null,
   "id": "f0cbf99d",
   "metadata": {},
   "outputs": [],
   "source": [
    "from omegaconf import OmegaConf\n",
    "import torch\n",
    "from pathlib import Path\n",
    "from datetime import datetime\n",
    "import gc, json, os, sys\n",
    "import cv2\n",
    "import numpy as np\n",
    "from tqdm import tqdm\n",
    "#from tqdm.notebook import tqdm\n",
    "\n",
    "%load_ext autoreload\n",
    "%autoreload 2\n",
    "\n",
    "from stable_diffusion_utils import load_model_from_config, config, generate\n",
    "from ds_utils.video_utils import imageio_generate_video\n",
    "\n",
    "device = torch.device(\"cuda\") if torch.cuda.is_available() else torch.device(\"cpu\")\n",
    "print(device)"
   ]
  },
  {
   "cell_type": "code",
   "execution_count": null,
   "id": "355959ca",
   "metadata": {},
   "outputs": [],
   "source": [
    "opt = config()\n",
    "opt.ckpt = 'D:/models/stable_diffusion/sd-v1-4.ckpt'\n",
    "opt.config = str(Path.home() / 'Documents/python_workspace/stable-diffusion/configs/stable-diffusion/v1-inference.yaml')\n",
    "model = load_model_from_config(OmegaConf.load(opt.config), opt.ckpt, opt.full_precision).to(device)\n",
    "\n",
    "batch_idx = 0\n",
    "sample_idx = 0"
   ]
  },
  {
   "cell_type": "code",
   "execution_count": null,
   "id": "6f362da3",
   "metadata": {},
   "outputs": [],
   "source": [
    "outputs_path = Path.home() / 'Documents/generated_data/stable_diffusion'\n",
    "batch_name = f'' # name for subfolder and filenames  {datetime.now().strftime(\"%Y%m%d_%H%M%S\")}_\n",
    "width_height = [512, 512] \n",
    "opt.W, opt.H = width_height\n",
    "opt.scale = 20 # strength of text prompt\n",
    "opt.n_steps = 40 # number of diffusion steps\n",
    "opt.sampler = 'ddim' # [\"klms\",\"plms\", \"ddim\"]\n",
    "opt.ddim_eta = 0.1 # scale of variance from 0.0 to 1.0\n",
    "opt.seed = -1 # use -1 for random seed or specify number manually\n",
    "num_batch_images = 3 # how many images you want to generate in this batch\n",
    "\n",
    "# Init image\n",
    "opt.init_img = str(Path.home() / '') # url or path to an image, or path to a folder to pick random images from\n",
    "opt.strength = 0.55 # from 0.0 to 1.0 how much the init image is used\n",
    "\n",
    "# Mask\n",
    "opt.mask_path = None #str(Path.home() / '')\n",
    "\n",
    "# Prompt\n",
    "opt.prompt = \"\"\"\"\"\"\n",
    "\n",
    "\n",
    "opt.outdir = str(outputs_path / batch_name)\n",
    "opt.process_config()\n",
    "\n",
    "# save settings\n",
    "settings = vars(opt)\n",
    "os.makedirs(opt.outdir, exist_ok=True)\n",
    "while os.path.isfile(f\"{opt.outdir}/{batch_name}_{batch_idx}_settings.txt\"):\n",
    "    batch_idx += 1\n",
    "with open(f\"{opt.outdir}/{batch_name}_{batch_idx}_settings.txt\", \"w+\", encoding=\"utf-8\") as f:\n",
    "    json.dump(settings, f, ensure_ascii=False, indent=4)\n",
    "\n",
    "sample_idx = 0\n",
    "# process video\n",
    "if Path(opt.init_img).suffix in ['.mp4', '.webm']:\n",
    "    print('Run on video')\n",
    "    skip_frame = 2\n",
    "    video = cv2.VideoCapture(opt.init_img)\n",
    "    frame_count = int(video.get(cv2.CAP_PROP_FRAME_COUNT))\n",
    "    fps = video.get(cv2.CAP_PROP_FPS)/skip_frame\n",
    "\n",
    "    # while ret:\n",
    "    frames_out = []\n",
    "    for frame_index in tqdm(range(frame_count)):\n",
    "        gc.collect()\n",
    "        torch.cuda.empty_cache()\n",
    "        ret, frame = video.read()\n",
    "        if (frame_index % skip_frame) != 0:\n",
    "            continue\n",
    "        if ret:\n",
    "            opt.init_img = frame\n",
    "            images = generate(opt, model, batch_name, batch_idx, sample_idx)\n",
    "            sample_idx += 1\n",
    "            frames_out.append(images[0][0])\n",
    "    # generate video\n",
    "    imageio_generate_video(str(f'{opt.outdir}/{batch_name}_{batch_idx}.mp4'), \n",
    "                       [np.array(img) for img in frames_out], fps=fps, format=\"mp4\")\n",
    "# process image\n",
    "else:\n",
    "    for i in range(num_batch_images):\n",
    "        gc.collect()\n",
    "        torch.cuda.empty_cache()\n",
    "        _ = generate(opt, model, batch_name, batch_idx, sample_idx)\n",
    "        opt.seed += 1\n",
    "        sample_idx += 1\n"
   ]
  },
  {
   "cell_type": "code",
   "execution_count": null,
   "id": "e6dd5748",
   "metadata": {},
   "outputs": [],
   "source": [
    "from PIL import Image\n",
    "img = Image.open( str(Path.home() / \"\")).convert('RGB')\n",
    "img.thumbnail([600, 600], Image.ANTIALIAS)  # maintain aspect ratio\n",
    "img.size"
   ]
  }
 ],
 "metadata": {
  "kernelspec": {
   "display_name": "Stable Diffusion",
   "language": "python",
   "name": "stable_diffusion"
  },
  "language_info": {
   "codemirror_mode": {
    "name": "ipython",
    "version": 3
   },
   "file_extension": ".py",
   "mimetype": "text/x-python",
   "name": "python",
   "nbconvert_exporter": "python",
   "pygments_lexer": "ipython3",
   "version": "3.8.13"
  },
  "notify_time": "30",
  "toc": {
   "base_numbering": 1,
   "nav_menu": {},
   "number_sections": true,
   "sideBar": true,
   "skip_h1_title": false,
   "title_cell": "Table of Contents",
   "title_sidebar": "Contents",
   "toc_cell": true,
   "toc_position": {},
   "toc_section_display": true,
   "toc_window_display": true
  }
 },
 "nbformat": 4,
 "nbformat_minor": 5
}
