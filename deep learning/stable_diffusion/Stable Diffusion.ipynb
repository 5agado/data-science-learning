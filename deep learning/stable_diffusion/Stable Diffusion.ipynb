{
 "cells": [
  {
   "cell_type": "markdown",
   "id": "6c4fa959",
   "metadata": {
    "toc": true
   },
   "source": [
    "<h1>Table of Contents<span class=\"tocSkip\"></span></h1>\n",
    "<div class=\"toc\"><ul class=\"toc-item\"></ul></div>"
   ]
  },
  {
   "cell_type": "code",
   "execution_count": null,
   "id": "f0cbf99d",
   "metadata": {},
   "outputs": [],
   "source": [
    "from omegaconf import OmegaConf\n",
    "import torch\n",
    "from pathlib import Path\n",
    "from datetime import datetime\n",
    "import gc, json, os, sys\n",
    "\n",
    "%load_ext autoreload\n",
    "%autoreload 2\n",
    "\n",
    "from stable_diffusion_utils import load_model_from_config, config, generate"
   ]
  },
  {
   "cell_type": "code",
   "execution_count": null,
   "id": "ef58c608",
   "metadata": {},
   "outputs": [],
   "source": [
    "torch.cuda.is_available()"
   ]
  },
  {
   "cell_type": "code",
   "execution_count": null,
   "id": "355959ca",
   "metadata": {},
   "outputs": [],
   "source": [
    "opt.ckpt = 'D:/models/stable_diffusion/sd-v1-4.ckpt'\n",
    "opt.config = str(projects_dir / 'stable-diffusion/configs/stable-diffusion/v1-inference.yaml')\n",
    "\n",
    "device = torch.device(\"cuda\") if torch.cuda.is_available() else torch.device(\"cpu\")\n",
    "opt = config()\n",
    "model = load_model_from_config(OmegaConf.load(f\"{opt.config}\"), f\"{opt.ckpt}\").to(device)\n",
    "batch_idx = 0\n",
    "sample_idx = 0"
   ]
  },
  {
   "cell_type": "code",
   "execution_count": null,
   "id": "6f362da3",
   "metadata": {},
   "outputs": [],
   "source": [
    "outputs_path = Path.home() / 'Documents/generated_data/stable_diffusion'\n",
    "batch_name = f'test' # name for subfolder and filenames  {datetime.now().strftime(\"%Y%m%d_%H%M%S\")}_\n",
    "width_height = [512, 512] \n",
    "opt.W = width_height[0]\n",
    "opt.H = width_height[1]\n",
    "opt.scale = 20.5 # strength of text prompt\n",
    "opt.steps = 100 # number of diffusion steps\n",
    "opt.n_samples = 1 # not exposed, you can do 2 or more based on GPU ram, if get CUDA out of memory need to restart runtime\n",
    "opt.sampler = 'klms' # [\"klms\",\"plms\", \"ddim\"]\n",
    "opt.ddim_eta = 0.1 # scale of variance from 0.0 to 1.0\n",
    "opt.seed = -1 # use -1 for random seed or specify number manually\n",
    "opt.n_iter = 1\n",
    "num_batch_images = 5 # how many images you want to generate in this batch\n",
    "\n",
    "# Init image\n",
    "opt.init_img = str(Path.home() / '') # url or path to an image, or path to a folder to pick random images from\n",
    "opt.strength = 0.5 # from 0.0 to 1.0 how much the init image is used\n",
    "\n",
    "# Mask\n",
    "opt.mask_path = str(Path.home() / '')\n",
    "\n",
    "# Prompt\n",
    "opt.prompt = \"\" \n",
    "\n",
    "opt.outdir = str(outputs_path / batch_name)\n",
    "\n",
    "opt.process_config()\n",
    "\n",
    "# save settings\n",
    "settings = vars(opt)\n",
    "os.makedirs(opt.outdir, exist_ok=True)\n",
    "while os.path.isfile(f\"{opt.outdir}/{batch_name}_{batch_idx}_settings.txt\"):\n",
    "    batch_idx += 1\n",
    "with open(f\"{opt.outdir}/{batch_name}_{batch_idx}_settings.txt\", \"w+\", encoding=\"utf-8\") as f:\n",
    "    json.dump(settings, f, ensure_ascii=False, indent=4)\n",
    "\n",
    "sample_idx = 0\n",
    "for i in range(num_batch_images):\n",
    "    gc.collect()\n",
    "    torch.cuda.empty_cache()\n",
    "\n",
    "    images = generate(opt, model, batch_name, batch_idx, sample_idx)\n",
    "\n",
    "    print(f\"Saved to: {opt.outdir}\")\n",
    "    opt.seed += 1\n",
    "    sample_idx += 1\n"
   ]
  },
  {
   "cell_type": "code",
   "execution_count": null,
   "id": "9c1571b1",
   "metadata": {},
   "outputs": [],
   "source": []
  }
 ],
 "metadata": {
  "kernelspec": {
   "display_name": "Stable Diffusion",
   "language": "python",
   "name": "stable_diffusion"
  },
  "language_info": {
   "codemirror_mode": {
    "name": "ipython",
    "version": 3
   },
   "file_extension": ".py",
   "mimetype": "text/x-python",
   "name": "python",
   "nbconvert_exporter": "python",
   "pygments_lexer": "ipython3",
   "version": "3.8.13"
  },
  "notify_time": "30",
  "toc": {
   "base_numbering": 1,
   "nav_menu": {},
   "number_sections": true,
   "sideBar": true,
   "skip_h1_title": false,
   "title_cell": "Table of Contents",
   "title_sidebar": "Contents",
   "toc_cell": true,
   "toc_position": {},
   "toc_section_display": true,
   "toc_window_display": true
  }
 },
 "nbformat": 4,
 "nbformat_minor": 5
}
