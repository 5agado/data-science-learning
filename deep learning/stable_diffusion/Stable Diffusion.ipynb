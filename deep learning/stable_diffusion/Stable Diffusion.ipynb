{
 "cells": [
  {
   "cell_type": "markdown",
   "id": "6c4fa959",
   "metadata": {
    "toc": true
   },
   "source": [
    "<h1>Table of Contents<span class=\"tocSkip\"></span></h1>\n",
    "<div class=\"toc\"><ul class=\"toc-item\"><li><span><a href=\"#Intro\" data-toc-modified-id=\"Intro-1\"><span class=\"toc-item-num\">1&nbsp;&nbsp;</span>Intro</a></span></li></ul></div>"
   ]
  },
  {
   "cell_type": "markdown",
   "id": "e8098b9f",
   "metadata": {},
   "source": [
    "# Intro\n",
    "Notebook to run stable-diffusion, relying on the [Diffusers library](https://github.com/huggingface/diffusers).\n",
    "\n",
    "TODOs:\n",
    "- masking (need another model?)\n",
    "- depth\n",
    "- pipe.enable_attention_slicing()"
   ]
  },
  {
   "cell_type": "code",
   "execution_count": null,
   "id": "f0cbf99d",
   "metadata": {},
   "outputs": [],
   "source": [
    "from pathlib import Path\n",
    "from datetime import datetime\n",
    "import json, os, sys\n",
    "import cv2\n",
    "import numpy as np\n",
    "import torch\n",
    "from tqdm import tqdm\n",
    "\n",
    "%load_ext autoreload\n",
    "%autoreload 2\n",
    "\n",
    "from diffusers_utils import load_pipelines, generate, diffusion_process_run\n",
    "from diffusers_utils import save_config_to_file, Config\n",
    "\n",
    "device = torch.device('cuda') if torch.cuda.is_available() else torch.device('cpu')\n",
    "print(device)"
   ]
  },
  {
   "cell_type": "code",
   "execution_count": null,
   "id": "355959ca",
   "metadata": {},
   "outputs": [],
   "source": [
    "opt = Config()\n",
    "opt.model_path = 'D:/models/stable_diffusion/stable-diffusion-v1-4'\n",
    "opt.scheduler = 'dpms' # ['lmsd', 'euler', 'ddim', 'dpms'] # TODO allow for dynamic change of scheduler\n",
    "\n",
    "sd_pipe, img2img_pipe, inpaint_pipe = load_pipelines(opt, device)\n",
    "\n",
    "batch_idx = 0"
   ]
  },
  {
   "cell_type": "code",
   "execution_count": null,
   "id": "77355a61",
   "metadata": {},
   "outputs": [],
   "source": [
    "outputs_path = Path.home() / 'Documents/generated_data/stable_diffusion'\n",
    "batch_name = f'test' # name for subfolder and filenames  {datetime.now().strftime(\"%Y%m%d_%H%M%S\")}_\n",
    "width_height = [500, 500] \n",
    "opt.W, opt.H = width_height\n",
    "opt.scale = 14 # strength of text prompt\n",
    "opt.n_steps = 50 # number of diffusion steps\n",
    "opt.seed = -1 # use -1 for random seed or specify number manually\n",
    "opt.seamless = False  # whether to generate seamless images\n",
    "opt.num_batch_images = 5 # how many images you want to generate in this batch\n",
    "\n",
    "# Init image\n",
    "opt.init_img = str('') # url or path to an image/video\n",
    "opt.strength = 0.65 # from 0.0 to 1.0, strength of noise applied on the init image\n",
    "opt.skip_frames = 2 # how many frames to skip if init image is a video\n",
    "\n",
    "# Mask\n",
    "opt.mask_path = None # url or path to an image/video that will be used for masking\n",
    "opt.invert_mask = False\n",
    "\n",
    "# Prompt\n",
    "opt.prompt = \"\"\"\"\"\"\n",
    "\n",
    "\n",
    "opt.outdir = str(outputs_path / batch_name)\n",
    "opt.process_config()\n",
    "\n",
    "if opt.init_img is None:\n",
    "    pipe = sd_pipe\n",
    "else:\n",
    "    if opt.mask_path is None:\n",
    "        pipe = img2img_pipe\n",
    "    else:\n",
    "        pipe = inpaint_pipe\n",
    "        \n",
    "#pipe.enable_attention_slicing()    \n",
    "diffusion_process_run(opt, pipe, batch_name, batch_idx)\n"
   ]
  },
  {
   "cell_type": "code",
   "execution_count": null,
   "id": "e6dd5748",
   "metadata": {},
   "outputs": [],
   "source": [
    "from PIL import Image\n",
    "img = Image.open(str('')).convert('RGB')\n",
    "img.thumbnail([600, 800], Image.ANTIALIAS)  # maintain aspect ratio\n",
    "img.size"
   ]
  },
  {
   "cell_type": "code",
   "execution_count": null,
   "id": "13ede89b",
   "metadata": {},
   "outputs": [],
   "source": []
  }
 ],
 "metadata": {
  "kernelspec": {
   "display_name": "Stable Diffusion",
   "language": "python",
   "name": "stable_diffusion"
  },
  "language_info": {
   "codemirror_mode": {
    "name": "ipython",
    "version": 3
   },
   "file_extension": ".py",
   "mimetype": "text/x-python",
   "name": "python",
   "nbconvert_exporter": "python",
   "pygments_lexer": "ipython3",
   "version": "3.8.13"
  },
  "notify_time": "30",
  "toc": {
   "base_numbering": 1,
   "nav_menu": {},
   "number_sections": true,
   "sideBar": true,
   "skip_h1_title": false,
   "title_cell": "Table of Contents",
   "title_sidebar": "Contents",
   "toc_cell": true,
   "toc_position": {},
   "toc_section_display": true,
   "toc_window_display": true
  }
 },
 "nbformat": 4,
 "nbformat_minor": 5
}
