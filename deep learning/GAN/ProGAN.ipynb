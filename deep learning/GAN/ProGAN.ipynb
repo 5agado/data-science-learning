{
 "cells": [
  {
   "cell_type": "markdown",
   "metadata": {
    "toc": true
   },
   "source": [
    "<h1>Table of Contents<span class=\"tocSkip\"></span></h1>\n",
    "<div class=\"toc\" style=\"margin-top: 1em;\"><ul class=\"toc-item\"><li><span><a href=\"#Data\" data-toc-modified-id=\"Data-1\"><span class=\"toc-item-num\">1&nbsp;&nbsp;</span>Data</a></span></li><li><span><a href=\"#Model\" data-toc-modified-id=\"Model-2\"><span class=\"toc-item-num\">2&nbsp;&nbsp;</span>Model</a></span></li><li><span><a href=\"#Training\" data-toc-modified-id=\"Training-3\"><span class=\"toc-item-num\">3&nbsp;&nbsp;</span>Training</a></span></li><li><span><a href=\"#Explore-Latent-Space\" data-toc-modified-id=\"Explore-Latent-Space-4\"><span class=\"toc-item-num\">4&nbsp;&nbsp;</span>Explore Latent Space</a></span></li></ul></div>"
   ]
  },
  {
   "cell_type": "code",
   "execution_count": null,
   "metadata": {},
   "outputs": [],
   "source": [
    "import sys\n",
    "import yaml\n",
    "import tensorflow as tf\n",
    "import numpy as np\n",
    "import pandas as pd\n",
    "import functools\n",
    "from pathlib import Path\n",
    "from datetime import datetime\n",
    "from tqdm import tqdm_notebook as tqdm\n",
    "\n",
    "# Plotting\n",
    "import matplotlib\n",
    "import matplotlib.pyplot as plt\n",
    "from matplotlib import animation\n",
    "plt.rcParams['animation.ffmpeg_path'] = str(Path.home() / \"anaconda3/envs/image-processing/bin/ffmpeg\")\n",
    "\n",
    "%load_ext autoreload\n",
    "%autoreload 2\n",
    "\n",
    "from progan import ProGan\n",
    "import gan_utils\n",
    "from load_data import preprocess_images\n",
    "from ds_utils.plot_utils import plot_sample_imgs"
   ]
  },
  {
   "cell_type": "code",
   "execution_count": null,
   "metadata": {},
   "outputs": [],
   "source": [
    "data_folder = Path.home() / \"Documents/datasets\""
   ]
  },
  {
   "cell_type": "code",
   "execution_count": null,
   "metadata": {},
   "outputs": [],
   "source": [
    "# load model config\n",
    "with open('configs/progan_celeba_config.yaml', 'r') as f:\n",
    "    config = yaml.load(f)\n",
    "HIDDEN_DIM = config['data']['z_size']\n",
    "IMG_SHAPE = config['data']['input_shape']\n",
    "BATCH_SIZE = config['training']['batch_size']\n",
    "IMG_IS_BW = IMG_SHAPE[2] == 1\n",
    "PLOT_IMG_SHAPE = IMG_SHAPE[:2] if IMG_IS_BW else IMG_SHAPE\n",
    "config"
   ]
  },
  {
   "cell_type": "markdown",
   "metadata": {},
   "source": [
    "# Data"
   ]
  },
  {
   "cell_type": "code",
   "execution_count": null,
   "metadata": {},
   "outputs": [],
   "source": [
    "# load Fashion MNIST dataset\n",
    "((X_train, y_train), (X_test, y_test)) = tf.keras.datasets.fashion_mnist.load_data()"
   ]
  },
  {
   "cell_type": "code",
   "execution_count": null,
   "metadata": {},
   "outputs": [],
   "source": [
    "X_train = preprocess_images(X_train)\n",
    "X_test = preprocess_images(X_test)\n",
    "\n",
    "print(X_train[0].shape)\n",
    "print(X_train[0].max())\n",
    "print(X_train[0].min())\n",
    "\n",
    "print(X_train.shape)\n",
    "\n",
    "assert X_train[0].shape == tuple(config['data']['input_shape'])"
   ]
  },
  {
   "cell_type": "code",
   "execution_count": null,
   "metadata": {},
   "outputs": [],
   "source": [
    "train_ds = tf.data.Dataset.from_tensor_slices(X_train).take(5000)\n",
    "test_ds = tf.data.Dataset.from_tensor_slices(X_test).take(256)"
   ]
  },
  {
   "cell_type": "code",
   "execution_count": null,
   "metadata": {},
   "outputs": [],
   "source": [
    "sys.path.append(\"../\")\n",
    "from tmp_load_data import load_imgs_tfdataset"
   ]
  },
  {
   "cell_type": "code",
   "execution_count": null,
   "metadata": {},
   "outputs": [],
   "source": [
    "train_ds = load_imgs_tfdataset(data_folder/'img_align_celeba', '*.jpg', config, 500, zipped=False, tanh_range=True)\n",
    "test_ds = load_imgs_tfdataset(data_folder/'img_align_celeba', '*.jpg', config, 100, zipped=False, tanh_range=True)"
   ]
  },
  {
   "cell_type": "code",
   "execution_count": null,
   "metadata": {},
   "outputs": [],
   "source": [
    "for a in train_ds:\n",
    "    n_a = a.numpy()\n",
    "    print(n_a.shape)\n",
    "    print(n_a.max())\n",
    "    print(n_a.min())\n",
    "\n",
    "    print(n_a.shape)\n",
    "    plt.imshow(n_a)\n",
    "    break"
   ]
  },
  {
   "cell_type": "markdown",
   "metadata": {},
   "source": [
    "# Model"
   ]
  },
  {
   "cell_type": "code",
   "execution_count": null,
   "metadata": {},
   "outputs": [],
   "source": [
    "# instantiate GAN\n",
    "gan = ProGan(config)"
   ]
  },
  {
   "cell_type": "code",
   "execution_count": null,
   "metadata": {},
   "outputs": [],
   "source": [
    "# test generator\n",
    "generator_out = gan.generator.predict(np.random.randn(BATCH_SIZE, HIDDEN_DIM))\n",
    "generator_out.shape"
   ]
  },
  {
   "cell_type": "code",
   "execution_count": null,
   "metadata": {},
   "outputs": [],
   "source": [
    "# test discriminator\n",
    "discriminator_out = gan.discriminator.predict(generator_out)\n",
    "discriminator_out.shape"
   ]
  },
  {
   "cell_type": "code",
   "execution_count": null,
   "metadata": {},
   "outputs": [],
   "source": [
    "# test gan\n",
    "gan.generators[2][1].predict(np.random.randn(BATCH_SIZE, HIDDEN_DIM)).min()"
   ]
  },
  {
   "cell_type": "code",
   "execution_count": null,
   "metadata": {},
   "outputs": [],
   "source": [
    "# plot random generated image\n",
    "plt.imshow(gan.generator.predict([np.random.randn(1, HIDDEN_DIM)])[0]\n",
    "           .reshape(PLOT_IMG_SHAPE), cmap='gray' if IMG_IS_BW else 'jet')\n",
    "plt.show()"
   ]
  },
  {
   "cell_type": "code",
   "execution_count": null,
   "metadata": {},
   "outputs": [],
   "source": [
    "gan.generators[2][0].summary()"
   ]
  },
  {
   "cell_type": "markdown",
   "metadata": {},
   "source": [
    "# Training"
   ]
  },
  {
   "cell_type": "code",
   "execution_count": null,
   "metadata": {},
   "outputs": [],
   "source": [
    "# setup model directory for checkpoint and tensorboard logs\n",
    "model_name = \"progan_celeba\"\n",
    "model_dir = Path.home() / \"Documents/models/tf_playground/gan\" / model_name\n",
    "model_dir.mkdir(exist_ok=True, parents=True)\n",
    "export_dir = model_dir / 'export'\n",
    "export_dir.mkdir(exist_ok=True)\n",
    "log_dir = model_dir / \"logs\" / datetime.now().strftime(\"%Y%m%d-%H%M%S\")"
   ]
  },
  {
   "cell_type": "code",
   "execution_count": null,
   "metadata": {},
   "outputs": [],
   "source": [
    "nb_epochs = 100\n",
    "gan.train(train_ds=train_ds,\n",
    "            validation_ds=test_ds,\n",
    "            nb_epochs=nb_epochs,\n",
    "            log_dir=log_dir,\n",
    "            checkpoint_dir=None,\n",
    "            is_tfdataset=True)"
   ]
  },
  {
   "cell_type": "code",
   "execution_count": null,
   "metadata": {},
   "outputs": [],
   "source": [
    "# export Keras model (.h5)\n",
    "gan.generator.save(str(export_dir / 'generator.h5'))\n",
    "gan.discriminator.save(str(export_dir / 'discriminator.h5'))"
   ]
  },
  {
   "cell_type": "code",
   "execution_count": null,
   "metadata": {},
   "outputs": [],
   "source": [
    "# plot generator results\n",
    "plot_side = 5\n",
    "plot_generator = gan.generators[2][0]\n",
    "plot_img_shape = plot_generator.output_shape[1:]\n",
    "plot_sample_imgs(lambda x: plot_generator.predict(np.random.randn(plot_side*plot_side, HIDDEN_DIM)), \n",
    "                 img_shape=plot_img_shape,\n",
    "                 plot_side=plot_side,\n",
    "                 cmap='gray' if IMG_IS_BW else 'jet')"
   ]
  },
  {
   "cell_type": "markdown",
   "metadata": {},
   "source": [
    "# Explore Latent Space"
   ]
  },
  {
   "cell_type": "code",
   "execution_count": null,
   "metadata": {},
   "outputs": [],
   "source": [
    "%matplotlib inline"
   ]
  },
  {
   "cell_type": "code",
   "execution_count": null,
   "metadata": {},
   "outputs": [],
   "source": [
    "render_dir = Path.home() / 'Documents/videos/gan' / \"gan_celeba\"\n",
    "\n",
    "nb_samples = 30\n",
    "nb_transition_frames = 10\n",
    "nb_frames = min(2000, (nb_samples-1)*nb_transition_frames)\n",
    "\n",
    "# random list of z vectors\n",
    "z_s = np.random.randn(nb_samples, 1, HIDDEN_DIM)\n",
    "\n",
    "# setup plot\n",
    "dpi = 100\n",
    "fig, ax = plt.subplots(dpi=dpi, figsize=(PLOT_IMG_SHAPE[0] / dpi, PLOT_IMG_SHAPE[1] / dpi))\n",
    "fig.subplots_adjust(left=0, right=1, bottom=0, top=1)\n",
    "im = ax.imshow(gan.generator.predict(z_s[0])[0].reshape(PLOT_IMG_SHAPE), cmap='gray' if IMG_IS_BW else 'jet')\n",
    "plt.axis('off')\n",
    "\n",
    "def animate(i, gan, z_s, nb_transition_frames):\n",
    "    z_start = z_s[i//nb_transition_frames]\n",
    "    z_end = z_s[i//nb_transition_frames+1]\n",
    "    z_diff = z_end - z_start\n",
    "    cur_z = z_start + (z_diff/nb_transition_frames)*(i%nb_transition_frames)\n",
    "    im.set_data(gan.generator.predict(cur_z)[0].reshape(PLOT_IMG_SHAPE))\n",
    "\n",
    "ani = animation.FuncAnimation(fig, animate, frames=nb_frames, interval=1, \n",
    "                              fargs=[gan, z_s, nb_transition_frames])\n",
    "\n",
    "if render_dir:\n",
    "    render_dir.mkdir(parents=True, exist_ok=True)\n",
    "    ani.save(str(render_dir / (datetime.now().strftime(\"%Y%m%d-%H%M%S\") + '.mp4')), \n",
    "             animation.FFMpegFileWriter(fps=30))"
   ]
  },
  {
   "cell_type": "code",
   "execution_count": null,
   "metadata": {},
   "outputs": [],
   "source": [
    "render_dir = Path.home() / 'Documents/videos/gan' / \"gan_fmnist_idxs\"\n",
    "\n",
    "nb_transition_frames = 150\n",
    "\n",
    "# random list of z vectors\n",
    "rand_idx = np.random.randint(len(X_train))\n",
    "z_start = np.random.randn(1, HIDDEN_DIM)\n",
    "vals = np.linspace(-1., 1., nb_transition_frames)\n",
    "\n",
    "# setup plot\n",
    "dpi = 100\n",
    "fig, ax = plt.subplots(dpi=dpi, figsize=(PLOT_IMG_SHAPE[0] / dpi, PLOT_IMG_SHAPE[1] / dpi))\n",
    "fig.subplots_adjust(left=0, right=1, bottom=0, top=1)\n",
    "#fig, ax = plt.subplots(dpi=100, figsize=(5, 4))\n",
    "im = ax.imshow(gan.generator.predict(z_s[0])[0].reshape(PLOT_IMG_SHAPE), cmap='gray' if IMG_IS_BW else 'jet')\n",
    "plt.axis('off')\n",
    "\n",
    "def animate(i, gan, z_start, idx, vals):\n",
    "    z_start[0][idx:idx+10] = vals[i]\n",
    "    im.set_data(gan.generator.predict(z_start)[0].reshape(PLOT_IMG_SHAPE))\n",
    "\n",
    "for z_idx in range(100):\n",
    "    ani = animation.FuncAnimation(fig, animate, frames=nb_transition_frames, interval=10, \n",
    "                                  fargs=[gan, z_start.copy(), z_idx, vals])\n",
    "\n",
    "    if render_dir:\n",
    "        render_dir.mkdir(parents=True, exist_ok=True)\n",
    "        ani.save(str(render_dir / 'idx{}.mp4'.format(z_idx)), animation.FFMpegFileWriter(fps=30))"
   ]
  }
 ],
 "metadata": {
  "kernelspec": {
   "display_name": "Python [conda env:tf_2]",
   "language": "python",
   "name": "conda-env-tf_2-py"
  },
  "language_info": {
   "codemirror_mode": {
    "name": "ipython",
    "version": 3
   },
   "file_extension": ".py",
   "mimetype": "text/x-python",
   "name": "python",
   "nbconvert_exporter": "python",
   "pygments_lexer": "ipython3",
   "version": "3.6.8"
  },
  "notify_time": "30",
  "toc": {
   "nav_menu": {},
   "number_sections": true,
   "sideBar": true,
   "skip_h1_title": false,
   "toc_cell": true,
   "toc_position": {
    "height": "592px",
    "left": "0px",
    "right": "1056.75px",
    "top": "87px",
    "width": "143.25px"
   },
   "toc_section_display": "block",
   "toc_window_display": true
  }
 },
 "nbformat": 4,
 "nbformat_minor": 2
}
