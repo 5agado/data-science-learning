{
 "cells": [
  {
   "cell_type": "markdown",
   "metadata": {
    "toc": true
   },
   "source": [
    "<h1>Table of Contents<span class=\"tocSkip\"></span></h1>\n",
    "<div class=\"toc\"><ul class=\"toc-item\"><li><span><a href=\"#Load-Network\" data-toc-modified-id=\"Load-Network-1\"><span class=\"toc-item-num\">1&nbsp;&nbsp;</span>Load Network</a></span></li><li><span><a href=\"#Style-Mixing\" data-toc-modified-id=\"Style-Mixing-2\"><span class=\"toc-item-num\">2&nbsp;&nbsp;</span>Style Mixing</a></span></li><li><span><a href=\"#Morphing\" data-toc-modified-id=\"Morphing-3\"><span class=\"toc-item-num\">3&nbsp;&nbsp;</span>Morphing</a></span></li></ul></div>"
   ]
  },
  {
   "cell_type": "markdown",
   "metadata": {},
   "source": [
    "Playground for experiments with StyleGANv2 latents.\n",
    "Includes interactive style mixing, latents interpolation or morphing and latents tweaking."
   ]
  },
  {
   "cell_type": "code",
   "execution_count": null,
   "metadata": {},
   "outputs": [],
   "source": [
    "from pathlib import Path\n",
    "import matplotlib.pyplot as plt\n",
    "import numpy as np\n",
    "import sys\n",
    "import os\n",
    "from datetime import datetime\n",
    "from tqdm import tqdm\n",
    "import imageio\n",
    "\n",
    "# ffmpeg installation location, for creating videos\n",
    "plt.rcParams['animation.ffmpeg_path'] = str(Path.home() / \"Documents/dev_tools/ffmpeg-20190623-ffa64a4-win64-static/bin/ffmpeg.exe\")\n",
    "import ipywidgets as widgets\n",
    "from ipywidgets import interact, interact_manual\n",
    "from IPython.display import display\n",
    "from ipywidgets import Button\n",
    "\n",
    "os.environ['TF_CPP_MIN_LOG_LEVEL'] = '2'\n",
    "\n",
    "%load_ext autoreload\n",
    "%autoreload 2\n",
    "\n",
    "# StyleGAN Utils\n",
    "from stylegan_utils import load_network, gen_image_fun, synth_image_fun, create_video, lo\n",
    "\n",
    "# StyleGAN2 Repo\n",
    "sys.path.append(os.path.join(os.pardir, 'stylegan2encoder'))\n",
    "\n",
    "import run_projector\n",
    "import projector\n",
    "import training.dataset\n",
    "import training.misc\n",
    "\n",
    "# Data Science Utils\n",
    "sys.path.append(os.path.join(os.pardir, 'data-science-learning'))\n",
    "\n",
    "from ds_utils import generative_utils"
   ]
  },
  {
   "cell_type": "code",
   "execution_count": null,
   "metadata": {},
   "outputs": [],
   "source": [
    "res_dir = Path.home() / 'Documents/generated_data/stylegan'"
   ]
  },
  {
   "cell_type": "markdown",
   "metadata": {},
   "source": [
    "# Load Network"
   ]
  },
  {
   "cell_type": "code",
   "execution_count": null,
   "metadata": {},
   "outputs": [],
   "source": [
    "MODELS_DIR = Path(\"C:/Users/User/Documents/models/stylegan2\")\n",
    "MODEL_NAME = 'original_ffhq'\n",
    "SNAPSHOT_NAME = 'stylegan2-ffhq-config-f'\n",
    "\n",
    "Gs, Gs_kwargs, noise_vars = load_network(str(MODELS_DIR / MODEL_NAME / SNAPSHOT_NAME) + '.pkl')\n",
    "\n",
    "Z_SIZE = Gs.input_shape[1:][0]\n",
    "IMG_SIZE = Gs.output_shape[2:]\n",
    "IMG_SIZE"
   ]
  },
  {
   "cell_type": "markdown",
   "metadata": {},
   "source": [
    "# Style Mixing"
   ]
  },
  {
   "cell_type": "code",
   "execution_count": null,
   "metadata": {},
   "outputs": [],
   "source": [
    "def load_latents(latents):\n",
    "    # If not already numpy array, load the latents\n",
    "    if type(latents) is not np.ndarray:\n",
    "        latents = np.load(latents)\n",
    "    \n",
    "    # TMP fix for when saved latens as [1, 16, 512]\n",
    "    if len(latents.shape) == 3:\n",
    "        assert latents.shape[0] == 1\n",
    "        latents = latents[0]\n",
    "    \n",
    "    return latents"
   ]
  },
  {
   "cell_type": "code",
   "execution_count": null,
   "metadata": {},
   "outputs": [],
   "source": [
    "def generate_mix(latents_1, latents_2, style_layers_idxs, synth_image_fun, alpha=1):\n",
    "    latents_1 = load_latents(latents_1)\n",
    "    latents_2 = load_latents(latents_2)\n",
    "    \n",
    "    assert latents_1.shape == latents_2.shape\n",
    "        \n",
    "    # crossover option, from latents_1 to latents_2\n",
    "    mix_latents = latents_2.copy()\n",
    "    mix_latents[style_layers_idxs] = latents_1[style_layers_idxs] * alpha + mix_latents[style_layers_idxs] * (1-alpha)\n",
    "    \n",
    "    # generate\n",
    "    gen_image = synth_image_fun(mix_latents[np.newaxis, :, :])\n",
    "    return gen_image"
   ]
  },
  {
   "cell_type": "code",
   "execution_count": null,
   "metadata": {},
   "outputs": [],
   "source": [
    "# Setup plot image\n",
    "button = Button(description=\"Savefig\")\n",
    "\n",
    "fig, ax = plt.subplots(dpi=100, figsize=(10, 10))\n",
    "fig.subplots_adjust(left=0, right=1, bottom=0, top=1)\n",
    "im = ax.imshow(gen_image_fun(Gs, np.random.rand(1, Z_SIZE), noise_vars, Gs_kwargs))\n",
    "plt.tight_layout()\n",
    "plt.axis('off')\n",
    "\n",
    "#prevent any output for this cell\n",
    "plt.close()\n",
    "\n",
    "def on_button_clicked(b):\n",
    "    fig.savefig(res_dir / \"picked\" / (datetime.now().strftime(\"%Y%m%d_%H%M%S\") + '.png'))\n",
    "button.on_click(on_button_clicked)"
   ]
  },
  {
   "cell_type": "code",
   "execution_count": null,
   "metadata": {},
   "outputs": [],
   "source": [
    "data_dir = res_dir / 'projection' / MODEL_NAME / SNAPSHOT_NAME / '20200202_111713'\n",
    "entries = [p.name for p in data_dir.glob(\"*\") if p.is_dir()]\n",
    "entries.remove('tfrecords')"
   ]
  },
  {
   "cell_type": "code",
   "execution_count": null,
   "metadata": {},
   "outputs": [],
   "source": [
    "%matplotlib inline\n",
    "\n",
    "display(button)\n",
    "@interact\n",
    "def i_style_mixing(entry1 = entries, entry2 = entries,\n",
    "                   from_layer = np.arange(0, 18), to_layer = np.arange(0, 18),\n",
    "                   alpha = (-0.5, 1.5)):\n",
    "    assert from_layer <= to_layer\n",
    "    \n",
    "    latents_1 = data_dir / entry1 / \"image_latents2000.npy\"\n",
    "    latents_2 = data_dir / entry2 / \"image_latents2000.npy\"\n",
    "    \n",
    "    gen_image = generate_mix(latents_1, latents_2, \n",
    "                             style_layers_idxs=np.arange(from_layer, to_layer), \n",
    "                             synth_image_fun=lambda dlatens : synth_image_fun(Gs, dlatens, randomize_noise=True),\n",
    "                             alpha=alpha)\n",
    "    im.set_data(gen_image)\n",
    "    display(fig)"
   ]
  },
  {
   "cell_type": "markdown",
   "metadata": {},
   "source": [
    "# Morphing"
   ]
  },
  {
   "cell_type": "code",
   "execution_count": null,
   "metadata": {},
   "outputs": [],
   "source": [
    "latents0 = load_latents(data_dir / \"out_0/image_latents1000.npy\")\n",
    "latents1 = load_latents(data_dir / \"out_1/image_latents1000.npy\")"
   ]
  },
  {
   "cell_type": "code",
   "execution_count": null,
   "metadata": {},
   "outputs": [],
   "source": [
    "generative_utils.animate_latent_transition([latents0, latents1],\n",
    "                                            gen_image_fun = gen_mix_fun,\n",
    "                                            gen_latent_fun=lambda ls, idx: generative_utils.morph_latent(ls, idx, 90),\n",
    "                                           img_size=IMG_SIZE, nb_frames=89,\n",
    "                                           render_dir=res_dir / 'projection' / \".mp4\")"
   ]
  }
 ],
 "metadata": {
  "kernelspec": {
   "display_name": "StyleGAN",
   "language": "python",
   "name": "stylegan"
  },
  "language_info": {
   "codemirror_mode": {
    "name": "ipython",
    "version": 3
   },
   "file_extension": ".py",
   "mimetype": "text/x-python",
   "name": "python",
   "nbconvert_exporter": "python",
   "pygments_lexer": "ipython3",
   "version": "3.6.9"
  },
  "notify_time": "30",
  "toc": {
   "base_numbering": 1,
   "nav_menu": {},
   "number_sections": true,
   "sideBar": true,
   "skip_h1_title": false,
   "title_cell": "Table of Contents",
   "title_sidebar": "Contents",
   "toc_cell": true,
   "toc_position": {},
   "toc_section_display": true,
   "toc_window_display": true
  }
 },
 "nbformat": 4,
 "nbformat_minor": 2
}
