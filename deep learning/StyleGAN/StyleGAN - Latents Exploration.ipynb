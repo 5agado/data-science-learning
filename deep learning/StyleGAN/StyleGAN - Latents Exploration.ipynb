{
 "cells": [
  {
   "cell_type": "markdown",
   "metadata": {
    "toc": true
   },
   "source": [
    "<h1>Table of Contents<span class=\"tocSkip\"></span></h1>\n",
    "<div class=\"toc\"><ul class=\"toc-item\"><li><span><a href=\"#Load-Network\" data-toc-modified-id=\"Load-Network-1\"><span class=\"toc-item-num\">1&nbsp;&nbsp;</span>Load Network</a></span></li><li><span><a href=\"#Style-Mixing\" data-toc-modified-id=\"Style-Mixing-2\"><span class=\"toc-item-num\">2&nbsp;&nbsp;</span>Style Mixing</a></span></li><li><span><a href=\"#Latents-Transition/Morphing\" data-toc-modified-id=\"Latents-Transition/Morphing-3\"><span class=\"toc-item-num\">3&nbsp;&nbsp;</span>Latents Transition/Morphing</a></span></li><li><span><a href=\"#Explore-PSI\" data-toc-modified-id=\"Explore-PSI-4\"><span class=\"toc-item-num\">4&nbsp;&nbsp;</span>Explore PSI</a></span></li><li><span><a href=\"#Explore-Latents-Indexes\" data-toc-modified-id=\"Explore-Latents-Indexes-5\"><span class=\"toc-item-num\">5&nbsp;&nbsp;</span>Explore Latents Indexes</a></span></li></ul></div>"
   ]
  },
  {
   "cell_type": "markdown",
   "metadata": {},
   "source": [
    "Playground for experiments with StyleGANv2 latents.\n",
    "Includes interactive style mixing, latents interpolation or morphing and latents tweaking."
   ]
  },
  {
   "cell_type": "code",
   "execution_count": null,
   "metadata": {},
   "outputs": [],
   "source": [
    "from pathlib import Path\n",
    "import matplotlib.pyplot as plt\n",
    "import numpy as np\n",
    "import sys\n",
    "import os\n",
    "from datetime import datetime\n",
    "from tqdm import tqdm\n",
    "import imageio\n",
    "from ipywidgets import interact, interact_manual\n",
    "from IPython.display import display\n",
    "\n",
    "import warnings\n",
    "warnings.filterwarnings('ignore', category=FutureWarning)\n",
    "\n",
    "# ffmpeg installation location, for creating videos\n",
    "plt.rcParams['animation.ffmpeg_path'] = str(Path.home() / \"Documents/dev_tools/ffmpeg-20190623-ffa64a4-win64-static/bin/ffmpeg.exe\")\n",
    "\n",
    "%load_ext autoreload\n",
    "%autoreload 2\n",
    "\n",
    "# StyleGAN Utils\n",
    "from stylegan_utils import load_network, gen_image_fun, synth_image_fun, create_video\n",
    "from stylegan_utils import load_latents, get_ipywidget_elements, load_directions\n",
    "\n",
    "# StyleGAN2 Repo\n",
    "sys.path.append(os.path.join(os.pardir, 'stylegan2encoder'))\n",
    "\n",
    "import projector\n",
    "import training.dataset\n",
    "\n",
    "# Data Science Utils\n",
    "sys.path.append(os.path.join(os.pardir, 'data-science-learning'))\n",
    "\n",
    "from ds_utils import generative_utils"
   ]
  },
  {
   "cell_type": "code",
   "execution_count": null,
   "metadata": {},
   "outputs": [],
   "source": [
    "res_dir = Path.home() / 'Documents/generated_data/stylegan'"
   ]
  },
  {
   "cell_type": "markdown",
   "metadata": {},
   "source": [
    "# Load Network"
   ]
  },
  {
   "cell_type": "code",
   "execution_count": null,
   "metadata": {},
   "outputs": [],
   "source": [
    "MODELS_DIR = Path(\"C:/Users/User/Documents/models/stylegan2\")\n",
    "MODEL_NAME = 'drawing2_1024'\n",
    "SNAPSHOT_NAME = 'network-snapshot-002048'\n",
    "\n",
    "Gs, Gs_kwargs, noise_vars = load_network(str(MODELS_DIR / MODEL_NAME / SNAPSHOT_NAME) + '.pkl')\n",
    "\n",
    "Z_SIZE = Gs.input_shape[1:][0]\n",
    "IMG_SIZE = Gs.output_shape[2:]\n",
    "IMG_SIZE"
   ]
  },
  {
   "cell_type": "markdown",
   "metadata": {},
   "source": [
    "# Style Mixing"
   ]
  },
  {
   "cell_type": "code",
   "execution_count": null,
   "metadata": {},
   "outputs": [],
   "source": [
    "# used when saving the currently displayed image\n",
    "current_displayed_latents = None\n",
    "current_displayed_img = None\n",
    "\n",
    "# save directory\n",
    "save_dir = res_dir / 'projection' / MODEL_NAME / SNAPSHOT_NAME / \"picked\"\n",
    "save_dir.mkdir(parents=True, exist_ok=True)"
   ]
  },
  {
   "cell_type": "code",
   "execution_count": null,
   "metadata": {},
   "outputs": [],
   "source": [
    "def mix_latents(latents_1, latents_2, layers_idxs, alpha=1.):\n",
    "    latents_1 = load_latents(latents_1)\n",
    "    latents_2 = load_latents(latents_2)\n",
    "    \n",
    "    assert latents_1.shape == latents_2.shape\n",
    "        \n",
    "    # crossover option, from latents_1 to latents_2\n",
    "    mixed_latents = latents_2.copy()\n",
    "    mixed_latents[layers_idxs] = latents_1[layers_idxs] * alpha + mixed_latents[layers_idxs] * (1.-alpha)\n",
    "    \n",
    "    return mixed_latents"
   ]
  },
  {
   "cell_type": "code",
   "execution_count": null,
   "metadata": {},
   "outputs": [],
   "source": [
    "# util to get names of various latents\n",
    "target_dir_name = ''\n",
    "data_dir = res_dir / 'projection' / MODEL_NAME / SNAPSHOT_NAME / target_dir_name\n",
    "entries = [p.name for p in data_dir.glob(\"*\") if p.is_dir()]\n",
    "entries.remove('tfrecords')\n",
    "entries2 = np.arange(30)\n",
    "\n",
    "# load directions\n",
    "directions_dir = MODELS_DIR / MODEL_NAME / 'ganspace/directions_01'\n",
    "directions = load_directions(directions_dir, is_ganspace=True)\n",
    "print(directions.keys())"
   ]
  },
  {
   "cell_type": "code",
   "execution_count": null,
   "metadata": {
    "scrolled": false
   },
   "outputs": [],
   "source": [
    "%matplotlib notebook\n",
    "\n",
    "# Setup plot image\n",
    "fig, ax = plt.subplots(figsize=(9, 9))\n",
    "fig.subplots_adjust(left=0, right=1, bottom=0, top=1, hspace=0, wspace=0)\n",
    "plt.axis('off')\n",
    "im = ax.imshow(gen_image_fun(Gs, np.random.randn(1, Z_SIZE), Gs_kwargs, noise_vars))\n",
    "\n",
    "def on_button_clicked(b):\n",
    "    global current_displayed_latents, current_displayed_img\n",
    "    \n",
    "    timestamp = datetime.now().strftime(\"%Y%m%d_%H%M%S\")\n",
    "    \n",
    "    plt.imsave(save_dir / (timestamp + '.png'), current_displayed_img)\n",
    "    np.save(save_dir / (timestamp + '.npy'), current_displayed_latents)\n",
    "\n",
    "def i_style_mixing(entry1, entry2, layers_idxs, alpha, directions_coeffs, directions_layers):\n",
    "    latents_1 =res_dir / 'projection' / MODEL_NAME / SNAPSHOT_NAME / target_dir_name / f'{entry1}' / 'image_latents1000.npy'\n",
    "    latents_2 = res_dir / 'projection' / MODEL_NAME / SNAPSHOT_NAME / 'rand_gen/psi05' / f'{entry2}.npy'\n",
    "    \n",
    "    layers_idxs=np.arange(layers_idxs[0], layers_idxs[1])\n",
    "    \n",
    "    # compute mixed latents\n",
    "    mixed_latents = mix_latents(latents_2, latents_1, layers_idxs=layers_idxs, alpha=alpha)\n",
    "    \n",
    "    # add directions\n",
    "    for direction_name, coeff in directions_coeffs.items():\n",
    "        if coeff != 0.:\n",
    "            d_layers_idxs = directions_layers[direction_name]\n",
    "            mixed_latents[d_layers_idxs] = mixed_latents[d_layers_idxs] + (coeff * directions[direction_name])\n",
    "    \n",
    "    # generate image\n",
    "    gen_image = synth_image_fun(Gs, mixed_latents[np.newaxis, :, :], Gs_kwargs, randomize_noise=True)\n",
    "    \n",
    "    # store in case we want to export results from widget\n",
    "    global current_displayed_latents, current_displayed_img\n",
    "    current_displayed_latents = mix_latents\n",
    "    current_displayed_img = gen_image\n",
    "    \n",
    "    im.set_data(gen_image)\n",
    "\n",
    "# ipywdigets setup\n",
    "display_element = get_ipywidget_elements(i_style_mixing, on_button_clicked, entries, entries2, list(directions.keys()))\n",
    "display(display_element)"
   ]
  },
  {
   "cell_type": "markdown",
   "metadata": {},
   "source": [
    "# Latents Transition/Morphing"
   ]
  },
  {
   "cell_type": "code",
   "execution_count": null,
   "metadata": {},
   "outputs": [],
   "source": [
    "#PLOT_IMG_SHAPE = (512, 512, 3)\n",
    "PLOT_IMG_SHAPE = (IMG_SIZE[0], IMG_SIZE[1], 3)"
   ]
  },
  {
   "cell_type": "code",
   "execution_count": null,
   "metadata": {},
   "outputs": [],
   "source": [
    "render_dir = res_dir / MODEL_NAME / SNAPSHOT_NAME / \"explore_latent\"\n",
    "\n",
    "nb_samples = 2\n",
    "nb_transition_frames = 450\n",
    "nb_frames = min(450, (nb_samples-1)*nb_transition_frames)\n",
    "\n",
    "psi=1\n",
    "\n",
    "# run animation\n",
    "for i in range(0, 2):\n",
    "    # setup the passed latents\n",
    "    z_s = np.random.randn(nb_samples, Z_SIZE)\n",
    "    #latents = Gs.components.mapping.run(z_s, None)\n",
    "    passed_latents=z_s\n",
    "    \n",
    "    animate_latent_transition(latent_vectors=passed_latents, \n",
    "                             #gen_image_fun=synth_image_fun,\n",
    "                             gen_image_fun=lambda latents : gen_image_fun(Gs, latents, Gs_kwargs, truncation_psi=psi),\n",
    "                             gen_latent_fun=lambda z_s, i: gen_latent_linear(passed_latents, i, nb_transition_frames),\n",
    "                             img_size=PLOT_IMG_SHAPE,\n",
    "                             nb_frames=nb_frames,\n",
    "                             render_dir=render_dir / \"transitions\")"
   ]
  },
  {
   "cell_type": "markdown",
   "metadata": {},
   "source": [
    "# Explore PSI"
   ]
  },
  {
   "cell_type": "code",
   "execution_count": null,
   "metadata": {},
   "outputs": [],
   "source": [
    "#PLOT_IMG_SHAPE = (512, 512, 3)\n",
    "PLOT_IMG_SHAPE = (IMG_SIZE[0], IMG_SIZE[1], 3)"
   ]
  },
  {
   "cell_type": "code",
   "execution_count": null,
   "metadata": {},
   "outputs": [],
   "source": [
    "render_dir = res_dir / MODEL_NAME / SNAPSHOT_NAME / 'explore_latent'\n",
    "\n",
    "nb_samples = 20\n",
    "nb_transition_frames = 24\n",
    "nb_frames = min(450, (nb_samples-1)*nb_transition_frames)\n",
    "\n",
    "# setup the passed latents\n",
    "z_s = np.random.randn(nb_samples, Z_SIZE)\n",
    "#latents = Gs.components.mapping.run(z_s, None)\n",
    "passed_latents = z_s\n",
    "\n",
    "# run animation\n",
    "#[2., 1.5, 1., 0.7, 0.5, 0., -0.5, -0.7, -1., -1.5, -2.]\n",
    "for psi in np.linspace(-0.5, 1.5, 9):\n",
    "    animate_latent_transition(latent_vectors=passed_latents, \n",
    "                             #gen_image_fun=synth_image_fun,\n",
    "                             gen_image_fun=lambda latents : gen_image_fun(Gs, latents, Gs_kwargs, truncation_psi=psi),\n",
    "                             gen_latent_fun=lambda z_s, i: gen_latent_linear(passed_latents, i, nb_transition_frames),\n",
    "                             img_size=PLOT_IMG_SHAPE,\n",
    "                             nb_frames=nb_frames,\n",
    "                             render_dir=render_dir / 'psi',\n",
    "                             file_prefix='psi{}'.format(str(psi).replace('.', '_')[:5]))"
   ]
  },
  {
   "cell_type": "markdown",
   "metadata": {},
   "source": [
    "# Explore Latents Indexes"
   ]
  },
  {
   "cell_type": "code",
   "execution_count": null,
   "metadata": {},
   "outputs": [],
   "source": [
    "#PLOT_IMG_SHAPE = (512, 512, 3)\n",
    "PLOT_IMG_SHAPE = (IMG_SIZE[0], IMG_SIZE[1], 3)"
   ]
  },
  {
   "cell_type": "code",
   "execution_count": null,
   "metadata": {},
   "outputs": [],
   "source": [
    "render_dir = res_dir / MODEL_NAME / SNAPSHOT_NAME / \"explore_latent\"\n",
    "\n",
    "nb_transition_frames = 48\n",
    "\n",
    "# random list of z vectors\n",
    "#rand_idx = np.random.randint(len(X_train))\n",
    "z_start = np.random.randn(1, Z_SIZE)\n",
    "#dlatents = Gs.components.mapping.run(z_start, None, dlatent_broadcast=None)\n",
    "#vals = np.linspace(-2., 2., nb_transition_frames)\n",
    "nb_styles = dlatents.shape[0]\n",
    "stylelatent_vals= np.random.randn(nb_transition_frames, Z_SIZE) + np.linspace(-1., 1., nb_transition_frames)[:, np.newaxis]\n",
    "\n",
    "for z_idx in range(nb_styles):\n",
    "    animate_latent_transition(latent_vectors=dlatents[0], \n",
    "                             gen_image_fun=synth_image_fun,\n",
    "                             gen_latent_fun=lambda z_s, i: gen_latent_style_idx(dlatents[0], i, z_idx, stylelatent_vals),\n",
    "                             img_size=PLOT_IMG_SHAPE,\n",
    "                             nb_frames=nb_transition_frames,\n",
    "                             render_dir=render_dir / 'latent_indexes')"
   ]
  }
 ],
 "metadata": {
  "kernelspec": {
   "display_name": "StyleGAN",
   "language": "python",
   "name": "stylegan"
  },
  "language_info": {
   "codemirror_mode": {
    "name": "ipython",
    "version": 3
   },
   "file_extension": ".py",
   "mimetype": "text/x-python",
   "name": "python",
   "nbconvert_exporter": "python",
   "pygments_lexer": "ipython3",
   "version": "3.6.9"
  },
  "notify_time": "30",
  "toc": {
   "base_numbering": 1,
   "nav_menu": {},
   "number_sections": true,
   "sideBar": true,
   "skip_h1_title": false,
   "title_cell": "Table of Contents",
   "title_sidebar": "Contents",
   "toc_cell": true,
   "toc_position": {
    "height": "calc(100% - 180px)",
    "left": "10px",
    "top": "150px",
    "width": "281.6px"
   },
   "toc_section_display": true,
   "toc_window_display": true
  }
 },
 "nbformat": 4,
 "nbformat_minor": 2
}
