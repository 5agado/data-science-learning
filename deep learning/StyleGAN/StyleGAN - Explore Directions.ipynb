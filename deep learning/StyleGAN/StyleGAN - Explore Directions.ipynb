{
 "cells": [
  {
   "cell_type": "code",
   "execution_count": null,
   "metadata": {},
   "outputs": [],
   "source": [
    "from pathlib import Path\n",
    "import matplotlib.pyplot as plt\n",
    "import numpy as np\n",
    "import sys\n",
    "import os\n",
    "from datetime import datetime\n",
    "from tqdm import tqdm\n",
    "\n",
    "# ffmpeg installation location, for creating videos\n",
    "plt.rcParams['animation.ffmpeg_path'] = str('/usr/bin/ffmpeg')\n",
    "import ipywidgets as widgets\n",
    "from ipywidgets import interact, interact_manual\n",
    "from IPython.display import display\n",
    "from ipywidgets import Button\n",
    "\n",
    "os.environ['TF_CPP_MIN_LOG_LEVEL'] = '2'\n",
    "\n",
    "%load_ext autoreload\n",
    "%autoreload 2\n",
    "\n",
    "# StyleGAN2 Repo\n",
    "sys.path.append('/tf/notebooks/stylegan2')\n",
    "\n",
    "# StyleGAN Utils\n",
    "from stylegan_utils import load_network, gen_image_fun, synth_image_fun, create_video\n",
    "# v1 override\n",
    "from stylegan_utils import load_network_v1 as load_network\n",
    "from stylegan_utils import gen_image_fun_v1 as gen_image_fun\n",
    "from stylegan_utils import synth_image_fun_v1 as synth_image_fun\n",
    "\n",
    "import run_projector\n",
    "import projector\n",
    "import training.dataset\n",
    "import training.misc\n",
    "\n",
    "# Data Science Utils\n",
    "sys.path.append(os.path.join(*[os.pardir]*3, 'data-science-learning'))\n",
    "\n",
    "from ds_utils import generative_utils"
   ]
  },
  {
   "cell_type": "code",
   "execution_count": null,
   "metadata": {},
   "outputs": [],
   "source": [
    "res_dir = Path('/tf/media/datasets/stylegan/result_dir')"
   ]
  },
  {
   "cell_type": "markdown",
   "metadata": {},
   "source": [
    "# Load Network"
   ]
  },
  {
   "cell_type": "code",
   "execution_count": null,
   "metadata": {},
   "outputs": [],
   "source": [
    "MODELS_DIR = res_dir\n",
    "MODEL_NAME = '00008-sgan-dress512-2gpu'\n",
    "SNAPSHOT_NAME = 'network-snapshot-010742'\n",
    "\n",
    "Gs, Gs_kwargs, _ = load_network(str(MODELS_DIR / MODEL_NAME / SNAPSHOT_NAME) + '.pkl')\n",
    "\n",
    "Z_SIZE = Gs.input_shape[1]\n",
    "IMG_SIZE = Gs.output_shape[2:]\n",
    "IMG_SIZE"
   ]
  },
  {
   "cell_type": "code",
   "execution_count": null,
   "metadata": {},
   "outputs": [],
   "source": [
    "img = gen_image_fun(Gs, np.random.randn(1, Z_SIZE), Gs_kwargs, False, truncation_psi=1)\n",
    "plt.imshow(img)"
   ]
  },
  {
   "cell_type": "markdown",
   "metadata": {},
   "source": [
    "# Explore Directions"
   ]
  },
  {
   "cell_type": "code",
   "execution_count": null,
   "metadata": {},
   "outputs": [],
   "source": [
    "def plot_direction_grid(dlatent, direction, coeffs):\n",
    "    fig, ax = plt.subplots(1, len(coeffs), figsize=(15, 10), dpi=100)\n",
    "    \n",
    "    for i, coeff in enumerate(coeffs):\n",
    "        new_latent = (dlatent.copy() + coeff*direction)\n",
    "        ax[i].imshow(synth_image_fun(Gs, new_latent, Gs_kwargs, randomize_noise=False))\n",
    "        ax[i].set_title(f'Coeff: {coeff:0.1f}')\n",
    "        ax[i].axis('off')\n",
    "    plt.show()"
   ]
  },
  {
   "cell_type": "code",
   "execution_count": null,
   "metadata": {},
   "outputs": [],
   "source": [
    "# load learned direction\n",
    "direction = np.load('/tf/media/datasets/stylegan/learned_directions.npy')"
   ]
  },
  {
   "cell_type": "code",
   "execution_count": null,
   "metadata": {},
   "outputs": [],
   "source": [
    "nb_latents = 5\n",
    "\n",
    "# generate dlatents from mapping network\n",
    "dlatents = Gs.components.mapping.run(np.random.rand(nb_latents, Z_SIZE), None, truncation_psi=1.)\n",
    "\n",
    "for i in range(nb_latents):\n",
    "    plot_direction_grid(dlatents[i:i+1], direction, np.linspace(-2, 2, 5))"
   ]
  },
  {
   "cell_type": "markdown",
   "metadata": {},
   "source": [
    "## Interactive"
   ]
  },
  {
   "cell_type": "code",
   "execution_count": null,
   "metadata": {},
   "outputs": [],
   "source": [
    "# Setup plot image\n",
    "dpi = 100\n",
    "fig, ax = plt.subplots(dpi=dpi, figsize=(IMG_SIZE[0]/dpi, IMG_SIZE[1]/dpi))\n",
    "fig.subplots_adjust(left=0, right=1, bottom=0, top=1, hspace=0, wspace=0)\n",
    "plt.axis('off')\n",
    "im = ax.imshow(gen_image_fun(Gs, np.random.randn(1, Z_SIZE), Gs_kwargs, False, truncation_psi=1))\n",
    "\n",
    "#prevent any output for this cell\n",
    "plt.close()"
   ]
  },
  {
   "cell_type": "code",
   "execution_count": null,
   "metadata": {},
   "outputs": [],
   "source": [
    "%matplotlib inline\n",
    "\n",
    "dlatents = Gs.components.mapping.run(np.random.rand(nb_latents, Z_SIZE), None, truncation_psi=0.5)\n",
    "latent_vector = dlatents[0:1]\n",
    "\n",
    "@interact\n",
    "def i_direction(coeff = (-2., 2.)):\n",
    "    new_latent_vector = latent_vector.copy()\n",
    "    new_latent_vector = (latent_vector + coeff*direction)\n",
    "    im.set_data(synth_image_fun(Gs, new_latent_vector, Gs_kwargs, False))\n",
    "    ax.set_title('Coeff: %0.1f' % coeff)\n",
    "    display(fig)"
   ]
  }
 ],
 "metadata": {
  "kernelspec": {
   "display_name": "Python 3",
   "language": "python",
   "name": "python3"
  },
  "language_info": {
   "codemirror_mode": {
    "name": "ipython",
    "version": 3
   },
   "file_extension": ".py",
   "mimetype": "text/x-python",
   "name": "python",
   "nbconvert_exporter": "python",
   "pygments_lexer": "ipython3",
   "version": "3.6.8"
  }
 },
 "nbformat": 4,
 "nbformat_minor": 2
}
