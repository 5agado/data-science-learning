{
 "cells": [
  {
   "cell_type": "markdown",
   "metadata": {
    "toc": true
   },
   "source": [
    "<h1>Table of Contents<span class=\"tocSkip\"></span></h1>\n",
    "<div class=\"toc\"><ul class=\"toc-item\"><li><span><a href=\"#Load-Network\" data-toc-modified-id=\"Load-Network-1\"><span class=\"toc-item-num\">1&nbsp;&nbsp;</span>Load Network</a></span></li><li><span><a href=\"#Project\" data-toc-modified-id=\"Project-2\"><span class=\"toc-item-num\">2&nbsp;&nbsp;</span>Project</a></span></li><li><span><a href=\"#Generate-Images\" data-toc-modified-id=\"Generate-Images-3\"><span class=\"toc-item-num\">3&nbsp;&nbsp;</span>Generate Images</a></span></li></ul></div>"
   ]
  },
  {
   "cell_type": "markdown",
   "metadata": {},
   "source": [
    "Project/embed real images into StyleGANv2 latent space."
   ]
  },
  {
   "cell_type": "code",
   "execution_count": null,
   "metadata": {},
   "outputs": [],
   "source": [
    "from pathlib import Path\n",
    "import matplotlib.pyplot as plt\n",
    "import numpy as np\n",
    "import sys\n",
    "import os\n",
    "from datetime import datetime\n",
    "from tqdm import tqdm\n",
    "\n",
    "# ffmpeg installation location, for creating videos\n",
    "plt.rcParams['animation.ffmpeg_path'] = str(Path.home() / \"Documents/dev_tools/ffmpeg-20190623-ffa64a4-win64-static/bin/ffmpeg.exe\")\n",
    "\n",
    "os.environ['TF_CPP_MIN_LOG_LEVEL'] = '2'\n",
    "\n",
    "%load_ext autoreload\n",
    "%autoreload 2\n",
    "\n",
    "# StyleGAN Utils\n",
    "from stylegan_utils import load_network, gen_image_fun, synth_image_fun, create_video\n",
    "\n",
    "# StyleGAN2 Repo\n",
    "sys.path.append(os.path.join(os.pardir, 'stylegan2encoder'))\n",
    "\n",
    "import dnnlib\n",
    "import dataset_tool\n",
    "import run_projector\n",
    "import projector\n",
    "import training.dataset\n",
    "import training.misc\n",
    "\n",
    "# Data Science Utils\n",
    "sys.path.append(os.path.join(os.pardir, 'data-science-learning'))\n",
    "\n",
    "from ds_utils import generative_utils"
   ]
  },
  {
   "cell_type": "code",
   "execution_count": null,
   "metadata": {},
   "outputs": [],
   "source": [
    "res_dir = Path.home() / 'Documents/generated_data/stylegan'"
   ]
  },
  {
   "cell_type": "markdown",
   "metadata": {},
   "source": [
    "# Load Network"
   ]
  },
  {
   "cell_type": "code",
   "execution_count": null,
   "metadata": {},
   "outputs": [],
   "source": [
    "MODELS_DIR = Path(\"C:/Users/User/Documents/models/stylegan2\")\n",
    "MODEL_NAME = 'original_ffhq'\n",
    "SNAPSHOT_NAME = 'stylegan2-ffhq-config-f'\n",
    "\n",
    "Gs, Gs_kwargs, noise_vars = load_network(str(MODELS_DIR / MODEL_NAME / SNAPSHOT_NAME) + '.pkl')\n",
    "\n",
    "Z_SIZE = Gs.input_shape[1:][0]\n",
    "IMG_SIZE = Gs.output_shape[2:]\n",
    "IMG_SIZE"
   ]
  },
  {
   "cell_type": "markdown",
   "metadata": {},
   "source": [
    "# Project"
   ]
  },
  {
   "cell_type": "code",
   "execution_count": null,
   "metadata": {},
   "outputs": [],
   "source": [
    "def project_images(images_dir, tfrecord_dir, data_dir, num_steps, num_snapshots):\n",
    "    # setup projector\n",
    "    print('Setting up projector')\n",
    "    proj = projector.Projector(num_steps=num_steps)\n",
    "    proj.set_network(Gs)\n",
    "    \n",
    "    # generate tfrecords\n",
    "    nb_images = dataset_tool.create_from_images(str(tfrecord_dir), str(images_dir), True)\n",
    "\n",
    "    # loading images from tfrecords\n",
    "    dataset_obj = training.dataset.load_dataset(data_dir=str(data_dir), tfrecord_dir=tfrecord_dir, \n",
    "                                                max_label_size=0, verbose=True, repeat=False, shuffle_mb=0)\n",
    "    assert dataset_obj.shape == Gs.output_shape[1:]\n",
    "    \n",
    "    # project all loaded images\n",
    "    print('=======================')\n",
    "    for image_idx in tqdm(range(nb_images)):\n",
    "        print(f'Projecting image {image_idx}/{nb_images}')\n",
    "        \n",
    "        images, _labels = dataset_obj.get_minibatch_np(1)\n",
    "        images = training.misc.adjust_dynamic_range(images, [0, 255], [-1, 1])\n",
    "        \n",
    "        run_path = data_dir / f'out_{image_idx}'\n",
    "        run_path.mkdir()\n",
    "        run_projector.project_image(proj, targets=images, \n",
    "                                    png_prefix=dnnlib.make_run_dir_path(str(run_path / 'image_')), \n",
    "                                    num_snapshots=num_snapshots)"
   ]
  },
  {
   "cell_type": "code",
   "execution_count": null,
   "metadata": {},
   "outputs": [],
   "source": [
    "data_dir = res_dir / 'projection' / MODEL_NAME / SNAPSHOT_NAME / datetime.now().strftime(\"%Y%m%d_%H%M%S\") # where the projections results will be saved\n",
    "images_dir = Path.home() / 'Documents/generated_data/face_extract' / 'tmp_portraits'\n",
    "\n",
    "tfrecord_dir = data_dir / 'tfrecords'\n",
    "project_images(images_dir=images_dir, tfrecord_dir=tfrecord_dir, data_dir=data_dir, \n",
    "               num_steps=2000, num_snapshots=50)"
   ]
  },
  {
   "cell_type": "code",
   "execution_count": null,
   "metadata": {},
   "outputs": [],
   "source": [
    "create_video(data_dir / 'out_7', \n",
    "             res_dir / 'projection' / 'out_{}.mp4'.format('test'))"
   ]
  },
  {
   "cell_type": "markdown",
   "metadata": {},
   "source": [
    "# Generate Images"
   ]
  },
  {
   "cell_type": "code",
   "execution_count": null,
   "metadata": {},
   "outputs": [],
   "source": [
    "# network args\n",
    "Gs_kwargs.truncation_psi = 0.1"
   ]
  },
  {
   "cell_type": "code",
   "execution_count": null,
   "metadata": {},
   "outputs": [],
   "source": [
    "target_latents = np.random.rand(1, Z_SIZE)"
   ]
  },
  {
   "cell_type": "code",
   "execution_count": null,
   "metadata": {},
   "outputs": [],
   "source": [
    "img = gen_image_fun(Gs, target_latents, noise_vars, Gs_kwargs)\n",
    "plt.imshow(img)"
   ]
  },
  {
   "cell_type": "code",
   "execution_count": null,
   "metadata": {},
   "outputs": [],
   "source": [
    "img = synth_image_fun(Gs, target_latents[np.newaxis,:,:], randomize_noise=True)\n",
    "plt.imshow(img)"
   ]
  }
 ],
 "metadata": {
  "kernelspec": {
   "display_name": "StyleGAN",
   "language": "python",
   "name": "stylegan"
  },
  "language_info": {
   "codemirror_mode": {
    "name": "ipython",
    "version": 3
   },
   "file_extension": ".py",
   "mimetype": "text/x-python",
   "name": "python",
   "nbconvert_exporter": "python",
   "pygments_lexer": "ipython3",
   "version": "3.6.9"
  },
  "toc": {
   "base_numbering": 1,
   "nav_menu": {},
   "number_sections": true,
   "sideBar": true,
   "skip_h1_title": false,
   "title_cell": "Table of Contents",
   "title_sidebar": "Contents",
   "toc_cell": true,
   "toc_position": {},
   "toc_section_display": true,
   "toc_window_display": true
  }
 },
 "nbformat": 4,
 "nbformat_minor": 2
}
