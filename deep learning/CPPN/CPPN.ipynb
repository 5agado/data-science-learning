{
 "cells": [
  {
   "cell_type": "markdown",
   "metadata": {
    "toc": true
   },
   "source": [
    "<h1>Table of Contents<span class=\"tocSkip\"></span></h1>\n",
    "<div class=\"toc\"><ul class=\"toc-item\"><li><span><a href=\"#Instantiate-CPPN\" data-toc-modified-id=\"Instantiate-CPPN-1\"><span class=\"toc-item-num\">1&nbsp;&nbsp;</span>Instantiate CPPN</a></span></li><li><span><a href=\"#Generate-Image\" data-toc-modified-id=\"Generate-Image-2\"><span class=\"toc-item-num\">2&nbsp;&nbsp;</span>Generate Image</a></span><ul class=\"toc-item\"><li><span><a href=\"#Export\" data-toc-modified-id=\"Export-2.1\"><span class=\"toc-item-num\">2.1&nbsp;&nbsp;</span>Export</a></span></li></ul></li><li><span><a href=\"#Animation\" data-toc-modified-id=\"Animation-3\"><span class=\"toc-item-num\">3&nbsp;&nbsp;</span>Animation</a></span><ul class=\"toc-item\"><li><span><a href=\"#Marching-Cubes\" data-toc-modified-id=\"Marching-Cubes-3.1\"><span class=\"toc-item-num\">3.1&nbsp;&nbsp;</span>Marching Cubes</a></span></li></ul></li><li><span><a href=\"#Parameters-Grid-Search\" data-toc-modified-id=\"Parameters-Grid-Search-4\"><span class=\"toc-item-num\">4&nbsp;&nbsp;</span>Parameters Grid Search</a></span></li></ul></div>"
   ]
  },
  {
   "cell_type": "code",
   "execution_count": null,
   "metadata": {},
   "outputs": [],
   "source": [
    "import numpy as np\n",
    "import yaml\n",
    "import os\n",
    "import cv2\n",
    "import pandas as pd\n",
    "import seaborn as sns\n",
    "import matplotlib.pyplot as plt\n",
    "from matplotlib import animation\n",
    "from datetime import datetime\n",
    "\n",
    "from pathlib import Path\n",
    "\n",
    "plt.rcParams['animation.ffmpeg_path'] = str(Path.home() / \"anaconda3/envs/image-processing/bin/ffmpeg\")\n",
    "\n",
    "%matplotlib notebook\n",
    "\n",
    "%load_ext autoreload\n",
    "%autoreload 2\n",
    "\n",
    "from CPPN import CPPN\n",
    "from ds_utils.voxel_utils import get_sphere_mask\n",
    "from ds_utils.video_utils import generate_video"
   ]
  },
  {
   "cell_type": "markdown",
   "metadata": {},
   "source": [
    "# Instantiate CPPN"
   ]
  },
  {
   "cell_type": "code",
   "execution_count": null,
   "metadata": {},
   "outputs": [],
   "source": [
    "res_path = Path.home() / 'Documents/generated_data/cppn'"
   ]
  },
  {
   "cell_type": "code",
   "execution_count": null,
   "metadata": {},
   "outputs": [],
   "source": [
    "extra_funs= {\n",
    "    'base': lambda x,y,z: x*y*z,\n",
    "    'cos_sin': lambda x,y,z: np.cos(x)*np.sin(y)*np.sin(z),\n",
    "    'cube': lambda x,y,z: x**3 + 3*y - y**3 -3*x + z**2 -z,\n",
    "    'rand': lambda x,y,z: np.sqrt(x*x+y*y+z*z) + (x*x) + np.tan(y) + 3*z,\n",
    "}"
   ]
  },
  {
   "cell_type": "code",
   "execution_count": null,
   "metadata": {},
   "outputs": [],
   "source": [
    "# load config file\n",
    "with open('cppn_config.yaml', 'r') as f:\n",
    "    model_config = yaml.load(f, Loader=yaml.FullLoader)\n",
    "model_config = model_config['base_bw']\n",
    "model_config"
   ]
  },
  {
   "cell_type": "code",
   "execution_count": null,
   "metadata": {},
   "outputs": [],
   "source": [
    "# OPTIONALLY customize model config\n",
    "model_config['nb_hidden_layers'] = 8\n",
    "#model_config['kernel_init_stddev'] = 1.\n",
    "model_config['kernel_init_mean'] = 0.\n",
    "model_config['nb_channels'] = 1\n",
    "\n",
    "#model_config['inner_architecture_key'] = 'residual'"
   ]
  },
  {
   "cell_type": "code",
   "execution_count": null,
   "metadata": {},
   "outputs": [],
   "source": [
    "# init model\n",
    "batch_size = 5\n",
    "\n",
    "img_width = img_height = 100\n",
    "img_depth = 1\n",
    "img_size = (img_width, img_height)\n",
    "\n",
    "cppn = CPPN(batch_size=batch_size, img_width=img_width, img_height=img_height, img_depth=img_depth,\n",
    "            **model_config)"
   ]
  },
  {
   "cell_type": "code",
   "execution_count": null,
   "metadata": {
    "scrolled": true
   },
   "outputs": [],
   "source": [
    "cppn.model.summary()"
   ]
  },
  {
   "cell_type": "markdown",
   "metadata": {},
   "source": [
    "# Generate Image"
   ]
  },
  {
   "cell_type": "code",
   "execution_count": null,
   "metadata": {},
   "outputs": [],
   "source": [
    "x, y, z, r, e = cppn.get_data(extra_fun=extra_funs['base'])\n",
    "latent = cppn.get_latent()"
   ]
  },
  {
   "cell_type": "code",
   "execution_count": null,
   "metadata": {},
   "outputs": [],
   "source": [
    "result_imgs = cppn.generate_imgs(x, y, z, r, e, latent)\n",
    "# as the results are 3D, we select only one slice through the 3rd dimension\n",
    "plt.imshow(result_imgs[0, :, :, 0], cmap='gray')"
   ]
  },
  {
   "cell_type": "markdown",
   "metadata": {},
   "source": [
    "## Export"
   ]
  },
  {
   "cell_type": "code",
   "execution_count": null,
   "metadata": {},
   "outputs": [],
   "source": [
    "# export results as numpy\n",
    "np.save(str(res_path / 'bw_3d_100_sphere.npy'), result_imgs[0])"
   ]
  },
  {
   "cell_type": "code",
   "execution_count": null,
   "metadata": {},
   "outputs": [],
   "source": [
    "# test load results\n",
    "np.load(str(res_path / 'numpy_exports/bw_1080.npy')).shape"
   ]
  },
  {
   "cell_type": "code",
   "execution_count": null,
   "metadata": {},
   "outputs": [],
   "source": [
    "# export as images\n",
    "for i, img in enumerate(result_imgs): \n",
    "    plt.imsave(str(res_path / f'numpy_exports/sample_{i}.png'), img, cmap='gray')"
   ]
  },
  {
   "cell_type": "markdown",
   "metadata": {},
   "source": [
    "# Animation"
   ]
  },
  {
   "cell_type": "code",
   "execution_count": null,
   "metadata": {},
   "outputs": [],
   "source": [
    "def animate_cppn(cppn, nb_frames: int, add_val: float, animate_data=False):\n",
    "    cppn_snapshot = []\n",
    "    \n",
    "    latent = cppn.get_latent()\n",
    "    x, y, z, r, e = cppn.get_data(scale=data_config['scale'], \n",
    "                               translation=data_config['translation'], \n",
    "                               rotation=data_config['rotation'], \n",
    "                               extra_fun=extra_funs[data_config['extra_fun']])\n",
    "\n",
    "    for i in range(nb_frames):\n",
    "        if i%10 == 0:\n",
    "            print(i)\n",
    "        latent_idx = int(i/(int(nb_frames/model_config['latent_dim'])))\n",
    "        #latent[0][latent_idx] += add_val\n",
    "        latent[0] += add_val\n",
    "        \n",
    "        if animate_data:\n",
    "            x, y, z, r, e = cppn.get_data(scale=data_config['scale']+i*data_config['scale_speed'], \n",
    "                                       translation=data_config['translation']+i*data_config['translation_speed'], \n",
    "                                       rotation=data_config['rotation']+i*data_config['rotation_speed'], \n",
    "                                       extra_fun=extra_funs[data_config['extra_fun']])\n",
    "\n",
    "        cppn_snapshot.append(cppn.generate_imgs(x, y, z, r, e, latent)[0])\n",
    "\n",
    "    cppn_snapshot = np.array(cppn_snapshot)\n",
    "    return cppn_snapshot"
   ]
  },
  {
   "cell_type": "code",
   "execution_count": null,
   "metadata": {},
   "outputs": [],
   "source": [
    "save_anim = False    # whether to save animation to file\n",
    "animate_data = True  # whether to retrieve new input data at each animation frame\n",
    "FRAMES = 100\n",
    "batch_size = 1\n",
    "img_width = img_height = img_depth = 50\n",
    "img_size = (img_width, img_height)\n",
    "\n",
    "# Init model and data\n",
    "with open('cppn_config.yaml', 'r') as f:\n",
    "    model_config = yaml.load(f, Loader=yaml.FullLoader)\n",
    "data_config = model_config['test_config']\n",
    "model_config = model_config['base_bw']\n",
    "cppn = CPPN(batch_size=batch_size, img_width=img_width, img_height=img_height, img_depth=img_depth,\n",
    "            **model_config)\n",
    "\n",
    "cppn_snapshot = []\n",
    "latent_max_val = 1\n",
    "#latent = np.zeros((1, model_config['z_dim']))-latent_max_val\n",
    "add_val = (latent_max_val*1)/FRAMES\n",
    "#add_val = 1.0\n",
    "\n",
    "cppn_snapshot = animate_cppn(cppn, FRAMES, add_val)"
   ]
  },
  {
   "cell_type": "code",
   "execution_count": null,
   "metadata": {},
   "outputs": [],
   "source": [
    "np.save(res_path / f'test_3D_anim.npy', cppn_snapshot)"
   ]
  },
  {
   "cell_type": "code",
   "execution_count": null,
   "metadata": {
    "scrolled": true
   },
   "outputs": [],
   "source": [
    "# Setup plot\n",
    "dpi = 100\n",
    "if save_anim:\n",
    "    fig, ax = plt.subplots(dpi=dpi, figsize=(img_width/dpi, img_height/dpi))\n",
    "else:\n",
    "    fig, ax = plt.subplots(dpi=dpi, figsize=(5, 5))\n",
    "plt.axis('off')\n",
    "\n",
    "def animate(i, ax, cppn_snapshot):\n",
    "    ax.imshow(cppn_snapshot[i], cmap='gray')\n",
    "\n",
    "# Animate\n",
    "ani = animation.FuncAnimation(fig, animate, frames=FRAMES, interval=100,\n",
    "                              fargs=[ax, cppn_snapshot])\n",
    "if save_anim:\n",
    "    ani.save(str(res_path / 'tests' / 'anim_{}.mp4'.format(datetime.strftime(datetime.now(), \"%Y-%m-%d_%H-%M\"))), \n",
    "             animation.FFMpegFileWriter(fps=30))"
   ]
  },
  {
   "cell_type": "markdown",
   "metadata": {},
   "source": [
    "## Marching Cubes"
   ]
  },
  {
   "cell_type": "code",
   "execution_count": null,
   "metadata": {},
   "outputs": [],
   "source": [
    "import mcubes"
   ]
  },
  {
   "cell_type": "code",
   "execution_count": null,
   "metadata": {},
   "outputs": [],
   "source": [
    "vertices, triangles = mcubes.marching_cubes(cppn_snapshot[0], 0.2)\n",
    "\n",
    "#mcubes.export_obj(vertices, triangles, res_path / 'test.obj')"
   ]
  },
  {
   "cell_type": "code",
   "execution_count": null,
   "metadata": {},
   "outputs": [],
   "source": [
    "triangles"
   ]
  },
  {
   "cell_type": "markdown",
   "metadata": {},
   "source": [
    "# Parameters Grid Search"
   ]
  },
  {
   "cell_type": "code",
   "execution_count": null,
   "metadata": {},
   "outputs": [],
   "source": [
    "from sklearn.model_selection import ParameterGrid"
   ]
  },
  {
   "cell_type": "code",
   "execution_count": null,
   "metadata": {},
   "outputs": [],
   "source": [
    "param_grid = {\n",
    "                #'inner_architecture_key': ['base', 'residual', 'softplus'],\n",
    "                'kernel_init_stddev': np.linspace(0.7, 4., num=4),\n",
    "                #'scale': np.linspace(-2., 2., num=5),\n",
    "                #'translation': np.linspace(-4., 4., num=3),\n",
    "                #'rotation': np.linspace(1, 360, num=4),\n",
    "                #'nb_hidden_layers': np.arange(3, 7, 2),\n",
    "                #'z_dim': [8, 16, 32, 64],\n",
    "                'hidden_dim': [8, 16],\n",
    "                'extra_fun': ['base', 'cos_sin', 'cube', 'rand']\n",
    "             }\n",
    "grid = ParameterGrid(param_grid)\n",
    "\n",
    "# Init model and data\n",
    "with open('cppn_config.yaml', 'r') as f:\n",
    "    model_config = yaml.load(f, Loader=yaml.FullLoader)\n",
    "data_config = model_config['test_config']\n",
    "model_config = model_config['base_bw']\n",
    "\n",
    "nb_frames = 100\n",
    "batch_size = 1\n",
    "img_height = img_width = 100\n",
    "img_depth = img_height\n",
    "\n",
    "out_dir = res_path / 'gs' / f'{img_width}x3_{nb_frames}frames'\n",
    "out_dir.mkdir(parents=True, exist_ok=False) \n",
    "\n",
    "sphere_mask = get_sphere_mask((img_height,img_width,img_depth), (img_height//2)-1)\n",
    "    \n",
    "with open(str(out_dir / 'logs.txt'), 'w+') as f:\n",
    "    for run, params in enumerate(grid):\n",
    "        print(\"Params {}: {}\".format(run, params))\n",
    "        \n",
    "        current_config = model_config.copy()\n",
    "        current_data_config = data_config.copy()\n",
    "        current_config.update(params)\n",
    "        current_data_config.update(params)\n",
    "        \n",
    "        cppn = CPPN(batch_size=batch_size, img_width=img_width, img_height=img_height, img_depth=img_depth,\n",
    "                **current_config)\n",
    "        \n",
    "        latent_max_val = 1\n",
    "        #latent = np.zeros((1, model_config['z_dim']))-latent_max_val\n",
    "        add_val = (latent_max_val*1)/nb_frames\n",
    "        #add_val = 1.0\n",
    "\n",
    "        cppn_snapshot = animate_cppn(cppn, nb_frames, add_val)\n",
    "        \n",
    "        # write out config\n",
    "        f.write(str(current_config) + str(current_data_config) + '\\n')\n",
    "\n",
    "        # write out numpy 4D tensor\n",
    "        np.save(out_dir / f'run_{run}.npy', np.array(cppn_snapshot, dtype=np.float16))\n",
    "        \n",
    "        \n",
    "\n",
    "        # write out as sliced videos\n",
    "        run_out_path = out_dir / f'vid_run_{run:03}'\n",
    "        run_out_path.mkdir(exist_ok=False, parents=True)\n",
    "        for z_coord in range(img_depth):\n",
    "            generate_video(str(run_out_path / f\"{z_coord}.mp4\"),\n",
    "                           (img_width, img_height),\n",
    "                           frame_gen_fun=lambda i: cv2.normalize(cppn_snapshot[i, :, :, z_coord], None, 255, 0, norm_type=cv2.NORM_MINMAX, dtype=cv2.CV_8U),\n",
    "                           nb_frames=len(cppn_snapshot), is_color=False, disable_tqdm=True)\n",
    "            \n",
    "                \n",
    "        #sphere masked\n",
    "        cppn_snapshot = cppn_snapshot * sphere_mask[ np.newaxis, :, :, :]\n",
    "        np.save(out_dir / f'run_{run}_sphere.npy', np.array(cppn_snapshot, dtype=np.float16))\n",
    "        \n",
    "        #imgs = cppn.generate_imgs(x, y, r, e, z)\n",
    "        #for j, img in enumerate(imgs): \n",
    "        #    plt.imsave(str(out_dir / f'sample_{j}.png'), img, cmap='gray')"
   ]
  }
 ],
 "metadata": {
  "kernelspec": {
   "display_name": "Data Science",
   "language": "python",
   "name": "data-science"
  },
  "language_info": {
   "codemirror_mode": {
    "name": "ipython",
    "version": 3
   },
   "file_extension": ".py",
   "mimetype": "text/x-python",
   "name": "python",
   "nbconvert_exporter": "python",
   "pygments_lexer": "ipython3",
   "version": "3.8.5"
  },
  "notify_time": "30",
  "toc": {
   "base_numbering": 1,
   "nav_menu": {},
   "number_sections": true,
   "sideBar": true,
   "skip_h1_title": false,
   "title_cell": "Table of Contents",
   "title_sidebar": "Contents",
   "toc_cell": true,
   "toc_position": {},
   "toc_section_display": "block",
   "toc_window_display": true
  }
 },
 "nbformat": 4,
 "nbformat_minor": 2
}
