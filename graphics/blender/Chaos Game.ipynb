{
 "cells": [
  {
   "cell_type": "markdown",
   "id": "e62275f5",
   "metadata": {
    "toc": true
   },
   "source": [
    "<h1>Table of Contents<span class=\"tocSkip\"></span></h1>\n",
    "<div class=\"toc\"><ul class=\"toc-item\"><li><span><a href=\"#Intro\" data-toc-modified-id=\"Intro-1\"><span class=\"toc-item-num\">1&nbsp;&nbsp;</span>Intro</a></span></li><li><span><a href=\"#Grid-Search\" data-toc-modified-id=\"Grid-Search-2\"><span class=\"toc-item-num\">2&nbsp;&nbsp;</span>Grid Search</a></span></li><li><span><a href=\"#Performances-Profiling\" data-toc-modified-id=\"Performances-Profiling-3\"><span class=\"toc-item-num\">3&nbsp;&nbsp;</span>Performances Profiling</a></span></li></ul></div>"
   ]
  },
  {
   "cell_type": "markdown",
   "id": "b8c71ce1",
   "metadata": {},
   "source": [
    "# Intro\n",
    "Exploratory notebook for running the Chaos Game.\n",
    "\n",
    "Chaos Game: start from a point inside a polygon and iteratively move to a point between the current position and a randomly chosen vertex of the polygon.\n",
    "Constraints around distance-factor and vertex-choice can be added to obtain different fractal structures."
   ]
  },
  {
   "cell_type": "code",
   "execution_count": null,
   "id": "cfe7433b",
   "metadata": {},
   "outputs": [],
   "source": [
    "import numpy as np\n",
    "from math import pi, cos, sin\n",
    "import cv2\n",
    "import matplotlib.pyplot as plt\n",
    "from datetime import datetime\n",
    "from pathlib import Path\n",
    "import json\n",
    "import tqdm\n",
    "from collections import namedtuple\n",
    "\n",
    "%load_ext autoreload\n",
    "%autoreload 2\n",
    "\n",
    "from chaos_game import run_chaos_game, _get_polygon_center, get_polygon\n",
    "\n",
    "from ds_utils.sim_utils import named_configs\n",
    "from ds_utils.video_utils import generate_video, imageio_generate_video"
   ]
  },
  {
   "cell_type": "markdown",
   "id": "f6a45709",
   "metadata": {},
   "source": [
    "# Grid Search"
   ]
  },
  {
   "cell_type": "code",
   "execution_count": null,
   "id": "b8f9b9a6",
   "metadata": {},
   "outputs": [],
   "source": [
    "grid_search_params = {\n",
    "    'segments': [3, 4, 5, 6, 7, 8],\n",
    "    'nb_iter': [3e5],\n",
    "    'dist_factor': np.linspace(0., 1., 6, endpoint=False)[1:],\n",
    "    'vertex_choice_constrain': ['skip_last', 'skip_last_neighbors', ''],\n",
    "    'width': [1024],\n",
    "    'mod_gen_image': [1e3],\n",
    "    'gen_video': [True]\n",
    "}\n",
    "\n",
    "out_path = Path.home() / 'Documents/graphics/generative_art_output/chaos_game/1024_grid_search'\n",
    "out_path.mkdir(exist_ok=True, parents=True)"
   ]
  },
  {
   "cell_type": "code",
   "execution_count": null,
   "id": "dcd50a0b",
   "metadata": {},
   "outputs": [],
   "source": [
    "configs = list(named_configs(grid_search_params))\n",
    "\n",
    "for config_idx, config in tqdm.tqdm(enumerate(configs)):\n",
    "    if config.segments == 3 and config.vertex_choice_constrain == 'skip_last_neighbors':\n",
    "        continue\n",
    "    polygon = get_polygon(center=[0.5, 0.5, 0.], radius=.5, segments=config.segments)\n",
    "    all_points = np.array(run_chaos_game(polygon, nb_iter=config.nb_iter, \n",
    "                                         dist_factor=config.dist_factor, \n",
    "                                         vertex_choice_constrain=config.vertex_choice_constrain))\n",
    "\n",
    "    width = config.width\n",
    "    height = config.width\n",
    "\n",
    "    img_points = (all_points[:, :2] * (width-1)).astype(np.int16)\n",
    "\n",
    "    # init black image\n",
    "    img = np.zeros((height, width, 3), np.uint8)\n",
    "\n",
    "    images = []\n",
    "    mod_gen_image = config.mod_gen_image\n",
    "    for i, p in enumerate(img_points):\n",
    "        idx = tuple(p)\n",
    "        img[p[0], p[1]] = img[p[0], p[1]] + [80]*3\n",
    "        if (i % int(mod_gen_image)) == 0:\n",
    "            images.append(img.copy())\n",
    "\n",
    "    if config.gen_video:\n",
    "        run_name = f'test_{datetime.now().strftime(\"%Y%m%d_%H%M%S\")}'\n",
    "        with open(out_path / f\"{run_name}_settings.txt\", \"w+\", encoding=\"utf-8\") as f:\n",
    "            json.dump(str(config), f, ensure_ascii=False, indent=4)\n",
    "        imageio_generate_video(str(out_path / f'{run_name}.mp4'), images, fps=24, format=\"mp4\")\n"
   ]
  },
  {
   "cell_type": "code",
   "execution_count": null,
   "id": "4c9c7643",
   "metadata": {},
   "outputs": [],
   "source": [
    "plt.imshow(images[-1])"
   ]
  },
  {
   "cell_type": "markdown",
   "id": "576d11d1",
   "metadata": {},
   "source": [
    "# Performances Profiling"
   ]
  },
  {
   "cell_type": "code",
   "execution_count": null,
   "id": "c2539e55",
   "metadata": {},
   "outputs": [],
   "source": [
    "%%prun -s cumulative -l 30 -r\n",
    "# We profile the cell, sort the report by \"cumulative\n",
    "# time\", limit it to 30 lines\n",
    "\n",
    "config = {\n",
    "    'segments': 5,\n",
    "    'nb_iter': 1e4,\n",
    "    'dist_factor': 0.5,\n",
    "    'vertex_choice_constrain': 'skip_last',\n",
    "}\n",
    "config = namedtuple('Config', config.keys())(**config)\n",
    "\n",
    "\n",
    "polygon = get_polygon(center=[0.5, 0.5, 0.], radius=.5, segments=config.segments)\n",
    "all_points = np.array(run_chaos_game(polygon, nb_iter=config.nb_iter, dist_factor=config.dist_factor, \n",
    "                                     vertex_choice_constrain=config.vertex_choice_constrain))"
   ]
  },
  {
   "cell_type": "code",
   "execution_count": null,
   "id": "b67e4104",
   "metadata": {},
   "outputs": [],
   "source": []
  }
 ],
 "metadata": {
  "kernelspec": {
   "display_name": "Data Science",
   "language": "python",
   "name": "data_science"
  },
  "language_info": {
   "codemirror_mode": {
    "name": "ipython",
    "version": 3
   },
   "file_extension": ".py",
   "mimetype": "text/x-python",
   "name": "python",
   "nbconvert_exporter": "python",
   "pygments_lexer": "ipython3",
   "version": "3.9.13"
  },
  "toc": {
   "base_numbering": 1,
   "nav_menu": {},
   "number_sections": true,
   "sideBar": true,
   "skip_h1_title": false,
   "title_cell": "Table of Contents",
   "title_sidebar": "Contents",
   "toc_cell": true,
   "toc_position": {},
   "toc_section_display": true,
   "toc_window_display": true
  }
 },
 "nbformat": 4,
 "nbformat_minor": 5
}
