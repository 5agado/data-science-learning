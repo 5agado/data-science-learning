{
 "cells": [
  {
   "cell_type": "markdown",
   "metadata": {
    "toc": true
   },
   "source": [
    "<h1>Table of Contents<span class=\"tocSkip\"></span></h1>\n",
    "<div class=\"toc\"><ul class=\"toc-item\"><li><span><a href=\"#Intro\" data-toc-modified-id=\"Intro-1\"><span class=\"toc-item-num\">1&nbsp;&nbsp;</span>Intro</a></span></li><li><span><a href=\"#Discrete-Laplacian\" data-toc-modified-id=\"Discrete-Laplacian-2\"><span class=\"toc-item-num\">2&nbsp;&nbsp;</span>Discrete Laplacian</a></span><ul class=\"toc-item\"><li><span><a href=\"#Performances-Eval\" data-toc-modified-id=\"Performances-Eval-2.1\"><span class=\"toc-item-num\">2.1&nbsp;&nbsp;</span>Performances Eval</a></span><ul class=\"toc-item\"><li><span><a href=\"#Profiling\" data-toc-modified-id=\"Profiling-2.1.1\"><span class=\"toc-item-num\">2.1.1&nbsp;&nbsp;</span>Profiling</a></span></li></ul></li></ul></li><li><span><a href=\"#Visualization\" data-toc-modified-id=\"Visualization-3\"><span class=\"toc-item-num\">3&nbsp;&nbsp;</span>Visualization</a></span><ul class=\"toc-item\"><li><span><a href=\"#Interactive-2D\" data-toc-modified-id=\"Interactive-2D-3.1\"><span class=\"toc-item-num\">3.1&nbsp;&nbsp;</span>Interactive 2D</a></span></li><li><span><a href=\"#Slicing-3D\" data-toc-modified-id=\"Slicing-3D-3.2\"><span class=\"toc-item-num\">3.2&nbsp;&nbsp;</span>Slicing 3D</a></span></li><li><span><a href=\"#Plotly-Volume\" data-toc-modified-id=\"Plotly-Volume-3.3\"><span class=\"toc-item-num\">3.3&nbsp;&nbsp;</span>Plotly Volume</a></span></li><li><span><a href=\"#Voxel-Plot\" data-toc-modified-id=\"Voxel-Plot-3.4\"><span class=\"toc-item-num\">3.4&nbsp;&nbsp;</span>Voxel Plot</a></span></li></ul></li><li><span><a href=\"#Generate-Video\" data-toc-modified-id=\"Generate-Video-4\"><span class=\"toc-item-num\">4&nbsp;&nbsp;</span>Generate Video</a></span><ul class=\"toc-item\"><li><span><a href=\"#3D\" data-toc-modified-id=\"3D-4.1\"><span class=\"toc-item-num\">4.1&nbsp;&nbsp;</span>3D</a></span></li><li><span><a href=\"#Rerun-old-configs\" data-toc-modified-id=\"Rerun-old-configs-4.2\"><span class=\"toc-item-num\">4.2&nbsp;&nbsp;</span>Rerun old configs</a></span></li></ul></li><li><span><a href=\"#Parameters-Grid-Search\" data-toc-modified-id=\"Parameters-Grid-Search-5\"><span class=\"toc-item-num\">5&nbsp;&nbsp;</span>Parameters Grid Search</a></span></li></ul></div>"
   ]
  },
  {
   "cell_type": "markdown",
   "metadata": {},
   "source": [
    "# Intro\n",
    "This notebook explores introductory concepts and interactive examples of **reaction-diffusion systems**, which model the evolution of one or more variables subjects to two processes:\n",
    "* reaction: transformation from one state to another\n",
    "* diffusion: expansion across space\n",
    "\n",
    "[Reaction-Diffusion Tutorial by Karl Sims](http://karlsims.com/rd.html)\n",
    "\n",
    "$$ A^{\\prime } = A + (D_A \\nabla^2 A - AB^2 + \\text{f} (1-A)) \\Delta t $$\n",
    "$$ B^{\\prime } = B + (D_B \\nabla^2 B + AB^2 - (k+\\text{f})) \\Delta t $$\n",
    "\n",
    "See also the *Dynamical Systems* notebook."
   ]
  },
  {
   "cell_type": "code",
   "execution_count": null,
   "metadata": {},
   "outputs": [],
   "source": [
    "# Basic libraries import\n",
    "import numpy as np\n",
    "import seaborn as sns\n",
    "import scipy\n",
    "import matplotlib.pyplot as plt\n",
    "from matplotlib import animation\n",
    "from pathlib import Path\n",
    "from datetime import datetime\n",
    "import cv2\n",
    "from tqdm import tqdm\n",
    "\n",
    "# Plotting\n",
    "%matplotlib notebook\n",
    "\n",
    "sns.set_context(\"paper\")\n",
    "sns.set_style(\"darkgrid\")\n",
    "\n",
    "# Local utils\n",
    "from ReactionDiffusionSystem import ReactionDiffusionSystem, get_init_state, get_polygon_mask, get_cube_mask\n",
    "from ReactionDiffusionSystem import SYSTEM_CORAL_CONFIG, SYSTEM_BACTERIA_CONFIG, SYSTEM_SPIRALS_CONFIG, SYSTEM_ZEBRA_CONFIG\n",
    "plt.rcParams['animation.ffmpeg_path'] = str(Path.home() / \"anaconda3/envs/image-processing/bin/ffmpeg\")\n",
    "\n",
    "from ds_utils.video_utils import generate_video\n",
    "\n",
    "%load_ext autoreload\n",
    "%autoreload 2"
   ]
  },
  {
   "cell_type": "markdown",
   "metadata": {},
   "source": [
    "# Discrete Laplacian\n",
    "The Laplace operator has an analog discrete version for discrete grids.\n",
    "\n",
    "In two dimensions can be approximated via \"five-point stencil finite-difference method\". "
   ]
  },
  {
   "cell_type": "code",
   "execution_count": null,
   "metadata": {},
   "outputs": [],
   "source": [
    "from ReactionDiffusionSystem import discrete_laplacian, discrete_laplacian_convolve, kernel_2d, kernel_2d_2"
   ]
  },
  {
   "cell_type": "code",
   "execution_count": null,
   "metadata": {},
   "outputs": [],
   "source": [
    "def discrete_laplacian_fivepoint(Z, dx):\n",
    "    Ztop = Z[0:-2, 1:-1]\n",
    "    Zleft = Z[1:-1, 0:-2]\n",
    "    Zbottom = Z[2:, 1:-1]\n",
    "    Zright = Z[1:-1, 2:]\n",
    "    Zcenter = Z[1:-1, 1:-1]\n",
    "    return (Ztop + Zleft + Zbottom + Zright -\n",
    "            4 * Zcenter) / dx**2"
   ]
  },
  {
   "cell_type": "code",
   "execution_count": null,
   "metadata": {},
   "outputs": [],
   "source": [
    "test_Z = np.ones((4,4)) * 2.\n",
    "test_Z[1,1] = 0\n",
    "test_Z"
   ]
  },
  {
   "cell_type": "code",
   "execution_count": null,
   "metadata": {},
   "outputs": [],
   "source": [
    "discrete_laplacian_fivepoint(test_Z, dx=1)"
   ]
  },
  {
   "cell_type": "code",
   "execution_count": null,
   "metadata": {},
   "outputs": [],
   "source": [
    "# use numpy roll in the target directions\n",
    "discrete_laplacian(test_Z, None)"
   ]
  },
  {
   "cell_type": "code",
   "execution_count": null,
   "metadata": {},
   "outputs": [],
   "source": [
    "# use scipy convolve2d\n",
    "discrete_laplacian_convolve(test_Z, kernel_2d_2)"
   ]
  },
  {
   "cell_type": "code",
   "execution_count": null,
   "metadata": {},
   "outputs": [],
   "source": [
    "# use cv2 filter\n",
    "cv2.filter2D(test_Z, -1, kernel_2d, borderType=cv2.BORDER_REFLECT)"
   ]
  },
  {
   "cell_type": "code",
   "execution_count": null,
   "metadata": {},
   "outputs": [],
   "source": [
    "rand_grid = np.random.randint(0, 10, (200,200))\n",
    "%timeit discrete_laplacian(rand_grid)\n",
    "%timeit discrete_laplacian_convolve(rand_grid)\n",
    "%timeit cv2.filter2D(rand_grid*1.0, -1, kernel_2d, borderType=cv2.BORDER_REFLECT)"
   ]
  },
  {
   "cell_type": "markdown",
   "metadata": {},
   "source": [
    "## Performances Eval"
   ]
  },
  {
   "cell_type": "code",
   "execution_count": null,
   "metadata": {},
   "outputs": [],
   "source": [
    "def system_run(size=100, steps=10):\n",
    "    system_shape = (size, size)\n",
    "    rf_system = ReactionDiffusionSystem(system_shape, config,\n",
    "                                       lambda shape: get_init_state(shape, 0.2, None, 0.5, .2),\n",
    "                                        validate_change_threshold=0.001)\n",
    "    rf_system.run_simulation(steps)"
   ]
  },
  {
   "cell_type": "code",
   "execution_count": null,
   "metadata": {},
   "outputs": [],
   "source": [
    "%timeit system_run()"
   ]
  },
  {
   "cell_type": "markdown",
   "metadata": {},
   "source": [
    "### Profiling"
   ]
  },
  {
   "cell_type": "code",
   "execution_count": null,
   "metadata": {},
   "outputs": [],
   "source": [
    "%%prun -s cumulative -l 30 -r\n",
    "# We profile the cell, sort the report by \"cumulative\n",
    "# time\", limit it to 30 lines\n",
    "\n",
    "system_run(size=300, steps=300)"
   ]
  },
  {
   "cell_type": "markdown",
   "metadata": {},
   "source": [
    "# Visualization "
   ]
  },
  {
   "cell_type": "code",
   "execution_count": null,
   "metadata": {},
   "outputs": [],
   "source": [
    "import ipywidgets as widgets\n",
    "from ipywidgets import interact, interact_manual\n",
    "from IPython.display import display\n",
    "from ipywidgets import Button\n",
    "\n",
    "%matplotlib notebook \n",
    "from matplotlib import animation"
   ]
  },
  {
   "cell_type": "markdown",
   "metadata": {},
   "source": [
    "## Interactive 2D"
   ]
  },
  {
   "cell_type": "code",
   "execution_count": null,
   "metadata": {},
   "outputs": [],
   "source": [
    "def plot_animation(fig, ax, rf_system, nb_frames, simulation_steps, interval=100):\n",
    "    im = ax.imshow(rf_system.B, cmap=plt.cm.Blues, interpolation='bilinear', extent=[-1, 1, -1, 1])\n",
    "\n",
    "    def animate(i, rf_system, simulation_steps):\n",
    "        rf_system.run_simulation(simulation_steps)\n",
    "        im.set_data(rf_system.B)\n",
    "\n",
    "    # Animate\n",
    "    ani = animation.FuncAnimation(fig, animate, frames=nb_frames, interval=interval, \n",
    "                                  fargs=[rf_system, simulation_steps])\n",
    "    return ani"
   ]
  },
  {
   "cell_type": "code",
   "execution_count": null,
   "metadata": {},
   "outputs": [],
   "source": [
    "# setup plot\n",
    "nb_frames = 200\n",
    "simulation_steps = 30\n",
    "\n",
    "img_width = img_height = 100\n",
    "fig, ax = plt.subplots(dpi=100, figsize=(5, 5))\n",
    "plt.axis('off')\n",
    "\n",
    "# system config\n",
    "config = SYSTEM_SPIRALS_CONFIG.copy()\n",
    "config['COEFF_A'] = .21\n",
    "config['COEFF_B'] = 0.05\n",
    "#config['FEED_RATE'] = 0.0625\n",
    "#config['KILL_RATE'] = 0.05\n",
    "\n",
    "# system init\n",
    "system_shape = (img_width, img_height)\n",
    "mask = get_polygon_mask(system_shape, 4, system_shape[0]//10, np.array(system_shape) // 2)\n",
    "mask = cv2.resize(cv2.imread(\"C:/Users/User/Downloads/rd_mask.png\", cv2.IMREAD_GRAYSCALE), system_shape)\n",
    "rf_system = ReactionDiffusionSystem(system_shape, config,\n",
    "                                   lambda shape: get_init_state(shape, 0.0, mask),\n",
    "                                   validate_change_threshold=0.0001)\n",
    "\n",
    "# plot\n",
    "plot_animation(fig, ax, rf_system,\n",
    "                nb_frames=nb_frames, simulation_steps=simulation_steps, interval=10)"
   ]
  },
  {
   "cell_type": "code",
   "execution_count": null,
   "metadata": {},
   "outputs": [],
   "source": [
    "# setup plot\n",
    "nb_frames = 100\n",
    "simulation_steps = 10\n",
    "\n",
    "img_width = img_height = 100\n",
    "fig, ax = plt.subplots(dpi=100, figsize=(5, 5))\n",
    "plt.axis('off')\n",
    "\n",
    "@interact\n",
    "def i_style_mixing(coeff_a = np.linspace(0.10, 0.2, 10), coeff_b = np.linspace(0.01, 0.1, 10), \n",
    "                   feed_rate = np.linspace(0.03, 0.05, 10), kill_rate = np.linspace(0.05, 0.08, 10)):\n",
    "    config = {'COEFF_A': coeff_a, 'COEFF_B': coeff_b, \n",
    "              'FEED_RATE': feed_rate, 'KILL_RATE': kill_rate}\n",
    "    return plot_animation(fig, ax, (img_width, img_height), config,\n",
    "                  nb_frames=nb_frames, simulation_steps=simulation_steps, interval=10)"
   ]
  },
  {
   "cell_type": "markdown",
   "metadata": {},
   "source": [
    "## Slicing 3D"
   ]
  },
  {
   "cell_type": "code",
   "execution_count": null,
   "metadata": {},
   "outputs": [],
   "source": [
    "system_shape = tuple([50]*3)\n",
    "mask = get_cube_mask(system_shape, system_shape[0]//10, np.array(system_shape) // 2)\n",
    "rf_system = ReactionDiffusionSystem(system_shape, SYSTEM_CORAL_CONFIG,\n",
    "                                   lambda shape: get_init_state(shape, 0.0, mask=mask))\n",
    "\n",
    "rf_system.run_simulation(1000)"
   ]
  },
  {
   "cell_type": "code",
   "execution_count": null,
   "metadata": {},
   "outputs": [],
   "source": [
    "%matplotlib notebook\n",
    "from matplotlib.widgets import Slider\n",
    "fig, ax = plt.subplots(1, 1, figsize=(8, 8))\n",
    "plt.axis('off')\n",
    "idx0 = 3\n",
    "l = ax.imshow(rf_system.B[idx0], cmap=plt.cm.copper,\n",
    "          interpolation='bilinear',\n",
    "          extent=[-1, 1, -1, 1])\n",
    "\n",
    "axidx = plt.axes([0.25, 0.15, 0.65, 0.03])\n",
    "slidx = Slider(axidx, 'index', 0, system_shape[2], valinit=idx0, valfmt='%d')\n",
    "\n",
    "def update(val):\n",
    "    idx = slidx.val\n",
    "    l.set_data(rf_system.B[int(idx)])\n",
    "    fig.canvas.draw_idle()\n",
    "slidx.on_changed(update)\n",
    "\n",
    "plt.show()"
   ]
  },
  {
   "cell_type": "markdown",
   "metadata": {},
   "source": [
    "## Plotly Volume"
   ]
  },
  {
   "cell_type": "code",
   "execution_count": null,
   "metadata": {},
   "outputs": [],
   "source": [
    "import plotly.graph_objects as go"
   ]
  },
  {
   "cell_type": "code",
   "execution_count": null,
   "metadata": {},
   "outputs": [],
   "source": [
    "side = 50\n",
    "system_shape = tuple([side]*3)\n",
    "\n",
    "rf_system = ReactionDiffusionSystem(system_shape, SYSTEM_ZEBRA_CONFIG,\n",
    "                                   lambda shape: get_init_state(shape, 'CENTER'))\n",
    "isomin=0.06\n",
    "isomax=0.5\n",
    "\n",
    "# store the state of multiple simulation to replay in the 3D plot\n",
    "res = []\n",
    "for i in range(10):\n",
    "    rf_system.run_simulation(300)\n",
    "    res.append(rf_system.B.copy())"
   ]
  },
  {
   "cell_type": "code",
   "execution_count": null,
   "metadata": {},
   "outputs": [],
   "source": [
    "def volume_data(X, Y, Z, values, isomin, isomax):\n",
    "    return go.Isosurface(\n",
    "        x=X.flatten(),\n",
    "        y=Y.flatten(),\n",
    "        z=Z.flatten(),\n",
    "        value=values.flatten(),\n",
    "        isomin=isomin,\n",
    "        isomax=isomax,\n",
    "        opacity=0.7, # needs to be small to see through all surfaces\n",
    "        surface_count=10, # needs to be a large number for good volume rendering\n",
    "    )"
   ]
  },
  {
   "cell_type": "code",
   "execution_count": null,
   "metadata": {},
   "outputs": [],
   "source": [
    "X, Y, Z = np.mgrid[0:side, 0:side, 0:side]\n",
    "\n",
    "fig = go.Figure(\n",
    "    data=[volume_data(X, Y, Z, res[0], isomin, isomax)],\n",
    "    layout=go.Layout(\n",
    "        updatemenus=[dict(\n",
    "            type=\"buttons\",\n",
    "            buttons=[dict(label=\"Play\",\n",
    "                          method=\"animate\",\n",
    "                          args=[None])])]\n",
    "    ),\n",
    "    frames=[go.Frame(data=volume_data(X, Y, Z, v, isomin, isomax)) for v in res]\n",
    "    )\n",
    "fig.show()"
   ]
  },
  {
   "cell_type": "markdown",
   "metadata": {},
   "source": [
    "## Voxel Plot"
   ]
  },
  {
   "cell_type": "code",
   "execution_count": null,
   "metadata": {},
   "outputs": [],
   "source": [
    "from mpl_toolkits.mplot3d import Axes3D\n",
    "fig = plt.figure()\n",
    "ax = fig.add_subplot(111, projection='3d')\n",
    "ax.plot_trisurf(verts[:, 0], verts[:,1], faces, verts[:, 2],\n",
    "                linewidth=0.2, antialiased=True)\n",
    "plt.show()"
   ]
  },
  {
   "cell_type": "code",
   "execution_count": null,
   "metadata": {},
   "outputs": [],
   "source": [
    "from mpl_toolkits.mplot3d import Axes3D\n",
    "\n",
    "fig = plt.figure()\n",
    "ax = fig.add_subplot(111, projection='3d')\n",
    "#xx, yy, zz = np.where(rf_system.B> 0.003)\n",
    "ax.voxels(rf_system.B> 0.01)"
   ]
  },
  {
   "cell_type": "markdown",
   "metadata": {},
   "source": [
    "# Generate Video"
   ]
  },
  {
   "cell_type": "code",
   "execution_count": null,
   "metadata": {},
   "outputs": [],
   "source": [
    "def draw(U):\n",
    "    fig, ax = plt.subplots(1, 1, figsize=(8, 8))\n",
    "    ax.imshow(U, cmap=plt.cm.copper,\n",
    "              interpolation='bilinear',\n",
    "              extent=[-1, 1, -1, 1])\n",
    "    ax.set_axis_off()"
   ]
  },
  {
   "cell_type": "code",
   "execution_count": null,
   "metadata": {},
   "outputs": [],
   "source": [
    "rf_system = ReactionDiffusionSystem((100, 100), SYSTEM_BACTERIA_CONFIG)"
   ]
  },
  {
   "cell_type": "code",
   "execution_count": null,
   "metadata": {},
   "outputs": [],
   "source": [
    "rf_system.run_simulation(1000, delta_t=1.2)"
   ]
  },
  {
   "cell_type": "code",
   "execution_count": null,
   "metadata": {},
   "outputs": [],
   "source": [
    "draw(rf_system.B)"
   ]
  },
  {
   "cell_type": "code",
   "execution_count": null,
   "metadata": {},
   "outputs": [],
   "source": [
    "def base_frame_gen(frame_count, rf_system, simulation_steps):\n",
    "    rf_system.run_simulation(simulation_steps)\n",
    "    img = cv2.normalize(rf_system.B, None, 255, 0, norm_type=cv2.NORM_MINMAX, dtype=cv2.CV_8U)\n",
    "    return img"
   ]
  },
  {
   "cell_type": "code",
   "execution_count": null,
   "metadata": {},
   "outputs": [],
   "source": [
    "def touch_frame_gen(frame_count, rf_system, simulation_steps):\n",
    "    rf_system.run_simulation(simulation_steps)\n",
    "    #if i == nb_frames//2:\n",
    "    #    center = np.array(rf_system.shape) // 2\n",
    "    #    r = np.array(rf_system.shape) // 10\n",
    "    #    rf_system.B[center[0] - r[0]:center[0] + r[0], center[1] - r[1]:center[1] + r[1]] = 0.25\n",
    "    img = cv2.normalize(rf_system.B, None, 255, 0, norm_type=cv2.NORM_MINMAX, dtype=cv2.CV_8U)\n",
    "    return img"
   ]
  },
  {
   "cell_type": "code",
   "execution_count": null,
   "metadata": {},
   "outputs": [],
   "source": [
    "generate_video(str(out_path/\"tmp.mp4\"), (rf_system.shape[1], rf_system.shape[0]),\n",
    "               frame_gen_fun = lambda i: base_frame_gen(i, rf_system, 20),\n",
    "               nb_frames = 10)"
   ]
  },
  {
   "cell_type": "markdown",
   "metadata": {},
   "source": [
    "## 3D"
   ]
  },
  {
   "cell_type": "code",
   "execution_count": null,
   "metadata": {},
   "outputs": [],
   "source": [
    "def frame_gen_3d(frame_count, z_coord, rf_snapshots):\n",
    "    img = cv2.normalize(rf_snapshots[frame_count][z_coord], None, 255, 0, norm_type=cv2.NORM_MINMAX, dtype=cv2.CV_8U)\n",
    "    return img"
   ]
  },
  {
   "cell_type": "code",
   "execution_count": null,
   "metadata": {},
   "outputs": [],
   "source": [
    "config = {'COEFF_A': 0.12, 'COEFF_B': 0.07, 'FEED_RATE': 0.041249999999999995, 'KILL_RATE': 0.058, 'steps': 30, 'random_influence': 0.0, 'validate_change_threshold': 1e-06, 'nb_frames': 228}\n",
    "config = SYSTEM_SPIRALS_CONFIG\n",
    "\n",
    "# create 3d system\n",
    "system_shape = tuple([50]*3)\n",
    "mask = get_cube_mask(system_shape, system_shape[0]//5, np.array(system_shape) // 2)\n",
    "rf_system = ReactionDiffusionSystem(system_shape, config,\n",
    "                                   lambda shape: get_init_state(shape, random_influence=0.0, mask=mask),\n",
    "                                   validate_change_threshold=1.e-6)"
   ]
  },
  {
   "cell_type": "code",
   "execution_count": null,
   "metadata": {},
   "outputs": [],
   "source": [
    "rf_snapshots = []\n",
    "nb_frames = 240\n",
    "nb_steps = 30\n",
    "for i in range(nb_frames):\n",
    "    rf_system.run_simulation(nb_steps)\n",
    "    rf_snapshots.append(rf_system.B)\n",
    "    #if i%50 == 0:\n",
    "    #    print(i)"
   ]
  },
  {
   "cell_type": "code",
   "execution_count": null,
   "metadata": {},
   "outputs": [],
   "source": [
    "out_path = Path.home() / 'reaction_diffusion'\n",
    "out_path.mkdir(exist_ok=False, parents=True)\n",
    "#for z_coord in range(system_shape[2]):\n",
    "#    img = cv2.normalize(rf_system.B[z_coord], None, 255, 0, norm_type=cv2.NORM_MINMAX, dtype=cv2.CV_8U)\n",
    "#    cv2.imwrite(str(out_path / f'{z_coord}.png'), img)\n",
    "\n",
    "for z_coord in range(system_shape[0]):\n",
    "    generate_video(str(out_path/f\"{z_coord}.mp4\"), \n",
    "                   (rf_system.shape[2], rf_system.shape[1]),\n",
    "                   frame_gen_fun = lambda i: frame_gen_3d(i, z_coord, rf_snapshots),\n",
    "                   nb_frames = nb_frames, is_color=False)"
   ]
  },
  {
   "cell_type": "markdown",
   "metadata": {},
   "source": [
    "## Rerun old configs"
   ]
  },
  {
   "cell_type": "code",
   "execution_count": null,
   "metadata": {},
   "outputs": [],
   "source": [
    "from ast import literal_eval\n",
    "target_path = Path.home() / 'reaction_diffusion/3d_slicing/100x100'\n",
    "out_path = Path.home() / 'reaction_diffusion/3d_slicing/100x100_slow'\n",
    "out_path.mkdir(exist_ok=True, parents=True)\n",
    "NUM_FRAMES = 240\n",
    "with open(str(target_path / 'logs.txt'), 'r') as f:\n",
    "    for run, line in enumerate(f):\n",
    "        print(f'#####################')\n",
    "        print(f'Run {run}')\n",
    "        rf_snapshots = []\n",
    "        config = literal_eval(line)\n",
    "        config['steps'] = 10\n",
    "        if config['nb_frames'] < 100:\n",
    "            continue\n",
    "\n",
    "        # init reaction diffusion system\n",
    "        system_shape = tuple([100]*3)\n",
    "        mask = get_cube_mask(system_shape, system_shape[0]//5, np.array(system_shape) // 2)\n",
    "        system_init_fun = lambda shape: get_init_state(shape, random_influence=config['random_influence'], mask=mask)\n",
    "        rf_system = ReactionDiffusionSystem(system_shape, config, system_init_fun,\n",
    "                                            validate_change_threshold=config['validate_change_threshold'])\n",
    "\n",
    "        # run and store snapshot\n",
    "        for i in range(NUM_FRAMES):\n",
    "            try:\n",
    "                rf_system.run_simulation(config['steps'])\n",
    "                rf_snapshots.append(rf_system.B)\n",
    "            except ReactionDiffusionException as e:\n",
    "                print(f'System throw exception at frame {i} {e}')\n",
    "                break\n",
    "            if i % 50 == 0:\n",
    "                print('Frame ', i)\n",
    "\n",
    "        # write out numpy 4D tensor\n",
    "        np.save(out_path / f'run_{run}.npy', np.array(rf_snapshots, dtype=np.float16))\n",
    "\n",
    "        # write out as sliced videos\n",
    "        run_out_path = out_path / f'vid_run_{run:03}'\n",
    "        run_out_path.mkdir(exist_ok=True, parents=True)\n",
    "        for z_coord in range(system_shape[0]):\n",
    "            generate_video(str(run_out_path / f\"{z_coord}.mp4\"),\n",
    "                           (rf_system.shape[2], rf_system.shape[1]),\n",
    "                           frame_gen_fun=lambda i: frame_gen_3d(i, z_coord, rf_snapshots),\n",
    "                           nb_frames=len(rf_snapshots), is_color=False, disable_tqdm=True)"
   ]
  },
  {
   "cell_type": "markdown",
   "metadata": {},
   "source": [
    "# Parameters Grid Search "
   ]
  },
  {
   "cell_type": "code",
   "execution_count": null,
   "metadata": {},
   "outputs": [],
   "source": [
    "from collections import namedtuple\n",
    "from itertools import starmap, product"
   ]
  },
  {
   "cell_type": "code",
   "execution_count": null,
   "metadata": {},
   "outputs": [],
   "source": [
    "def named_configs(items):\n",
    "    Config = namedtuple('Config', items.keys())\n",
    "    return starmap(Config, product(*items.values()))"
   ]
  },
  {
   "cell_type": "code",
   "execution_count": null,
   "metadata": {},
   "outputs": [],
   "source": [
    "out_path = Path.home() / 'videos/rection_diffusion'"
   ]
  },
  {
   "cell_type": "code",
   "execution_count": null,
   "metadata": {},
   "outputs": [],
   "source": [
    "NB_VALS = 2\n",
    "grid_search_params = {\n",
    "    'COEFF_A': np.linspace(0.16, 0.17, 1),\n",
    "    'COEFF_B': np.linspace(0.08, 0.09, 1),\n",
    "    'FEED_RATE': np.linspace(0.06, 0.0625, NB_VALS),\n",
    "    'KILL_RATE': np.linspace(0.0615, 0.0621, NB_VALS),\n",
    "}\n",
    "configs = list(named_configs(grid_search_params))"
   ]
  },
  {
   "cell_type": "code",
   "execution_count": null,
   "metadata": {},
   "outputs": [],
   "source": [
    "system_shape = (100, 100)\n",
    "render_dir = out_path / \"coral_hexa_extravaganza5\"\n",
    "nb_frames = 300\n",
    "simulation_steps = 30\n",
    "frame_gen_fun = lambda i: base_frame_gen(i, rf_system, simulation_steps=simulation_steps)\n",
    "\n",
    "render_dir.mkdir(exist_ok=True)\n",
    "\n",
    "hexa_paths = list((Path.home() / \"automaton_hexagonal/flat_hexa_logo\").glob(\"18/*.png\"))\n",
    "for i in range(10):\n",
    "    seed_image = cv2.resize(cv2.imread(str(hexa_paths[np.random.randint(len(hexa_paths))])) / 255, system_shape)\n",
    "    run = 0\n",
    "    with open(str(render_dir / \"logs.txt\"), 'w+') as f:\n",
    "        for config in configs:\n",
    "            f.write(str(config)+\"\\n\")\n",
    "            SYSTEM_CONFIG = config._asdict()\n",
    "\n",
    "            #SYSTEM_CONFIG['COEFF_A'] += seed_image.sum(axis=-1)/30\n",
    "            #SYSTEM_CONFIG['COEFF_B'] += seed_image.sum(axis=-1)/30\n",
    "            SYSTEM_CONFIG['FEED_RATE'] += seed_image.sum(axis=-1)/100\n",
    "            #SYSTEM_CONFIG['KILL_RATE'] += seed_image.sum(axis=-1)/30\n",
    "\n",
    "            rf_system = ReactionDiffusionSystem(system_shape, SYSTEM_CONFIG, \n",
    "                                                lambda shape: get_init_state(shape, 'CENTER'))\n",
    "\n",
    "            #if seed_image is not None:\n",
    "            #    rf_system.B[np.where(seed_image[:, :, 1]>0.1)] =  0.25\n",
    "            #    rf_system.A[np.where(seed_image[:, :, 1]>0.1)] =  0.50\n",
    "\n",
    "            out = str(render_dir / 'run_{}_{}.mp4'.format(i, run))\n",
    "            generate_video(out, (rf_system.shape[1], rf_system.shape[0]),\n",
    "                           frame_gen_fun=frame_gen_fun, nb_frames=nb_frames)\n",
    "            run += 1"
   ]
  },
  {
   "cell_type": "code",
   "execution_count": null,
   "metadata": {},
   "outputs": [],
   "source": []
  }
 ],
 "metadata": {
  "kernelspec": {
   "display_name": "Data Science",
   "language": "python",
   "name": "data-science"
  },
  "language_info": {
   "codemirror_mode": {
    "name": "ipython",
    "version": 3
   },
   "file_extension": ".py",
   "mimetype": "text/x-python",
   "name": "python",
   "nbconvert_exporter": "python",
   "pygments_lexer": "ipython3",
   "version": "3.8.5"
  },
  "notify_time": "30",
  "toc": {
   "base_numbering": 1,
   "nav_menu": {},
   "number_sections": true,
   "sideBar": true,
   "skip_h1_title": false,
   "title_cell": "Table of Contents",
   "title_sidebar": "Contents",
   "toc_cell": true,
   "toc_position": {
    "height": "calc(100% - 180px)",
    "left": "10px",
    "top": "150px",
    "width": "252.4px"
   },
   "toc_section_display": "block",
   "toc_window_display": true
  },
  "toc-autonumbering": true,
  "toc-showcode": false,
  "toc-showmarkdowntxt": true,
  "toc-showtags": false
 },
 "nbformat": 4,
 "nbformat_minor": 2
}
