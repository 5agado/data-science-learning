{
 "cells": [
  {
   "cell_type": "markdown",
   "metadata": {
    "toc": true
   },
   "source": [
    "<h1>Table of Contents<span class=\"tocSkip\"></span></h1>\n",
    "<div class=\"toc\"><ul class=\"toc-item\"><li><span><a href=\"#Intro\" data-toc-modified-id=\"Intro-1\"><span class=\"toc-item-num\">1&nbsp;&nbsp;</span>Intro</a></span></li><li><span><a href=\"#Discrete-Laplacian\" data-toc-modified-id=\"Discrete-Laplacian-2\"><span class=\"toc-item-num\">2&nbsp;&nbsp;</span>Discrete Laplacian</a></span><ul class=\"toc-item\"><li><span><a href=\"#Performances-Eval\" data-toc-modified-id=\"Performances-Eval-2.1\"><span class=\"toc-item-num\">2.1&nbsp;&nbsp;</span>Performances Eval</a></span><ul class=\"toc-item\"><li><span><a href=\"#Profiling\" data-toc-modified-id=\"Profiling-2.1.1\"><span class=\"toc-item-num\">2.1.1&nbsp;&nbsp;</span>Profiling</a></span></li></ul></li></ul></li><li><span><a href=\"#Visualization\" data-toc-modified-id=\"Visualization-3\"><span class=\"toc-item-num\">3&nbsp;&nbsp;</span>Visualization</a></span><ul class=\"toc-item\"><li><span><a href=\"#Interactive-2D\" data-toc-modified-id=\"Interactive-2D-3.1\"><span class=\"toc-item-num\">3.1&nbsp;&nbsp;</span>Interactive 2D</a></span></li><li><span><a href=\"#Slicing-3D\" data-toc-modified-id=\"Slicing-3D-3.2\"><span class=\"toc-item-num\">3.2&nbsp;&nbsp;</span>Slicing 3D</a></span></li><li><span><a href=\"#Plotly-Volume\" data-toc-modified-id=\"Plotly-Volume-3.3\"><span class=\"toc-item-num\">3.3&nbsp;&nbsp;</span>Plotly Volume</a></span></li><li><span><a href=\"#Voxel-Plot\" data-toc-modified-id=\"Voxel-Plot-3.4\"><span class=\"toc-item-num\">3.4&nbsp;&nbsp;</span>Voxel Plot</a></span></li></ul></li><li><span><a href=\"#Generate-Video\" data-toc-modified-id=\"Generate-Video-4\"><span class=\"toc-item-num\">4&nbsp;&nbsp;</span>Generate Video</a></span><ul class=\"toc-item\"><li><span><a href=\"#3D\" data-toc-modified-id=\"3D-4.1\"><span class=\"toc-item-num\">4.1&nbsp;&nbsp;</span>3D</a></span></li><li><span><a href=\"#Rerun-old-configs\" data-toc-modified-id=\"Rerun-old-configs-4.2\"><span class=\"toc-item-num\">4.2&nbsp;&nbsp;</span>Rerun old configs</a></span></li></ul></li><li><span><a href=\"#Parameters-Grid-Search\" data-toc-modified-id=\"Parameters-Grid-Search-5\"><span class=\"toc-item-num\">5&nbsp;&nbsp;</span>Parameters Grid Search</a></span></li></ul></div>"
   ]
  },
  {
   "cell_type": "markdown",
   "metadata": {},
   "source": [
    "# Intro\n",
    "This notebook explores introductory concepts and interactive examples of **reaction-diffusion systems**, which model the evolution of one or more variables subjects to two processes:\n",
    "* reaction: transformation from one state to another\n",
    "* diffusion: expansion across space\n",
    "\n",
    "[Reaction-Diffusion Tutorial by Karl Sims](http://karlsims.com/rd.html)\n",
    "\n",
    "$$ A^{\\prime } = A + (D_A \\nabla^2 A - AB^2 + \\text{f} (1-A)) \\Delta t $$\n",
    "$$ B^{\\prime } = B + (D_B \\nabla^2 B + AB^2 - (k+\\text{f})) \\Delta t $$\n",
    "\n",
    "See also the *Dynamical Systems* notebook."
   ]
  },
  {
   "cell_type": "code",
   "execution_count": 1,
   "metadata": {},
   "outputs": [],
   "source": [
    "# Basic libraries import\n",
    "import numpy as np\n",
    "import seaborn as sns\n",
    "import scipy\n",
    "import matplotlib.pyplot as plt\n",
    "from matplotlib import animation\n",
    "from pathlib import Path\n",
    "from datetime import datetime\n",
    "import cv2\n",
    "from tqdm import tqdm\n",
    "\n",
    "# Plotting\n",
    "%matplotlib notebook\n",
    "\n",
    "sns.set_context(\"paper\")\n",
    "sns.set_style(\"darkgrid\")\n",
    "\n",
    "# Local utils\n",
    "from ReactionDiffusionSystem import ReactionDiffusionSystem, get_init_state, get_polygon_mask, get_cube_mask, get_sphere_mask\n",
    "from ReactionDiffusionSystem import ReactionDiffusionException\n",
    "from ReactionDiffusionSystem import SYSTEM_CORAL_CONFIG, SYSTEM_BACTERIA_CONFIG, SYSTEM_SPIRALS_CONFIG, SYSTEM_ZEBRA_CONFIG\n",
    "plt.rcParams['animation.ffmpeg_path'] = str(Path.home() / \"anaconda3/envs/image-processing/bin/ffmpeg\")\n",
    "\n",
    "from ds_utils.video_utils import generate_video\n",
    "\n",
    "%load_ext autoreload\n",
    "%autoreload 2"
   ]
  },
  {
   "cell_type": "markdown",
   "metadata": {
    "heading_collapsed": true
   },
   "source": [
    "# Discrete Laplacian\n",
    "The Laplace operator has an analog discrete version for discrete grids.\n",
    "\n",
    "In two dimensions can be approximated via \"five-point stencil finite-difference method\". "
   ]
  },
  {
   "cell_type": "code",
   "execution_count": null,
   "metadata": {
    "hidden": true
   },
   "outputs": [],
   "source": [
    "from ReactionDiffusionSystem import discrete_laplacian, discrete_laplacian_convolve, kernel_2d, kernel_2d_2"
   ]
  },
  {
   "cell_type": "code",
   "execution_count": null,
   "metadata": {
    "hidden": true
   },
   "outputs": [],
   "source": [
    "def discrete_laplacian_fivepoint(Z, dx):\n",
    "    Ztop = Z[0:-2, 1:-1]\n",
    "    Zleft = Z[1:-1, 0:-2]\n",
    "    Zbottom = Z[2:, 1:-1]\n",
    "    Zright = Z[1:-1, 2:]\n",
    "    Zcenter = Z[1:-1, 1:-1]\n",
    "    return (Ztop + Zleft + Zbottom + Zright -\n",
    "            4 * Zcenter) / dx**2"
   ]
  },
  {
   "cell_type": "code",
   "execution_count": null,
   "metadata": {
    "hidden": true
   },
   "outputs": [],
   "source": [
    "test_Z = np.ones((4,4)) * 2.\n",
    "test_Z[1,1] = 0\n",
    "test_Z"
   ]
  },
  {
   "cell_type": "code",
   "execution_count": null,
   "metadata": {
    "hidden": true
   },
   "outputs": [],
   "source": [
    "discrete_laplacian_fivepoint(test_Z, dx=1)"
   ]
  },
  {
   "cell_type": "code",
   "execution_count": null,
   "metadata": {
    "hidden": true
   },
   "outputs": [],
   "source": [
    "# use numpy roll in the target directions\n",
    "discrete_laplacian(test_Z, None)"
   ]
  },
  {
   "cell_type": "code",
   "execution_count": null,
   "metadata": {
    "hidden": true
   },
   "outputs": [],
   "source": [
    "# use scipy convolve2d\n",
    "discrete_laplacian_convolve(test_Z, kernel_2d_2)"
   ]
  },
  {
   "cell_type": "code",
   "execution_count": null,
   "metadata": {
    "hidden": true
   },
   "outputs": [],
   "source": [
    "# use cv2 filter\n",
    "cv2.filter2D(test_Z, -1, kernel_2d, borderType=cv2.BORDER_REFLECT)"
   ]
  },
  {
   "cell_type": "code",
   "execution_count": null,
   "metadata": {
    "hidden": true
   },
   "outputs": [],
   "source": [
    "rand_grid = np.random.randint(0, 10, (200,200))\n",
    "%timeit discrete_laplacian(rand_grid)\n",
    "%timeit discrete_laplacian_convolve(rand_grid)\n",
    "%timeit cv2.filter2D(rand_grid*1.0, -1, kernel_2d, borderType=cv2.BORDER_REFLECT)"
   ]
  },
  {
   "cell_type": "markdown",
   "metadata": {
    "hidden": true
   },
   "source": [
    "## Performances Eval"
   ]
  },
  {
   "cell_type": "code",
   "execution_count": null,
   "metadata": {
    "hidden": true
   },
   "outputs": [],
   "source": [
    "def system_run(size=100, steps=10):\n",
    "    system_shape = tuple([size]*3)\n",
    "    rf_system = ReactionDiffusionSystem(system_shape, config,\n",
    "                                       lambda shape: get_init_state(shape, 0.2, None, 0.5, .2),\n",
    "                                        validate_change_threshold=-0.001)\n",
    "    rf_system.run_simulation(steps)"
   ]
  },
  {
   "cell_type": "code",
   "execution_count": null,
   "metadata": {
    "hidden": true
   },
   "outputs": [],
   "source": [
    "%timeit system_run()"
   ]
  },
  {
   "cell_type": "markdown",
   "metadata": {
    "hidden": true
   },
   "source": [
    "### Profiling"
   ]
  },
  {
   "cell_type": "code",
   "execution_count": null,
   "metadata": {
    "hidden": true
   },
   "outputs": [],
   "source": [
    "%%prun -s cumulative -l 30 -r\n",
    "# We profile the cell, sort the report by \"cumulative\n",
    "# time\", limit it to 30 lines\n",
    "\n",
    "system_run(size=100, steps=50)"
   ]
  },
  {
   "cell_type": "markdown",
   "metadata": {
    "heading_collapsed": true
   },
   "source": [
    "# Visualization "
   ]
  },
  {
   "cell_type": "code",
   "execution_count": null,
   "metadata": {
    "hidden": true
   },
   "outputs": [],
   "source": [
    "import ipywidgets as widgets\n",
    "from ipywidgets import interact, interact_manual\n",
    "from IPython.display import display\n",
    "from ipywidgets import Button\n",
    "\n",
    "%matplotlib notebook \n",
    "from matplotlib import animation"
   ]
  },
  {
   "cell_type": "markdown",
   "metadata": {
    "heading_collapsed": true,
    "hidden": true
   },
   "source": [
    "## Interactive 2D"
   ]
  },
  {
   "cell_type": "code",
   "execution_count": null,
   "metadata": {
    "hidden": true
   },
   "outputs": [],
   "source": [
    "def plot_animation(fig, ax, rf_system, nb_frames, simulation_steps, interval=100):\n",
    "    im = ax.imshow(rf_system.B, cmap=plt.cm.Blues, interpolation='bilinear', extent=[-1, 1, -1, 1])\n",
    "\n",
    "    def animate(i, rf_system, simulation_steps):\n",
    "        rf_system.run_simulation(simulation_steps)\n",
    "        im.set_data(rf_system.B)\n",
    "\n",
    "    # Animate\n",
    "    ani = animation.FuncAnimation(fig, animate, frames=nb_frames, interval=interval, \n",
    "                                  fargs=[rf_system, simulation_steps])\n",
    "    return ani"
   ]
  },
  {
   "cell_type": "code",
   "execution_count": null,
   "metadata": {
    "hidden": true
   },
   "outputs": [],
   "source": [
    "# setup plot\n",
    "nb_frames = 200\n",
    "simulation_steps = 30\n",
    "\n",
    "img_width = img_height = 100\n",
    "fig, ax = plt.subplots(dpi=100, figsize=(5, 5))\n",
    "plt.axis('off')\n",
    "\n",
    "# system config\n",
    "config = SYSTEM_SPIRALS_CONFIG.copy()\n",
    "config['COEFF_A'] = .21\n",
    "config['COEFF_B'] = 0.05\n",
    "#config['FEED_RATE'] = 0.0625\n",
    "#config['KILL_RATE'] = 0.05\n",
    "\n",
    "# system init\n",
    "system_shape = (img_width, img_height)\n",
    "mask = get_polygon_mask(system_shape, 4, system_shape[0]//10, np.array(system_shape) // 2)\n",
    "mask = cv2.resize(cv2.imread(\"C:/Users/User/Downloads/rd_mask.png\", cv2.IMREAD_GRAYSCALE), system_shape)\n",
    "rf_system = ReactionDiffusionSystem(system_shape, config,\n",
    "                                   lambda shape: get_init_state(shape, 0.0, mask),\n",
    "                                   validate_change_threshold=0.0001)\n",
    "\n",
    "# plot\n",
    "plot_animation(fig, ax, rf_system,\n",
    "                nb_frames=nb_frames, simulation_steps=simulation_steps, interval=10)"
   ]
  },
  {
   "cell_type": "code",
   "execution_count": null,
   "metadata": {
    "hidden": true
   },
   "outputs": [],
   "source": [
    "# setup plot\n",
    "nb_frames = 100\n",
    "simulation_steps = 10\n",
    "\n",
    "img_width = img_height = 100\n",
    "fig, ax = plt.subplots(dpi=100, figsize=(5, 5))\n",
    "plt.axis('off')\n",
    "\n",
    "@interact\n",
    "def i_style_mixing(coeff_a = np.linspace(0.10, 0.2, 10), coeff_b = np.linspace(0.01, 0.1, 10), \n",
    "                   feed_rate = np.linspace(0.03, 0.05, 10), kill_rate = np.linspace(0.05, 0.08, 10)):\n",
    "    config = {'COEFF_A': coeff_a, 'COEFF_B': coeff_b, \n",
    "              'FEED_RATE': feed_rate, 'KILL_RATE': kill_rate}\n",
    "    return plot_animation(fig, ax, (img_width, img_height), config,\n",
    "                  nb_frames=nb_frames, simulation_steps=simulation_steps, interval=10)"
   ]
  },
  {
   "cell_type": "markdown",
   "metadata": {
    "heading_collapsed": true,
    "hidden": true
   },
   "source": [
    "## Slicing 3D"
   ]
  },
  {
   "cell_type": "code",
   "execution_count": null,
   "metadata": {
    "hidden": true
   },
   "outputs": [],
   "source": [
    "system_shape = tuple([50]*3)\n",
    "mask = get_cube_mask(system_shape, system_shape[0]//10, np.array(system_shape) // 2)\n",
    "rf_system = ReactionDiffusionSystem(system_shape, SYSTEM_CORAL_CONFIG,\n",
    "                                   lambda shape: get_init_state(shape, 0.0, mask=mask))\n",
    "\n",
    "rf_system.run_simulation(1000)"
   ]
  },
  {
   "cell_type": "code",
   "execution_count": null,
   "metadata": {
    "hidden": true
   },
   "outputs": [],
   "source": [
    "%matplotlib notebook\n",
    "from matplotlib.widgets import Slider\n",
    "fig, ax = plt.subplots(1, 1, figsize=(8, 8))\n",
    "plt.axis('off')\n",
    "idx0 = 3\n",
    "l = ax.imshow(rf_system.get_concentration()[idx0], cmap=plt.cm.copper,\n",
    "          interpolation='bilinear',\n",
    "          extent=[-1, 1, -1, 1])\n",
    "\n",
    "axidx = plt.axes([0.25, 0.15, 0.65, 0.03])\n",
    "slidx = Slider(axidx, 'index', 0, system_shape[2], valinit=idx0, valfmt='%d')\n",
    "\n",
    "def update(val):\n",
    "    idx = slidx.val\n",
    "    l.set_data(rf_system.get_concentration()[int(idx)])\n",
    "    fig.canvas.draw_idle()\n",
    "slidx.on_changed(update)\n",
    "\n",
    "plt.show()"
   ]
  },
  {
   "cell_type": "markdown",
   "metadata": {
    "hidden": true
   },
   "source": [
    "## Plotly Volume"
   ]
  },
  {
   "cell_type": "code",
   "execution_count": null,
   "metadata": {
    "hidden": true
   },
   "outputs": [],
   "source": [
    "import plotly.graph_objects as go"
   ]
  },
  {
   "cell_type": "code",
   "execution_count": null,
   "metadata": {
    "hidden": true
   },
   "outputs": [],
   "source": [
    "side = 50\n",
    "system_shape = tuple([side]*3)\n",
    "\n",
    "rf_system = ReactionDiffusionSystem(system_shape, SYSTEM_ZEBRA_CONFIG,\n",
    "                                   lambda shape: get_init_state(shape, 'CENTER'))\n",
    "isomin=0.06\n",
    "isomax=0.5\n",
    "\n",
    "# store the state of multiple simulation to replay in the 3D plot\n",
    "res = []\n",
    "for i in range(10):\n",
    "    rf_system.run_simulation(300)\n",
    "    res.append(rf_system.B.copy())"
   ]
  },
  {
   "cell_type": "code",
   "execution_count": null,
   "metadata": {
    "hidden": true
   },
   "outputs": [],
   "source": [
    "def volume_data(X, Y, Z, values, isomin, isomax):\n",
    "    return go.Isosurface(\n",
    "        x=X.flatten(),\n",
    "        y=Y.flatten(),\n",
    "        z=Z.flatten(),\n",
    "        value=values.flatten(),\n",
    "        isomin=isomin,\n",
    "        isomax=isomax,\n",
    "        opacity=0.7, # needs to be small to see through all surfaces\n",
    "        surface_count=10, # needs to be a large number for good volume rendering\n",
    "    )"
   ]
  },
  {
   "cell_type": "code",
   "execution_count": null,
   "metadata": {
    "hidden": true
   },
   "outputs": [],
   "source": [
    "X, Y, Z = np.mgrid[0:side, 0:side, 0:side]\n",
    "\n",
    "fig = go.Figure(\n",
    "    data=[volume_data(X, Y, Z, res[0], isomin, isomax)],\n",
    "    layout=go.Layout(\n",
    "        updatemenus=[dict(\n",
    "            type=\"buttons\",\n",
    "            buttons=[dict(label=\"Play\",\n",
    "                          method=\"animate\",\n",
    "                          args=[None])])]\n",
    "    ),\n",
    "    frames=[go.Frame(data=volume_data(X, Y, Z, v, isomin, isomax)) for v in res]\n",
    "    )\n",
    "fig.show()"
   ]
  },
  {
   "cell_type": "markdown",
   "metadata": {
    "hidden": true
   },
   "source": [
    "## Voxel Plot"
   ]
  },
  {
   "cell_type": "code",
   "execution_count": null,
   "metadata": {
    "hidden": true
   },
   "outputs": [],
   "source": [
    "from mpl_toolkits.mplot3d import Axes3D\n",
    "fig = plt.figure()\n",
    "ax = fig.add_subplot(111, projection='3d')\n",
    "ax.plot_trisurf(verts[:, 0], verts[:,1], faces, verts[:, 2],\n",
    "                linewidth=0.2, antialiased=True)\n",
    "plt.show()"
   ]
  },
  {
   "cell_type": "code",
   "execution_count": null,
   "metadata": {
    "hidden": true
   },
   "outputs": [],
   "source": [
    "from mpl_toolkits.mplot3d import Axes3D\n",
    "\n",
    "fig = plt.figure()\n",
    "ax = fig.add_subplot(111, projection='3d')\n",
    "#xx, yy, zz = np.where(rf_system.B> 0.003)\n",
    "ax.voxels(rf_system.B> 0.01)"
   ]
  },
  {
   "cell_type": "markdown",
   "metadata": {
    "heading_collapsed": true
   },
   "source": [
    "# Generate Video"
   ]
  },
  {
   "cell_type": "code",
   "execution_count": null,
   "metadata": {
    "hidden": true
   },
   "outputs": [],
   "source": [
    "def draw(U):\n",
    "    fig, ax = plt.subplots(1, 1, figsize=(8, 8))\n",
    "    ax.imshow(U, cmap=plt.cm.copper,\n",
    "              interpolation='bilinear',\n",
    "              extent=[-1, 1, -1, 1])\n",
    "    ax.set_axis_off()"
   ]
  },
  {
   "cell_type": "code",
   "execution_count": null,
   "metadata": {
    "hidden": true
   },
   "outputs": [],
   "source": [
    "rf_system = ReactionDiffusionSystem((100, 100), SYSTEM_BACTERIA_CONFIG)"
   ]
  },
  {
   "cell_type": "code",
   "execution_count": null,
   "metadata": {
    "hidden": true
   },
   "outputs": [],
   "source": [
    "rf_system.run_simulation(1000, delta_t=1.2)"
   ]
  },
  {
   "cell_type": "code",
   "execution_count": null,
   "metadata": {
    "hidden": true
   },
   "outputs": [],
   "source": [
    "draw(rf_system.B)"
   ]
  },
  {
   "cell_type": "code",
   "execution_count": null,
   "metadata": {
    "hidden": true
   },
   "outputs": [],
   "source": [
    "def base_frame_gen(frame_count, rf_system, simulation_steps):\n",
    "    rf_system.run_simulation(simulation_steps)\n",
    "    img = cv2.normalize(rf_system.get_concentration(), None, 255, 0, norm_type=cv2.NORM_MINMAX, dtype=cv2.CV_8U)\n",
    "    return img"
   ]
  },
  {
   "cell_type": "code",
   "execution_count": null,
   "metadata": {
    "hidden": true
   },
   "outputs": [],
   "source": [
    "def touch_frame_gen(frame_count, rf_system, simulation_steps):\n",
    "    rf_system.run_simulation(simulation_steps)\n",
    "    #if i == nb_frames//2:\n",
    "    #    center = np.array(rf_system.shape) // 2\n",
    "    #    r = np.array(rf_system.shape) // 10\n",
    "    #    rf_system.B[center[0] - r[0]:center[0] + r[0], center[1] - r[1]:center[1] + r[1]] = 0.25\n",
    "    img = cv2.normalize(rf_system.B, None, 255, 0, norm_type=cv2.NORM_MINMAX, dtype=cv2.CV_8U)\n",
    "    return img"
   ]
  },
  {
   "cell_type": "code",
   "execution_count": null,
   "metadata": {
    "hidden": true
   },
   "outputs": [],
   "source": [
    "generate_video(str(out_path/\"tmp.mp4\"), (rf_system.shape[1], rf_system.shape[0]),\n",
    "               frame_gen_fun = lambda i: base_frame_gen(i, rf_system, 20),\n",
    "               nb_frames = 10)"
   ]
  },
  {
   "cell_type": "markdown",
   "metadata": {
    "heading_collapsed": true,
    "hidden": true
   },
   "source": [
    "## 3D"
   ]
  },
  {
   "cell_type": "code",
   "execution_count": null,
   "metadata": {
    "hidden": true
   },
   "outputs": [],
   "source": [
    "def frame_gen_3d(frame_count, z_coord, rf_snapshots):\n",
    "    img = cv2.normalize(rf_snapshots[frame_count][z_coord], None, 255, 0, norm_type=cv2.NORM_MINMAX, dtype=cv2.CV_8U)\n",
    "    return img"
   ]
  },
  {
   "cell_type": "code",
   "execution_count": null,
   "metadata": {
    "hidden": true
   },
   "outputs": [],
   "source": [
    "config = {'COEFF_A': 0.12, 'COEFF_B': 0.07, 'FEED_RATE': 0.041249999999999995, 'KILL_RATE': 0.058, 'steps': 30, 'random_influence': 0.0, 'validate_change_threshold': 1e-06, 'nb_frames': 228}\n",
    "config = SYSTEM_SPIRALS_CONFIG\n",
    "\n",
    "# create 3d system\n",
    "system_shape = tuple([50]*3)\n",
    "mask = get_cube_mask(system_shape, system_shape[0]//5, np.array(system_shape) // 2)\n",
    "rf_system = ReactionDiffusionSystem(system_shape, config,\n",
    "                                   lambda shape: get_init_state(shape, random_influence=0.0, mask=mask),\n",
    "                                   validate_change_threshold=1.e-6)"
   ]
  },
  {
   "cell_type": "code",
   "execution_count": null,
   "metadata": {
    "hidden": true
   },
   "outputs": [],
   "source": [
    "rf_snapshots = []\n",
    "nb_frames = 240\n",
    "nb_steps = 30\n",
    "for i in range(nb_frames):\n",
    "    rf_system.run_simulation(nb_steps)\n",
    "    rf_snapshots.append(rf_system.B)\n",
    "    #if i%50 == 0:\n",
    "    #    print(i)"
   ]
  },
  {
   "cell_type": "code",
   "execution_count": null,
   "metadata": {
    "hidden": true
   },
   "outputs": [],
   "source": [
    "out_path = Path.home() / 'reaction_diffusion'\n",
    "out_path.mkdir(exist_ok=False, parents=True)\n",
    "#for z_coord in range(system_shape[2]):\n",
    "#    img = cv2.normalize(rf_system.B[z_coord], None, 255, 0, norm_type=cv2.NORM_MINMAX, dtype=cv2.CV_8U)\n",
    "#    cv2.imwrite(str(out_path / f'{z_coord}.png'), img)\n",
    "\n",
    "for z_coord in range(system_shape[0]):\n",
    "    generate_video(str(out_path/f\"{z_coord}.mp4\"), \n",
    "                   (rf_system.shape[2], rf_system.shape[1]),\n",
    "                   frame_gen_fun = lambda i: frame_gen_3d(i, z_coord, rf_snapshots),\n",
    "                   nb_frames = nb_frames, is_color=False)"
   ]
  },
  {
   "cell_type": "markdown",
   "metadata": {
    "heading_collapsed": true,
    "hidden": true
   },
   "source": [
    "## Rerun old configs"
   ]
  },
  {
   "cell_type": "code",
   "execution_count": null,
   "metadata": {
    "hidden": true
   },
   "outputs": [],
   "source": [
    "from ast import literal_eval\n",
    "target_path = Path.home() / 'reaction_diffusion/3d_slicing/100x100'\n",
    "out_path = Path.home() / 'reaction_diffusion/3d_slicing/100x100_slow'\n",
    "out_path.mkdir(exist_ok=True, parents=True)\n",
    "NUM_FRAMES = 240\n",
    "with open(str(target_path / 'logs.txt'), 'r') as f:\n",
    "    for run, line in enumerate(f):\n",
    "        print(f'#####################')\n",
    "        print(f'Run {run}')\n",
    "        rf_snapshots = []\n",
    "        config = literal_eval(line)\n",
    "        config['steps'] = 10\n",
    "        if config['nb_frames'] < 100:\n",
    "            continue\n",
    "\n",
    "        # init reaction diffusion system\n",
    "        system_shape = tuple([100]*3)\n",
    "        mask = get_cube_mask(system_shape, system_shape[0]//5, np.array(system_shape) // 2)\n",
    "        system_init_fun = lambda shape: get_init_state(shape, random_influence=config['random_influence'], mask=mask)\n",
    "        rf_system = ReactionDiffusionSystem(system_shape, config, system_init_fun,\n",
    "                                            validate_change_threshold=config['validate_change_threshold'])\n",
    "\n",
    "        # run and store snapshot\n",
    "        for i in range(NUM_FRAMES):\n",
    "            try:\n",
    "                rf_system.run_simulation(config['steps'])\n",
    "                rf_snapshots.append(rf_system.B)\n",
    "            except ReactionDiffusionException as e:\n",
    "                print(f'System throw exception at frame {i} {e}')\n",
    "                break\n",
    "            if i % 50 == 0:\n",
    "                print('Frame ', i)\n",
    "\n",
    "        # write out numpy 4D tensor\n",
    "        np.save(out_path / f'run_{run}.npy', np.array(rf_snapshots, dtype=np.float16))\n",
    "\n",
    "        # write out as sliced videos\n",
    "        run_out_path = out_path / f'vid_run_{run:03}'\n",
    "        run_out_path.mkdir(exist_ok=True, parents=True)\n",
    "        for z_coord in range(system_shape[0]):\n",
    "            generate_video(str(run_out_path / f\"{z_coord}.mp4\"),\n",
    "                           (rf_system.shape[2], rf_system.shape[1]),\n",
    "                           frame_gen_fun=lambda i: frame_gen_3d(i, z_coord, rf_snapshots),\n",
    "                           nb_frames=len(rf_snapshots), is_color=False, disable_tqdm=True)"
   ]
  },
  {
   "cell_type": "markdown",
   "metadata": {},
   "source": [
    "# Parameters Grid Search "
   ]
  },
  {
   "cell_type": "code",
   "execution_count": 2,
   "metadata": {},
   "outputs": [
    {
     "name": "stdout",
     "output_type": "stream",
     "text": [
      "Jupyter environment detected. Enabling Open3D WebVisualizer.\n",
      "[Open3D INFO] WebRTC GUI backend enabled.\n",
      "[Open3D INFO] WebRTCWindowSystem: HTTP handshake server disabled.\n"
     ]
    }
   ],
   "source": [
    "from ds_utils.sim_utils import named_configs\n",
    "from ds_utils.point_cloud_utils import prepare_for_ply, write_to_ply"
   ]
  },
  {
   "cell_type": "code",
   "execution_count": 4,
   "metadata": {},
   "outputs": [],
   "source": [
    "out_path = Path.home() / 'Documents/graphics/generative_art_output/rd'"
   ]
  },
  {
   "cell_type": "code",
   "execution_count": 5,
   "metadata": {},
   "outputs": [],
   "source": [
    "import cupy as cp\n",
    "def normalize_snapshots(snapshots):\n",
    "    norm_s = cp.asnumpy(cp.array(snapshots))\n",
    "    norm_s = (norm_s/norm_s.max())*255\n",
    "    return norm_s.astype(np.uint8)"
   ]
  },
  {
   "cell_type": "code",
   "execution_count": 6,
   "metadata": {},
   "outputs": [],
   "source": [
    "def get_mean_edges(norm_snapshots, edge_size):\n",
    "    img = norm_snapshots[-1][edge_size:-edge_size, edge_size:-edge_size, edge_size:-edge_size]\n",
    "    # remove noise to improve edge detection results\n",
    "    blurred_img = cv2.GaussianBlur(img, (5, 5), 0)\n",
    "    # canny edge detection\n",
    "    edges = cv2.Canny((blurred_img * 255).astype('uint8'), 100, 200)\n",
    "    return edges.mean()"
   ]
  },
  {
   "cell_type": "code",
   "execution_count": 7,
   "metadata": {},
   "outputs": [],
   "source": [
    "nb_vals = 3\n",
    "grid_search_params = {\n",
    "    'COEFF_A': np.linspace(0.12, 0.16, nb_vals),\n",
    "    'COEFF_B': np.linspace(0.06, 0.08, nb_vals),\n",
    "    'FEED_RATE': np.linspace(0.02, 0.0625, nb_vals),\n",
    "    'KILL_RATE': np.linspace(0.05, 0.066, nb_vals),\n",
    "}\n",
    "configs = list(named_configs(grid_search_params))"
   ]
  },
  {
   "cell_type": "code",
   "execution_count": 8,
   "metadata": {
    "scrolled": true
   },
   "outputs": [
    {
     "name": "stderr",
     "output_type": "stream",
     "text": [
      "\r",
      "0it [00:00, ?it/s]"
     ]
    },
    {
     "name": "stdout",
     "output_type": "stream",
     "text": [
      "#####################\n",
      "Run 0 - config 0\n",
      "Frame  0\n",
      "Frame  50\n",
      "Frame  100\n",
      "Frame  150\n",
      "mean_edges: 46.54\n",
      "Writing ply files\n"
     ]
    },
    {
     "name": "stderr",
     "output_type": "stream",
     "text": [
      "\r",
      "1it [01:32, 92.79s/it]"
     ]
    },
    {
     "name": "stdout",
     "output_type": "stream",
     "text": [
      "Generating video\n",
      "#####################\n",
      "Run 0 - config 1\n",
      "Frame  0\n"
     ]
    },
    {
     "name": "stderr",
     "output_type": "stream",
     "text": [
      "\r",
      "2it [01:33, 65.13s/it]"
     ]
    },
    {
     "name": "stdout",
     "output_type": "stream",
     "text": [
      "System throw exception at frame 14 abs_change = 0.0\n",
      "#####################\n",
      "Run 0 - config 2\n",
      "Frame  0\n"
     ]
    },
    {
     "name": "stderr",
     "output_type": "stream",
     "text": [
      "\r",
      "3it [01:33, 45.70s/it]"
     ]
    },
    {
     "name": "stdout",
     "output_type": "stream",
     "text": [
      "System throw exception at frame 10 abs_change = 0.0\n",
      "#####################\n",
      "Run 0 - config 3\n",
      "Frame  0\n",
      "Frame  50\n",
      "Frame  100\n"
     ]
    },
    {
     "name": "stderr",
     "output_type": "stream",
     "text": [
      "\r",
      "4it [01:37, 33.17s/it]"
     ]
    },
    {
     "name": "stdout",
     "output_type": "stream",
     "text": [
      "System throw exception at frame 117 abs_change = 0.0\n",
      "#####################\n",
      "Run 0 - config 4\n",
      "Frame  0\n",
      "Frame  50\n",
      "Frame  100\n",
      "Frame  150\n"
     ]
    },
    {
     "name": "stderr",
     "output_type": "stream",
     "text": [
      "\r",
      "5it [01:47, 26.02s/it]"
     ]
    },
    {
     "name": "stdout",
     "output_type": "stream",
     "text": [
      "Skipping because low mean_edges (2.05)\n",
      "#####################\n",
      "Run 0 - config 5\n",
      "Frame  0\n"
     ]
    },
    {
     "name": "stderr",
     "output_type": "stream",
     "text": [
      "\r",
      "6it [01:47, 18.40s/it]"
     ]
    },
    {
     "name": "stdout",
     "output_type": "stream",
     "text": [
      "System throw exception at frame 10 abs_change = 0.0\n",
      "#####################\n",
      "Run 0 - config 6\n",
      "Frame  0\n",
      "Frame  50\n",
      "Frame  100\n"
     ]
    },
    {
     "name": "stderr",
     "output_type": "stream",
     "text": [
      "\r",
      "7it [01:52, 14.26s/it]"
     ]
    },
    {
     "name": "stdout",
     "output_type": "stream",
     "text": [
      "System throw exception at frame 139 abs_change = 0.0\n",
      "#####################\n",
      "Run 0 - config 7\n",
      "Frame  0\n",
      "Frame  50\n",
      "Frame  100\n",
      "Frame  150\n"
     ]
    },
    {
     "name": "stderr",
     "output_type": "stream",
     "text": [
      "\r",
      "8it [02:01, 12.75s/it]"
     ]
    },
    {
     "name": "stdout",
     "output_type": "stream",
     "text": [
      "Skipping because low mean_edges (2.34)\n",
      "#####################\n",
      "Run 0 - config 8\n",
      "Frame  0\n"
     ]
    },
    {
     "name": "stderr",
     "output_type": "stream",
     "text": [
      "\r",
      "9it [02:01,  9.08s/it]"
     ]
    },
    {
     "name": "stdout",
     "output_type": "stream",
     "text": [
      "System throw exception at frame 7 abs_change = 0.0\n",
      "#####################\n",
      "Run 0 - config 9\n",
      "Frame  0\n",
      "Frame  50\n",
      "Frame  100\n",
      "Frame  150\n",
      "mean_edges: 32.65\n",
      "Writing ply files\n"
     ]
    },
    {
     "name": "stderr",
     "output_type": "stream",
     "text": [
      "\r",
      "10it [03:24, 31.15s/it]"
     ]
    },
    {
     "name": "stdout",
     "output_type": "stream",
     "text": [
      "Generating video\n",
      "#####################\n",
      "Run 0 - config 10\n",
      "Frame  0\n"
     ]
    },
    {
     "name": "stderr",
     "output_type": "stream",
     "text": [
      "\r",
      "11it [03:25, 22.05s/it]"
     ]
    },
    {
     "name": "stdout",
     "output_type": "stream",
     "text": [
      "System throw exception at frame 13 abs_change = 0.0\n",
      "#####################\n",
      "Run 0 - config 11\n",
      "Frame  0\n"
     ]
    },
    {
     "name": "stderr",
     "output_type": "stream",
     "text": [
      "\r",
      "12it [03:25, 15.54s/it]"
     ]
    },
    {
     "name": "stdout",
     "output_type": "stream",
     "text": [
      "System throw exception at frame 10 abs_change = 0.0\n",
      "#####################\n",
      "Run 0 - config 12\n",
      "Frame  0\n",
      "Frame  50\n"
     ]
    },
    {
     "name": "stderr",
     "output_type": "stream",
     "text": [
      "\r",
      "13it [03:29, 11.92s/it]"
     ]
    },
    {
     "name": "stdout",
     "output_type": "stream",
     "text": [
      "Frame  100\n",
      "System throw exception at frame 106 abs_change = 0.0\n",
      "#####################\n",
      "Run 0 - config 13\n",
      "Frame  0\n",
      "Frame  50\n",
      "Frame  100\n",
      "Frame  150\n"
     ]
    },
    {
     "name": "stderr",
     "output_type": "stream",
     "text": [
      "\r",
      "14it [03:38, 11.08s/it]"
     ]
    },
    {
     "name": "stdout",
     "output_type": "stream",
     "text": [
      "Skipping because low mean_edges (1.06)\n",
      "#####################\n",
      "Run 0 - config 14\n",
      "Frame  0\n"
     ]
    },
    {
     "name": "stderr",
     "output_type": "stream",
     "text": [
      "\r",
      "15it [03:38,  7.92s/it]"
     ]
    },
    {
     "name": "stdout",
     "output_type": "stream",
     "text": [
      "System throw exception at frame 9 abs_change = 0.0\n",
      "#####################\n",
      "Run 0 - config 15\n",
      "Frame  0\n",
      "Frame  50\n",
      "Frame  100\n",
      "System throw exception at frame 147 abs_change = 0.0\n"
     ]
    },
    {
     "name": "stderr",
     "output_type": "stream",
     "text": [
      "\r",
      "16it [03:46,  7.78s/it]"
     ]
    },
    {
     "name": "stdout",
     "output_type": "stream",
     "text": [
      "Skipping because low mean_edges (0.00)\n",
      "#####################\n",
      "Run 0 - config 16\n",
      "Frame  0\n",
      "Frame  50\n",
      "Frame  100\n",
      "Frame  150\n"
     ]
    },
    {
     "name": "stderr",
     "output_type": "stream",
     "text": [
      "\r",
      "17it [03:55,  8.26s/it]"
     ]
    },
    {
     "name": "stdout",
     "output_type": "stream",
     "text": [
      "Skipping because low mean_edges (11.62)\n",
      "#####################\n",
      "Run 0 - config 17\n",
      "Frame  0\n"
     ]
    },
    {
     "name": "stderr",
     "output_type": "stream",
     "text": [
      "\r",
      "18it [03:56,  5.93s/it]"
     ]
    },
    {
     "name": "stdout",
     "output_type": "stream",
     "text": [
      "System throw exception at frame 7 abs_change = 0.0\n",
      "#####################\n",
      "Run 0 - config 18\n",
      "Frame  0\n",
      "Frame  50\n",
      "Frame  100\n",
      "System throw exception at frame 148 abs_change = 0.0\n"
     ]
    },
    {
     "name": "stderr",
     "output_type": "stream",
     "text": [
      "\r",
      "19it [04:04,  6.54s/it]"
     ]
    },
    {
     "name": "stdout",
     "output_type": "stream",
     "text": [
      "Skipping because low mean_edges (0.00)\n",
      "#####################\n",
      "Run 0 - config 19\n",
      "Frame  0\n"
     ]
    },
    {
     "name": "stderr",
     "output_type": "stream",
     "text": [
      "\r",
      "20it [04:04,  4.79s/it]"
     ]
    },
    {
     "name": "stdout",
     "output_type": "stream",
     "text": [
      "System throw exception at frame 12 abs_change = 0.0\n",
      "#####################\n",
      "Run 0 - config 20\n",
      "Frame  0\n"
     ]
    },
    {
     "name": "stderr",
     "output_type": "stream",
     "text": [
      "\r",
      "21it [04:05,  3.45s/it]"
     ]
    },
    {
     "name": "stdout",
     "output_type": "stream",
     "text": [
      "System throw exception at frame 10 abs_change = 0.0\n",
      "#####################\n",
      "Run 0 - config 21\n",
      "Frame  0\n",
      "Frame  50\n"
     ]
    },
    {
     "name": "stderr",
     "output_type": "stream",
     "text": [
      "\r",
      "22it [04:08,  3.43s/it]"
     ]
    },
    {
     "name": "stdout",
     "output_type": "stream",
     "text": [
      "System throw exception at frame 100 abs_change = 0.0\n",
      "#####################\n",
      "Run 0 - config 22\n",
      "Frame  0\n",
      "Frame  50\n",
      "Frame  100\n",
      "Frame  150\n"
     ]
    },
    {
     "name": "stderr",
     "output_type": "stream",
     "text": [
      "\r",
      "23it [04:18,  5.32s/it]"
     ]
    },
    {
     "name": "stdout",
     "output_type": "stream",
     "text": [
      "Skipping because low mean_edges (10.91)\n",
      "#####################\n",
      "Run 0 - config 23\n",
      "Frame  0\n"
     ]
    },
    {
     "name": "stderr",
     "output_type": "stream",
     "text": [
      "\r",
      "24it [04:18,  3.89s/it]"
     ]
    },
    {
     "name": "stdout",
     "output_type": "stream",
     "text": [
      "System throw exception at frame 9 abs_change = 0.0\n",
      "#####################\n",
      "Run 0 - config 24\n",
      "Frame  0\n",
      "Frame  50\n",
      "Frame  100\n"
     ]
    },
    {
     "name": "stderr",
     "output_type": "stream",
     "text": [
      "\r",
      "25it [04:22,  3.92s/it]"
     ]
    },
    {
     "name": "stdout",
     "output_type": "stream",
     "text": [
      "System throw exception at frame 119 abs_change = 0.0\n",
      "#####################\n",
      "Run 0 - config 25\n",
      "Frame  0\n",
      "Frame  50\n",
      "Frame  100\n",
      "Frame  150\n",
      "mean_edges: 30.18\n",
      "Writing ply files\n"
     ]
    },
    {
     "name": "stderr",
     "output_type": "stream",
     "text": [
      "\r",
      "26it [06:11, 35.28s/it]"
     ]
    },
    {
     "name": "stdout",
     "output_type": "stream",
     "text": [
      "Generating video\n",
      "#####################\n",
      "Run 0 - config 26\n",
      "Frame  0\n"
     ]
    },
    {
     "name": "stderr",
     "output_type": "stream",
     "text": [
      "\r",
      "27it [06:11, 24.87s/it]"
     ]
    },
    {
     "name": "stdout",
     "output_type": "stream",
     "text": [
      "System throw exception at frame 7 abs_change = 0.0\n",
      "#####################\n",
      "Run 0 - config 27\n",
      "Frame  0\n",
      "Frame  50\n",
      "Frame  100\n",
      "Frame  150\n",
      "mean_edges: 69.35\n",
      "Writing ply files\n"
     ]
    },
    {
     "name": "stderr",
     "output_type": "stream",
     "text": [
      "\r",
      "28it [08:21, 56.26s/it]"
     ]
    },
    {
     "name": "stdout",
     "output_type": "stream",
     "text": [
      "Generating video\n",
      "#####################\n",
      "Run 0 - config 28\n",
      "Frame  0\n",
      "Frame  50\n",
      "Frame  100\n",
      "Frame  150\n",
      "mean_edges: 39.81\n",
      "Writing ply files\n"
     ]
    },
    {
     "name": "stderr",
     "output_type": "stream",
     "text": [
      "\r",
      "29it [09:19, 56.80s/it]"
     ]
    },
    {
     "name": "stdout",
     "output_type": "stream",
     "text": [
      "Generating video\n",
      "#####################\n",
      "Run 0 - config 29\n",
      "Frame  0\n"
     ]
    },
    {
     "name": "stderr",
     "output_type": "stream",
     "text": [
      "\r",
      "30it [09:20, 39.98s/it]"
     ]
    },
    {
     "name": "stdout",
     "output_type": "stream",
     "text": [
      "System throw exception at frame 10 abs_change = 0.0\n",
      "#####################\n",
      "Run 0 - config 30\n",
      "Frame  0\n",
      "Frame  50\n",
      "Frame  100\n"
     ]
    },
    {
     "name": "stderr",
     "output_type": "stream",
     "text": [
      "\r",
      "31it [09:24, 29.30s/it]"
     ]
    },
    {
     "name": "stdout",
     "output_type": "stream",
     "text": [
      "System throw exception at frame 118 abs_change = 0.0\n",
      "#####################\n",
      "Run 0 - config 31\n",
      "Frame  0\n",
      "Frame  50\n",
      "Frame  100\n",
      "Frame  150\n",
      "mean_edges: 76.50\n",
      "Writing ply files\n"
     ]
    },
    {
     "name": "stderr",
     "output_type": "stream",
     "text": [
      "\r",
      "32it [12:25, 74.90s/it]"
     ]
    },
    {
     "name": "stdout",
     "output_type": "stream",
     "text": [
      "Generating video\n",
      "#####################\n",
      "Run 0 - config 32\n",
      "Frame  0\n",
      "Frame  50\n",
      "Frame  100\n",
      "Frame  150\n",
      "mean_edges: 56.03\n",
      "Writing ply files\n"
     ]
    },
    {
     "name": "stderr",
     "output_type": "stream",
     "text": [
      "\r",
      "33it [13:04, 63.90s/it]"
     ]
    },
    {
     "name": "stdout",
     "output_type": "stream",
     "text": [
      "Generating video\n",
      "#####################\n",
      "Run 0 - config 33\n",
      "Frame  0\n",
      "Frame  50\n",
      "Frame  100\n"
     ]
    },
    {
     "name": "stderr",
     "output_type": "stream",
     "text": [
      "\r",
      "34it [13:09, 46.24s/it]"
     ]
    },
    {
     "name": "stdout",
     "output_type": "stream",
     "text": [
      "System throw exception at frame 131 abs_change = 0.0\n",
      "#####################\n",
      "Run 0 - config 34\n",
      "Frame  0\n",
      "Frame  50\n",
      "Frame  100\n",
      "Frame  150\n"
     ]
    },
    {
     "name": "stderr",
     "output_type": "stream",
     "text": [
      "\r",
      "35it [13:20, 35.64s/it]"
     ]
    },
    {
     "name": "stdout",
     "output_type": "stream",
     "text": [
      "Skipping because low mean_edges (0.00)\n",
      "#####################\n",
      "Run 0 - config 35\n",
      "Frame  0\n"
     ]
    },
    {
     "name": "stderr",
     "output_type": "stream",
     "text": [
      "\r",
      "36it [13:20, 25.12s/it]"
     ]
    },
    {
     "name": "stdout",
     "output_type": "stream",
     "text": [
      "System throw exception at frame 7 abs_change = 0.0\n",
      "#####################\n",
      "Run 0 - config 36\n",
      "Frame  0\n",
      "Frame  50\n",
      "Frame  100\n",
      "Frame  150\n",
      "mean_edges: 31.88\n",
      "Writing ply files\n"
     ]
    },
    {
     "name": "stderr",
     "output_type": "stream",
     "text": [
      "\r",
      "37it [14:42, 42.02s/it]"
     ]
    },
    {
     "name": "stdout",
     "output_type": "stream",
     "text": [
      "Generating video\n",
      "#####################\n",
      "Run 0 - config 37\n",
      "Frame  0\n"
     ]
    },
    {
     "name": "stderr",
     "output_type": "stream",
     "text": [
      "\r",
      "38it [14:42, 29.63s/it]"
     ]
    },
    {
     "name": "stdout",
     "output_type": "stream",
     "text": [
      "System throw exception at frame 14 abs_change = 0.0\n",
      "#####################\n",
      "Run 0 - config 38\n",
      "Frame  0\n"
     ]
    },
    {
     "name": "stderr",
     "output_type": "stream",
     "text": [
      "\r",
      "39it [14:43, 20.84s/it]"
     ]
    },
    {
     "name": "stdout",
     "output_type": "stream",
     "text": [
      "System throw exception at frame 10 abs_change = 0.0\n",
      "#####################\n",
      "Run 0 - config 39\n",
      "Frame  0\n",
      "Frame  50\n",
      "Frame  100\n"
     ]
    },
    {
     "name": "stderr",
     "output_type": "stream",
     "text": [
      "\r",
      "40it [14:46, 15.64s/it]"
     ]
    },
    {
     "name": "stdout",
     "output_type": "stream",
     "text": [
      "System throw exception at frame 107 abs_change = 0.0\n",
      "#####################\n",
      "Run 0 - config 40\n",
      "Frame  0\n",
      "Frame  50\n",
      "Frame  100\n",
      "Frame  150\n"
     ]
    },
    {
     "name": "stderr",
     "output_type": "stream",
     "text": [
      "\r",
      "41it [14:55, 13.70s/it]"
     ]
    },
    {
     "name": "stdout",
     "output_type": "stream",
     "text": [
      "Skipping because low mean_edges (0.00)\n",
      "#####################\n",
      "Run 0 - config 41\n",
      "Frame  0\n"
     ]
    },
    {
     "name": "stderr",
     "output_type": "stream",
     "text": [
      "\r",
      "42it [14:56,  9.74s/it]"
     ]
    },
    {
     "name": "stdout",
     "output_type": "stream",
     "text": [
      "System throw exception at frame 10 abs_change = 0.0\n",
      "#####################\n",
      "Run 0 - config 42\n",
      "Frame  0\n",
      "Frame  50\n",
      "Frame  100\n"
     ]
    },
    {
     "name": "stderr",
     "output_type": "stream",
     "text": [
      "\r",
      "43it [15:00,  8.00s/it]"
     ]
    },
    {
     "name": "stdout",
     "output_type": "stream",
     "text": [
      "System throw exception at frame 122 abs_change = 0.0\n",
      "#####################\n",
      "Run 0 - config 43\n",
      "Frame  0\n",
      "Frame  50\n",
      "Frame  100\n",
      "Frame  150\n"
     ]
    },
    {
     "name": "stderr",
     "output_type": "stream",
     "text": [
      "\r",
      "44it [15:09,  8.36s/it]"
     ]
    },
    {
     "name": "stdout",
     "output_type": "stream",
     "text": [
      "Skipping because low mean_edges (0.35)\n",
      "#####################\n",
      "Run 0 - config 44\n",
      "Frame  0\n"
     ]
    },
    {
     "name": "stderr",
     "output_type": "stream",
     "text": [
      "\r",
      "45it [15:10,  6.01s/it]"
     ]
    },
    {
     "name": "stdout",
     "output_type": "stream",
     "text": [
      "System throw exception at frame 7 abs_change = 0.0\n",
      "#####################\n",
      "Run 0 - config 45\n",
      "Frame  0\n",
      "Frame  50\n",
      "Frame  100\n",
      "Frame  150\n",
      "mean_edges: 47.17\n",
      "Writing ply files\n"
     ]
    },
    {
     "name": "stderr",
     "output_type": "stream",
     "text": [
      "\r",
      "46it [16:29, 28.10s/it]"
     ]
    },
    {
     "name": "stdout",
     "output_type": "stream",
     "text": [
      "Generating video\n",
      "#####################\n",
      "Run 0 - config 46\n",
      "Frame  0\n"
     ]
    },
    {
     "name": "stderr",
     "output_type": "stream",
     "text": [
      "\r",
      "47it [16:30, 19.92s/it]"
     ]
    },
    {
     "name": "stdout",
     "output_type": "stream",
     "text": [
      "System throw exception at frame 13 abs_change = 0.0\n",
      "#####################\n",
      "Run 0 - config 47\n",
      "Frame  0\n"
     ]
    },
    {
     "name": "stderr",
     "output_type": "stream",
     "text": [
      "\r",
      "48it [16:30, 14.04s/it]"
     ]
    },
    {
     "name": "stdout",
     "output_type": "stream",
     "text": [
      "System throw exception at frame 10 abs_change = 0.0\n",
      "#####################\n",
      "Run 0 - config 48\n",
      "Frame  0\n",
      "Frame  50\n"
     ]
    },
    {
     "name": "stderr",
     "output_type": "stream",
     "text": [
      "\r",
      "49it [16:34, 10.79s/it]"
     ]
    },
    {
     "name": "stdout",
     "output_type": "stream",
     "text": [
      "System throw exception at frame 100 abs_change = 0.0\n",
      "#####################\n",
      "Run 0 - config 49\n",
      "Frame  0\n",
      "Frame  50\n",
      "Frame  100\n",
      "Frame  150\n"
     ]
    },
    {
     "name": "stderr",
     "output_type": "stream",
     "text": [
      "\r",
      "50it [16:43, 10.46s/it]"
     ]
    },
    {
     "name": "stdout",
     "output_type": "stream",
     "text": [
      "Skipping because low mean_edges (0.00)\n",
      "#####################\n",
      "Run 0 - config 50\n",
      "Frame  0\n"
     ]
    },
    {
     "name": "stderr",
     "output_type": "stream",
     "text": [
      "\r",
      "51it [16:44,  7.50s/it]"
     ]
    },
    {
     "name": "stdout",
     "output_type": "stream",
     "text": [
      "System throw exception at frame 9 abs_change = 0.0\n",
      "#####################\n",
      "Run 0 - config 51\n",
      "Frame  0\n",
      "Frame  50\n",
      "Frame  100\n"
     ]
    },
    {
     "name": "stderr",
     "output_type": "stream",
     "text": [
      "\r",
      "52it [16:48,  6.40s/it]"
     ]
    },
    {
     "name": "stdout",
     "output_type": "stream",
     "text": [
      "System throw exception at frame 116 abs_change = 0.0\n",
      "#####################\n",
      "Run 0 - config 52\n",
      "Frame  0\n",
      "Frame  50\n",
      "Frame  100\n",
      "Frame  150\n"
     ]
    },
    {
     "name": "stderr",
     "output_type": "stream",
     "text": [
      "\r",
      "53it [16:57,  7.32s/it]"
     ]
    },
    {
     "name": "stdout",
     "output_type": "stream",
     "text": [
      "Skipping because low mean_edges (3.61)\n",
      "#####################\n",
      "Run 0 - config 53\n",
      "Frame  0\n"
     ]
    },
    {
     "name": "stderr",
     "output_type": "stream",
     "text": [
      "\r",
      "54it [16:58,  5.27s/it]"
     ]
    },
    {
     "name": "stdout",
     "output_type": "stream",
     "text": [
      "System throw exception at frame 7 abs_change = 0.0\n",
      "#####################\n",
      "Run 0 - config 54\n",
      "Frame  0\n",
      "Frame  50\n",
      "Frame  100\n",
      "Frame  150\n",
      "mean_edges: 71.12\n",
      "Writing ply files\n"
     ]
    },
    {
     "name": "stderr",
     "output_type": "stream",
     "text": [
      "\r",
      "55it [19:10, 43.36s/it]"
     ]
    },
    {
     "name": "stdout",
     "output_type": "stream",
     "text": [
      "Generating video\n",
      "#####################\n",
      "Run 0 - config 55\n",
      "Frame  0\n",
      "Frame  50\n",
      "Frame  100\n",
      "Frame  150\n",
      "mean_edges: 60.92\n",
      "Writing ply files\n"
     ]
    },
    {
     "name": "stderr",
     "output_type": "stream",
     "text": [
      "\r",
      "56it [20:03, 46.21s/it]"
     ]
    },
    {
     "name": "stdout",
     "output_type": "stream",
     "text": [
      "Generating video\n",
      "#####################\n",
      "Run 0 - config 56\n",
      "Frame  0\n"
     ]
    },
    {
     "name": "stderr",
     "output_type": "stream",
     "text": [
      "\r",
      "57it [20:03, 32.57s/it]"
     ]
    },
    {
     "name": "stdout",
     "output_type": "stream",
     "text": [
      "System throw exception at frame 10 abs_change = 0.0\n",
      "#####################\n",
      "Run 0 - config 57\n",
      "Frame  0\n",
      "Frame  50\n",
      "Frame  100\n",
      "Frame  150\n",
      "mean_edges: 36.48\n",
      "Writing ply files\n"
     ]
    },
    {
     "name": "stderr",
     "output_type": "stream",
     "text": [
      "\r",
      "58it [22:38, 69.18s/it]"
     ]
    },
    {
     "name": "stdout",
     "output_type": "stream",
     "text": [
      "Generating video\n",
      "#####################\n",
      "Run 0 - config 58\n",
      "Frame  0\n",
      "Frame  50\n",
      "Frame  100\n",
      "Frame  150\n",
      "mean_edges: 81.53\n",
      "Writing ply files\n"
     ]
    },
    {
     "name": "stderr",
     "output_type": "stream",
     "text": [
      "\r",
      "59it [24:42, 85.53s/it]"
     ]
    },
    {
     "name": "stdout",
     "output_type": "stream",
     "text": [
      "Generating video\n",
      "#####################\n",
      "Run 0 - config 59\n",
      "Frame  0\n",
      "Frame  50\n",
      "Frame  100\n",
      "Frame  150\n",
      "mean_edges: 65.38\n",
      "Writing ply files\n"
     ]
    },
    {
     "name": "stderr",
     "output_type": "stream",
     "text": [
      "\r",
      "60it [25:25, 72.82s/it]"
     ]
    },
    {
     "name": "stdout",
     "output_type": "stream",
     "text": [
      "Generating video\n",
      "#####################\n",
      "Run 0 - config 60\n",
      "Frame  0\n",
      "Frame  50\n",
      "Frame  100\n",
      "Frame  150\n"
     ]
    },
    {
     "name": "stderr",
     "output_type": "stream",
     "text": [
      "\r",
      "61it [25:34, 53.83s/it]"
     ]
    },
    {
     "name": "stdout",
     "output_type": "stream",
     "text": [
      "Skipping because low mean_edges (8.43)\n",
      "#####################\n",
      "Run 0 - config 61\n",
      "Frame  0\n",
      "Frame  50\n",
      "Frame  100\n",
      "Frame  150\n"
     ]
    },
    {
     "name": "stderr",
     "output_type": "stream",
     "text": [
      "\r",
      "62it [25:44, 40.56s/it]"
     ]
    },
    {
     "name": "stdout",
     "output_type": "stream",
     "text": [
      "Skipping because low mean_edges (0.00)\n",
      "#####################\n",
      "Run 0 - config 62\n",
      "Frame  0\n"
     ]
    },
    {
     "name": "stderr",
     "output_type": "stream",
     "text": [
      "\r",
      "63it [25:44, 28.53s/it]"
     ]
    },
    {
     "name": "stdout",
     "output_type": "stream",
     "text": [
      "System throw exception at frame 7 abs_change = 0.0\n",
      "#####################\n",
      "Run 0 - config 63\n",
      "Frame  0\n",
      "Frame  50\n",
      "Frame  100\n",
      "Frame  150\n",
      "mean_edges: 54.68\n",
      "Writing ply files\n"
     ]
    },
    {
     "name": "stderr",
     "output_type": "stream",
     "text": [
      "\r",
      "64it [27:20, 48.76s/it]"
     ]
    },
    {
     "name": "stdout",
     "output_type": "stream",
     "text": [
      "Generating video\n",
      "#####################\n",
      "Run 0 - config 64\n",
      "Frame  0\n",
      "Frame  50\n",
      "Frame  100\n",
      "Frame  150\n",
      "mean_edges: 54.54\n",
      "Writing ply files\n"
     ]
    },
    {
     "name": "stderr",
     "output_type": "stream",
     "text": [
      "\r",
      "65it [28:11, 49.28s/it]"
     ]
    },
    {
     "name": "stdout",
     "output_type": "stream",
     "text": [
      "Generating video\n",
      "#####################\n",
      "Run 0 - config 65\n",
      "Frame  0\n"
     ]
    },
    {
     "name": "stderr",
     "output_type": "stream",
     "text": [
      "\r",
      "66it [28:12, 34.73s/it]"
     ]
    },
    {
     "name": "stdout",
     "output_type": "stream",
     "text": [
      "System throw exception at frame 10 abs_change = 0.0\n",
      "#####################\n",
      "Run 0 - config 66\n",
      "Frame  0\n",
      "Frame  50\n",
      "Frame  100\n",
      "Frame  150\n"
     ]
    },
    {
     "name": "stderr",
     "output_type": "stream",
     "text": [
      "\r",
      "67it [28:21, 27.16s/it]"
     ]
    },
    {
     "name": "stdout",
     "output_type": "stream",
     "text": [
      "Skipping because low mean_edges (25.36)\n",
      "#####################\n",
      "Run 0 - config 67\n",
      "Frame  0\n",
      "Frame  50\n",
      "Frame  100\n",
      "Frame  150\n",
      "mean_edges: 70.83\n",
      "Writing ply files\n"
     ]
    },
    {
     "name": "stderr",
     "output_type": "stream",
     "text": [
      "\r",
      "68it [30:28, 57.13s/it]"
     ]
    },
    {
     "name": "stdout",
     "output_type": "stream",
     "text": [
      "Generating video\n",
      "#####################\n",
      "Run 0 - config 68\n",
      "Frame  0\n"
     ]
    },
    {
     "name": "stderr",
     "output_type": "stream",
     "text": [
      "\r",
      "69it [30:29, 40.21s/it]"
     ]
    },
    {
     "name": "stdout",
     "output_type": "stream",
     "text": [
      "System throw exception at frame 11 abs_change = 0.0\n",
      "#####################\n",
      "Run 0 - config 69\n",
      "Frame  0\n",
      "Frame  50\n",
      "Frame  100\n",
      "Frame  150\n"
     ]
    },
    {
     "name": "stderr",
     "output_type": "stream",
     "text": [
      "\r",
      "70it [30:38, 30.95s/it]"
     ]
    },
    {
     "name": "stdout",
     "output_type": "stream",
     "text": [
      "Skipping because low mean_edges (0.00)\n",
      "#####################\n",
      "Run 0 - config 70\n",
      "Frame  0\n",
      "Frame  50\n",
      "Frame  100\n",
      "Frame  150\n"
     ]
    },
    {
     "name": "stderr",
     "output_type": "stream",
     "text": [
      "\r",
      "71it [30:48, 24.54s/it]"
     ]
    },
    {
     "name": "stdout",
     "output_type": "stream",
     "text": [
      "Skipping because low mean_edges (0.00)\n",
      "#####################\n",
      "Run 0 - config 71\n",
      "Frame  0\n"
     ]
    },
    {
     "name": "stderr",
     "output_type": "stream",
     "text": [
      "\r",
      "72it [30:48, 17.34s/it]"
     ]
    },
    {
     "name": "stdout",
     "output_type": "stream",
     "text": [
      "System throw exception at frame 7 abs_change = 0.0\n",
      "#####################\n",
      "Run 0 - config 72\n",
      "Frame  0\n",
      "Frame  50\n",
      "Frame  100\n",
      "Frame  150\n",
      "mean_edges: 31.24\n",
      "Writing ply files\n"
     ]
    },
    {
     "name": "stderr",
     "output_type": "stream",
     "text": [
      "\r",
      "73it [32:27, 41.71s/it]"
     ]
    },
    {
     "name": "stdout",
     "output_type": "stream",
     "text": [
      "Generating video\n",
      "#####################\n",
      "Run 0 - config 73\n",
      "Frame  0\n"
     ]
    },
    {
     "name": "stderr",
     "output_type": "stream",
     "text": [
      "\r",
      "74it [32:28, 29.46s/it]"
     ]
    },
    {
     "name": "stdout",
     "output_type": "stream",
     "text": [
      "System throw exception at frame 14 abs_change = 0.0\n",
      "#####################\n",
      "Run 0 - config 74\n",
      "Frame  0\n"
     ]
    },
    {
     "name": "stderr",
     "output_type": "stream",
     "text": [
      "\r",
      "75it [32:28, 20.72s/it]"
     ]
    },
    {
     "name": "stdout",
     "output_type": "stream",
     "text": [
      "System throw exception at frame 10 abs_change = 0.0\n",
      "#####################\n",
      "Run 0 - config 75\n",
      "Frame  0\n",
      "Frame  50\n",
      "Frame  100\n",
      "Frame  150\n",
      "mean_edges: 35.56\n",
      "Writing ply files\n"
     ]
    },
    {
     "name": "stderr",
     "output_type": "stream",
     "text": [
      "\r",
      "76it [35:54, 76.37s/it]"
     ]
    },
    {
     "name": "stdout",
     "output_type": "stream",
     "text": [
      "Generating video\n",
      "#####################\n",
      "Run 0 - config 76\n",
      "Frame  0\n",
      "Frame  50\n",
      "Frame  100\n",
      "Frame  150\n",
      "mean_edges: 58.79\n",
      "Writing ply files\n"
     ]
    },
    {
     "name": "stderr",
     "output_type": "stream",
     "text": [
      "\r",
      "77it [37:57, 90.25s/it]"
     ]
    },
    {
     "name": "stdout",
     "output_type": "stream",
     "text": [
      "Generating video\n",
      "#####################\n",
      "Run 0 - config 77\n",
      "Frame  0\n"
     ]
    },
    {
     "name": "stderr",
     "output_type": "stream",
     "text": [
      "\r",
      "78it [37:58, 63.40s/it]"
     ]
    },
    {
     "name": "stdout",
     "output_type": "stream",
     "text": [
      "System throw exception at frame 10 abs_change = 0.0\n",
      "#####################\n",
      "Run 0 - config 78\n",
      "Frame  0\n",
      "Frame  50\n",
      "Frame  100\n",
      "Frame  150\n"
     ]
    },
    {
     "name": "stderr",
     "output_type": "stream",
     "text": [
      "\r",
      "79it [38:08, 47.32s/it]"
     ]
    },
    {
     "name": "stdout",
     "output_type": "stream",
     "text": [
      "Skipping because low mean_edges (0.00)\n",
      "#####################\n",
      "Run 0 - config 79\n",
      "Frame  0\n",
      "Frame  50\n",
      "Frame  100\n",
      "Frame  150\n"
     ]
    },
    {
     "name": "stderr",
     "output_type": "stream",
     "text": [
      "\r",
      "80it [38:19, 36.41s/it]"
     ]
    },
    {
     "name": "stdout",
     "output_type": "stream",
     "text": [
      "Skipping because low mean_edges (0.00)\n",
      "#####################\n",
      "Run 0 - config 80\n",
      "Frame  0\n"
     ]
    },
    {
     "name": "stderr",
     "output_type": "stream",
     "text": [
      "81it [38:19, 28.39s/it]"
     ]
    },
    {
     "name": "stdout",
     "output_type": "stream",
     "text": [
      "System throw exception at frame 7 abs_change = 0.0\n"
     ]
    },
    {
     "name": "stderr",
     "output_type": "stream",
     "text": [
      "\n"
     ]
    }
   ],
   "source": [
    "system_size = 100\n",
    "system_shape = tuple([system_size]*3)\n",
    "render_dir = out_path / '3d_ply' / f'circle_shifted_{system_size}_size'\n",
    "render_dir.mkdir(exist_ok=False, parents=True)\n",
    "nb_frames = 180\n",
    "min_frames = int(0.8 * nb_frames)\n",
    "\n",
    "mean_edges_threshold = 30\n",
    "generate_ply = True\n",
    "ply_threshold = 70\n",
    "\n",
    "config = {}\n",
    "config['simulation_steps'] = 20\n",
    "config['random_influence'] = 0.\n",
    "config['boundary'] = 'reflect'\n",
    "config['validate_change_threshold'] = 1.e-6\n",
    "\n",
    "# mask\n",
    "mask_size_ratio = 1/2.5\n",
    "# mask = get_cube_mask(system_shape, system_shape[0]*mask_size_ratio, \n",
    "#                      center=np.array(system_shape) // 1)\n",
    "mask = get_sphere_mask(system_shape, [system_shape[0]*mask_size_ratio, (system_shape[0]*mask_size_ratio)+20], \n",
    "                     center=np.array(system_shape) // 1)\n",
    "\n",
    "system_init_fun = lambda shape: get_init_state(shape, random_influence=config['random_influence'], mask=mask)\n",
    "\n",
    "nb_runs = 1\n",
    "#hexa_paths = list((Path(\"automaton_hexagonal/flat_hexa_logo\").glob(\"*/*.png\"))\n",
    "for run_idx in range(nb_runs):\n",
    "    #seed_image = cv2.resize(cv2.imread(str(hexa_paths[np.random.randint(len(hexa_paths))])) / 255, system_shape[:2])\n",
    "    with open(str(render_dir / \"logs.txt\"), 'w+') as f:\n",
    "        for config_idx, param_config in tqdm.tqdm_notebook(enumerate(configs)):\n",
    "            print(f'#####################')\n",
    "            print(f'Run {run_idx} - config {config_idx}')\n",
    "            run_dir = render_dir / 'run_{}_config_{}'.format(run_idx, config_idx)\n",
    "            \n",
    "            rf_snapshots = []\n",
    "            config.update(param_config._asdict())\n",
    "            rf_system = ReactionDiffusionSystem(system_shape, config, system_init_fun,\n",
    "                                               validate_change_threshold=config['validate_change_threshold'])\n",
    "\n",
    "            #if seed_image is not None:\n",
    "            #    rf_system.B[np.where(seed_image[:, :, 1]>0.1)] =  0.25\n",
    "            #    rf_system.A[np.where(seed_image[:, :, 1]>0.1)] =  0.50\n",
    "            \n",
    "            # run and store snapshot\n",
    "            for i in range(nb_frames):\n",
    "                try:\n",
    "                    rf_system.run_simulation(config['simulation_steps'])\n",
    "                    rf_snapshots.append(rf_system.B)\n",
    "                except Exception as e:\n",
    "                    print(f'System throw exception at frame {i} {e}')\n",
    "                    break\n",
    "                if i % 50 == 0:\n",
    "                    print('Frame ', i)\n",
    "\n",
    "            # write out config\n",
    "            config['nb_frames'] = len(rf_snapshots)\n",
    "            f.write(str(config) + '\\n')\n",
    "            \n",
    "            # discard if too short\n",
    "            if len(rf_snapshots) < min_frames:\n",
    "                continue\n",
    "                \n",
    "            norm_snapshots = normalize_snapshots(rf_snapshots)\n",
    "            \n",
    "            # discard if last frame not rich enough\n",
    "            mean_edges = get_mean_edges(norm_snapshots,  edge_size=int(system_size//5))\n",
    "            if mean_edges < mean_edges_threshold:\n",
    "                print(f'Skipping because low mean_edges ({mean_edges:0.2f})')\n",
    "                continue\n",
    "            else:\n",
    "                print(f'mean_edges: {mean_edges:0.2f}')\n",
    "                \n",
    "            run_dir.mkdir(exist_ok=False)\n",
    "                \n",
    "            # save each frame to ply\n",
    "            if generate_ply:\n",
    "                print('Writing ply files')\n",
    "                out_ply = run_dir / 'ply'\n",
    "                out_ply.mkdir(exist_ok=False)\n",
    "                ply_snapshots = prepare_for_ply(norm_snapshots, ply_threshold)\n",
    "                for frame in np.arange(norm_snapshots.shape[0]):\n",
    "                    tmp = ply_snapshots[frame]\n",
    "                    tmp = tmp[tmp[:,-1] >= ply_threshold]\n",
    "                    write_to_ply(tmp, out_ply / f'frame_{frame:03d}.ply')\n",
    "            \n",
    "            # generate video (single slice only)\n",
    "            print('Generating video')\n",
    "            out_video = run_dir / 'run.mp4'\n",
    "            generate_video(str(out_video), (system_shape[1], system_shape[0]),\n",
    "                           frame_gen_fun=lambda i: norm_snapshots[i][(system_shape[-1]//1)-1],\n",
    "                           nb_frames=len(rf_snapshots), is_color=False, disable_tqdm=True)"
   ]
  },
  {
   "cell_type": "code",
   "execution_count": null,
   "metadata": {},
   "outputs": [],
   "source": []
  }
 ],
 "metadata": {
  "kernelspec": {
   "display_name": "Data Science",
   "language": "python",
   "name": "data-science"
  },
  "language_info": {
   "codemirror_mode": {
    "name": "ipython",
    "version": 3
   },
   "file_extension": ".py",
   "mimetype": "text/x-python",
   "name": "python",
   "nbconvert_exporter": "python",
   "pygments_lexer": "ipython3",
   "version": "3.8.5"
  },
  "notify_time": "30",
  "toc": {
   "base_numbering": 1,
   "nav_menu": {},
   "number_sections": true,
   "sideBar": true,
   "skip_h1_title": false,
   "title_cell": "Table of Contents",
   "title_sidebar": "Contents",
   "toc_cell": true,
   "toc_position": {
    "height": "calc(100% - 180px)",
    "left": "10px",
    "top": "150px",
    "width": "252.4px"
   },
   "toc_section_display": "block",
   "toc_window_display": true
  },
  "toc-autonumbering": true,
  "toc-showcode": false,
  "toc-showmarkdowntxt": true,
  "toc-showtags": false
 },
 "nbformat": 4,
 "nbformat_minor": 2
}
