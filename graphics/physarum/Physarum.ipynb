{
 "cells": [
  {
   "cell_type": "markdown",
   "metadata": {
    "toc": true
   },
   "source": [
    "<h1>Table of Contents<span class=\"tocSkip\"></span></h1>\n",
    "<div class=\"toc\"><ul class=\"toc-item\"><li><span><a href=\"#Intro\" data-toc-modified-id=\"Intro-1\"><span class=\"toc-item-num\">1&nbsp;&nbsp;</span>Intro</a></span></li><li><span><a href=\"#Run-Test-Simulation\" data-toc-modified-id=\"Run-Test-Simulation-2\"><span class=\"toc-item-num\">2&nbsp;&nbsp;</span>Run Test Simulation</a></span><ul class=\"toc-item\"><li><span><a href=\"#Performances-Profiling\" data-toc-modified-id=\"Performances-Profiling-2.1\"><span class=\"toc-item-num\">2.1&nbsp;&nbsp;</span>Performances Profiling</a></span></li></ul></li><li><span><a href=\"#Parameters-Grid-Search\" data-toc-modified-id=\"Parameters-Grid-Search-3\"><span class=\"toc-item-num\">3&nbsp;&nbsp;</span>Parameters Grid Search</a></span></li></ul></div>"
   ]
  },
  {
   "cell_type": "markdown",
   "metadata": {},
   "source": [
    "# Intro \n",
    "This notebook explores slime mold simulation and visualization. For an introduction to the phenomenon and method see [this sagejenson post](https://sagejenson.com/physarum)"
   ]
  },
  {
   "cell_type": "code",
   "execution_count": null,
   "metadata": {},
   "outputs": [],
   "source": [
    "import numpy as np\n",
    "import cupy as cp\n",
    "import pandas as pd\n",
    "import seaborn as sns\n",
    "import matplotlib.pyplot as plt\n",
    "import tqdm\n",
    "import math\n",
    "\n",
    "import os\n",
    "import sys\n",
    "from pathlib import Path\n",
    "\n",
    "%matplotlib inline\n",
    "\n",
    "%load_ext autoreload\n",
    "%autoreload 2\n",
    "\n",
    "import Physarum as physarum\n",
    "from Physarum import Physarum\n",
    "\n",
    "from ds_utils.sim_utils import named_configs\n",
    "from ds_utils.video_utils import generate_video, imageio_generate_video"
   ]
  },
  {
   "cell_type": "markdown",
   "metadata": {},
   "source": [
    "# Run Test Simulation"
   ]
  },
  {
   "cell_type": "code",
   "execution_count": null,
   "metadata": {},
   "outputs": [],
   "source": [
    "width = 400\n",
    "height = 400\n",
    "system_shape = (width, height)"
   ]
  },
  {
   "cell_type": "code",
   "execution_count": null,
   "metadata": {},
   "outputs": [],
   "source": [
    "init_fun_perlin=lambda shape: physarum.get_perlin_init(shape=shape, n=int(30e4), scale=380)\n",
    "init_fun_circle=lambda shape: physarum.get_filled_circle_init(n=int(10e4), center=(shape[0]//2,shape[1]//2), \n",
    "                                             radius=100)"
   ]
  },
  {
   "cell_type": "code",
   "execution_count": null,
   "metadata": {},
   "outputs": [],
   "source": [
    "def combined_init(shape):\n",
    "    pop_01 = physarum.get_filled_circle_init(n=int(10e4), center=(shape[0]//2,shape[1]//2), radius=100)\n",
    "    pop_02 = physarum.get_perlin_init(shape=shape, n=int(30e4), scale=80)\n",
    "    return np.concatenate([pop_01, pop_02])"
   ]
  },
  {
   "cell_type": "code",
   "execution_count": null,
   "metadata": {},
   "outputs": [],
   "source": [
    "species_a = Physarum(shape=system_shape, horizon_walk=1, horizon_sense=9,\n",
    "                    theta_walk=15, theta_sense=10., walk_range=1.,\n",
    "                    social_behaviour=0, trace_strength=1,\n",
    "                    init_fun=combined_init)\n",
    "\n",
    "\n",
    "species_b = Physarum(shape=system_shape, horizon_walk=1,horizon_sense=9,\n",
    "                    theta_walk=15, theta_sense=10., walk_range=1.2,\n",
    "                    social_behaviour=-16,trace_strength=1,\n",
    "                    init_fun=init_fun_circle)"
   ]
  },
  {
   "cell_type": "code",
   "execution_count": null,
   "metadata": {
    "scrolled": true
   },
   "outputs": [],
   "source": [
    "simulation_steps = 10\n",
    "images = physarum.run_physarum_simulation(populations=[species_a], steps=simulation_steps)"
   ]
  },
  {
   "cell_type": "code",
   "execution_count": null,
   "metadata": {},
   "outputs": [],
   "source": [
    "out_path = Path.home() / 'Documents/graphics/generative_art_output/physarum/test_01'\n",
    "out_path.mkdir(exist_ok=True, parents=True)"
   ]
  },
  {
   "cell_type": "code",
   "execution_count": null,
   "metadata": {},
   "outputs": [],
   "source": [
    "imageio_generate_video(str(out_path/\"test_02.mp4\"), images, fps=20, format=\"mp4\", loop=False)"
   ]
  },
  {
   "cell_type": "code",
   "execution_count": null,
   "metadata": {},
   "outputs": [],
   "source": [
    "generate_video(str(out_path/\"tmp.mp4\"), (width, height),\n",
    "               frame_gen_fun = lambda i: np.array(images[i])[:,:,:3],\n",
    "               nb_frames = len(images))"
   ]
  },
  {
   "cell_type": "markdown",
   "metadata": {},
   "source": [
    "## Performances Profiling"
   ]
  },
  {
   "cell_type": "code",
   "execution_count": null,
   "metadata": {
    "scrolled": true
   },
   "outputs": [],
   "source": [
    "%%prun -s cumulative -l 30 -r\n",
    "# We profile the cell, sort the report by \"cumulative\n",
    "# time\", limit it to 30 lines\n",
    "\n",
    "simulation_steps = 50\n",
    "images = physarum.run_physarum_simulation(populations=[species_b], steps=simulation_steps)"
   ]
  },
  {
   "cell_type": "markdown",
   "metadata": {},
   "source": [
    "# Parameters Grid Search "
   ]
  },
  {
   "cell_type": "code",
   "execution_count": null,
   "metadata": {},
   "outputs": [],
   "source": [
    "out_path = Path.home() / 'Documents/graphics/generative_art_output/physarum/grid_search'"
   ]
  },
  {
   "cell_type": "code",
   "execution_count": null,
   "metadata": {},
   "outputs": [],
   "source": [
    "import cupy as cp\n",
    "def normalize_snapshots(snapshots):\n",
    "    norm_s = cp.asnumpy(snapshots)\n",
    "    #fix_images = np.sqrt(fix_images + 0.1) - np.sqrt(0.1)\n",
    "    #fix_images = np.log(fix_images + 1\n",
    "    norm_s = (norm_s/norm_s.max())*255\n",
    "    # add z axis\n",
    "    norm_s = norm_s[:, :, :, np.newaxis]\n",
    "    return norm_s.astype(np.uint8)"
   ]
  },
  {
   "cell_type": "code",
   "execution_count": null,
   "metadata": {},
   "outputs": [],
   "source": [
    "nb_vals = 3\n",
    "grid_search_params = {\n",
    "    'horizon_walk': np.linspace(1., 3., nb_vals).round(2), # higher more spread, chaos\n",
    "    'horizon_sense': np.linspace(10., 25., nb_vals).round(2),\n",
    "    'theta_sense': np.linspace(10., 25., nb_vals).round(2), # the smaller, the more narrow paths they create\n",
    "    'theta_walk': np.linspace(5., 15., nb_vals).round(2), # should be close to theta_sense, if way bigger, they disappear or constrain to concentrated areas\n",
    "    'walk_range': [1.],\n",
    "    'social_behaviour': [0],\n",
    "    'trace_strength': [1],\n",
    "    'decay': [0.8], #np.linspace(.6, .9, nb_vals)\n",
    "}\n",
    "configs = list(named_configs(grid_search_params))"
   ]
  },
  {
   "cell_type": "code",
   "execution_count": null,
   "metadata": {},
   "outputs": [],
   "source": [
    "system_size = 100\n",
    "system_shape = tuple([system_size]*2)\n",
    "render_dir = out_path / f'{system_size}_size'\n",
    "render_dir.mkdir(exist_ok=False, parents=True)\n",
    "nb_frames = 90\n",
    "\n",
    "generate_ply = True\n",
    "ply_threshold = 70\n",
    "\n",
    "#init_setup = physarum.get_perlin_init(shape=system_shape, n=int(60e4), scale=150)\n",
    "#init_setup = physarum.get_filled_circle_init(n=int(20e5), center=(system_shape[0]//2,system_shape[1]//2), radius=150)\n",
    "def combined_init(shape):\n",
    "    pop_01 = physarum.get_filled_circle_init(n=int(80e4), center=(shape[0]//2,shape[1]//2), radius=150)\n",
    "    pop_02 = physarum.get_perlin_init(shape=shape, n=int(10e4), scale=200)\n",
    "    #pop_01 = physarum.get_gaussian_gradient(n=int(10e4), center=(system_shape[0]//2,system_shape[1]//2), sigma=200)\n",
    "    #pop_02 = physarum.get_circle_init(n=int(5e4), center=(shape[0]//2,shape[1]//2), radius=100, width=30)\n",
    "    return cp.concatenate([pop_01, pop_02])\n",
    "#init_setup = combined_init(system_shape)\n",
    "init_setup = physarum.get_gaussian_gradient(n=int(50e5), center=(system_shape[0]//2,system_shape[1]//2), sigma=40)\n",
    "\n",
    "imgs_path = \"MAYBE_DUPLICATES/flat_hexa_logo/19\"\n",
    "#mask = physarum.get_image_mask(list(Path(img_path).glob('*.png'))[np.random.randint(15)], system_shape, threshold=0.5)\n",
    "\n",
    "nb_runs = 1\n",
    "for run_idx in range(nb_runs):\n",
    "    with open(str(render_dir / \"logs.txt\"), 'w+') as f:\n",
    "        for config_idx, config in tqdm.tqdm_notebook(enumerate(configs)):\n",
    "            print(f'#####################')\n",
    "            print(f'Run {run_idx} - config {config_idx}')\n",
    "            run_dir = render_dir / 'run_{}_config_{}'.format(run_idx, config_idx)\n",
    "\n",
    "            system = Physarum(shape=system_shape, \n",
    "              horizon_walk=config.horizon_walk,\n",
    "              horizon_sense=config.horizon_sense,\n",
    "              theta_walk=config.theta_walk,\n",
    "              theta_sense=config.theta_sense,\n",
    "              walk_range=config.walk_range,\n",
    "              social_behaviour=config.social_behaviour,\n",
    "              trace_strength=config.trace_strength,\n",
    "              init_fun=lambda shape: init_setup,\n",
    "              template=None, template_strength=0) \n",
    "            \n",
    "            imgs_path = f\"MAYBE_DUPLICATES/flat_hexa_logo/{np.random.randint(5, 19)}\"\n",
    "            imgs_path = list(Path(imgs_path).glob('*.png'))\n",
    "            img_path = imgs_path[np.random.randint(len(imgs_path))]\n",
    "            #init_setup = physarum.get_image_init_positions(img_path, system_shape, int(80e4), invert=True)\n",
    "            template = physarum.get_image_mask(img_path, system_shape, invert=False)\n",
    "            template_strength = 1\n",
    "\n",
    "            #config = config._replace(theta_walk = config.theta_sense-5)\n",
    "            \n",
    "            images = physarum.run_physarum_simulation(populations=[system], diffusion='median',\n",
    "                                          steps=nb_frames, decay=config.decay, mask=None, mask_factor=.5)\n",
    "            \n",
    "            # write out config\n",
    "            f.write(str(config)+\"\\n\")\n",
    "            SYSTEM_CONFIG = config._asdict()\n",
    "\n",
    "            norm_snapshots = normalize_snapshots(images)\n",
    "\n",
    "            #np.save(render_dir / f'run_{run}.npy', fix_images)\n",
    "            \n",
    "            # save each frame to ply\n",
    "            if generate_ply:\n",
    "                print('Writing ply files')\n",
    "                out_ply = run_dir / 'ply'\n",
    "                out_ply.mkdir(exist_ok=False)\n",
    "                ply_snapshots = prepare_for_ply(norm_snapshots, ply_threshold)\n",
    "                for frame in np.arange(norm_snapshots.shape[0]):\n",
    "                    tmp = ply_snapshots[frame]\n",
    "                    tmp = tmp[tmp[:,-1] >= ply_threshold]\n",
    "                    write_to_ply(tmp, out_ply / f'frame_{frame:03d}.ply')\n",
    "\n",
    "            # generate video\n",
    "            print('Generating video')\n",
    "            out_video = run_dir / 'run.mp4'\n",
    "            generate_video(str(out_video), (system_shape[1], system_shape[0]),\n",
    "                   frame_gen_fun = lambda i: norm_snapshots[i][0],\n",
    "                   nb_frames=len(res_images), is_color=False, disable_tqdm=True)"
   ]
  }
 ],
 "metadata": {
  "kernelspec": {
   "display_name": "Data Science",
   "language": "python",
   "name": "data-science"
  },
  "language_info": {
   "codemirror_mode": {
    "name": "ipython",
    "version": 3
   },
   "file_extension": ".py",
   "mimetype": "text/x-python",
   "name": "python",
   "nbconvert_exporter": "python",
   "pygments_lexer": "ipython3",
   "version": "3.8.5"
  },
  "toc": {
   "base_numbering": 1,
   "nav_menu": {},
   "number_sections": true,
   "sideBar": true,
   "skip_h1_title": false,
   "title_cell": "Table of Contents",
   "title_sidebar": "Contents",
   "toc_cell": true,
   "toc_position": {},
   "toc_section_display": true,
   "toc_window_display": true
  }
 },
 "nbformat": 4,
 "nbformat_minor": 4
}
