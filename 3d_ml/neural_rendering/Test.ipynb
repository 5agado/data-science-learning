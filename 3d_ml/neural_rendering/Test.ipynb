{
 "cells": [
  {
   "cell_type": "markdown",
   "metadata": {
    "toc": true
   },
   "source": [
    "<h1>Table of Contents<span class=\"tocSkip\"></span></h1>\n",
    "<div class=\"toc\"><ul class=\"toc-item\"><li><span><a href=\"#Model\" data-toc-modified-id=\"Model-1\"><span class=\"toc-item-num\">1&nbsp;&nbsp;</span>Model</a></span><ul class=\"toc-item\"><li><span><a href=\"#Predict\" data-toc-modified-id=\"Predict-1.1\"><span class=\"toc-item-num\">1.1&nbsp;&nbsp;</span>Predict</a></span></li></ul></li><li><span><a href=\"#Data-Processing\" data-toc-modified-id=\"Data-Processing-2\"><span class=\"toc-item-num\">2&nbsp;&nbsp;</span>Data Processing</a></span><ul class=\"toc-item\"><li><span><a href=\"#Voxelize-Mesh\" data-toc-modified-id=\"Voxelize-Mesh-2.1\"><span class=\"toc-item-num\">2.1&nbsp;&nbsp;</span>Voxelize Mesh</a></span></li><li><span><a href=\"#Sample-SDF\" data-toc-modified-id=\"Sample-SDF-2.2\"><span class=\"toc-item-num\">2.2&nbsp;&nbsp;</span>Sample SDF</a></span></li></ul></li></ul></div>"
   ]
  },
  {
   "cell_type": "code",
   "execution_count": null,
   "metadata": {},
   "outputs": [],
   "source": [
    "import numpy as np\n",
    "import pandas as pd\n",
    "import seaborn as sns\n",
    "import matplotlib.pyplot as plt\n",
    "\n",
    "import os\n",
    "import sys\n",
    "from pathlib import Path\n",
    "\n",
    "%load_ext autoreload\n",
    "%autoreload 2\n",
    "\n",
    "from DeepSDF import DeepSDF"
   ]
  },
  {
   "cell_type": "markdown",
   "metadata": {},
   "source": [
    "# Model"
   ]
  },
  {
   "cell_type": "code",
   "execution_count": null,
   "metadata": {},
   "outputs": [],
   "source": [
    "# model config\n",
    "deep_sdf_config = {\n",
    "    \"nb_layers\": 8,\n",
    "    \"latent_dim\": 1,\n",
    "    \"inner_activation\": \"relu\",\n",
    "    \"out_activation\": \"tanh\",\n",
    "    \"hidden_dims\" : [512]*7,\n",
    "    \"norm_layers\" : [0, 1, 2, 3, 4, 5, 6, 7],\n",
    "    \"weight_norm\" : True,\n",
    "    \"clamp_delta\": 0.1,\n",
    "}\n",
    "latent_dim = deep_sdf_config['latent_dim']"
   ]
  },
  {
   "cell_type": "code",
   "execution_count": null,
   "metadata": {},
   "outputs": [],
   "source": [
    "# init model\n",
    "deep_sdf = DeepSDF(**deep_sdf_config)"
   ]
  },
  {
   "cell_type": "code",
   "execution_count": null,
   "metadata": {},
   "outputs": [],
   "source": [
    "model = deep_sdf.model\n",
    "model.summary()"
   ]
  },
  {
   "cell_type": "code",
   "execution_count": null,
   "metadata": {},
   "outputs": [],
   "source": [
    "# setup training data\n",
    "latent = np.random.rand(latent_dim)\n",
    "\n",
    "#x_train = [all_xyz, np.tile(latent, (all_xyz.shape[0], 1))]\n",
    "#y_train = mesh_voxels.flatten()\n",
    "x_train = [points, np.tile(latent, (points.shape[0], 1))]\n",
    "y_train = sdf\n",
    "\n",
    "#print(x_train.shape)\n",
    "print(y_train.shape)"
   ]
  },
  {
   "cell_type": "code",
   "execution_count": null,
   "metadata": {
    "scrolled": true
   },
   "outputs": [],
   "source": [
    "# train\n",
    "deep_sdf.train(\n",
    "    x_train, y_train,\n",
    "    nb_epochs=10,\n",
    "    batch_size=256,\n",
    "    latent=latent\n",
    ")"
   ]
  },
  {
   "cell_type": "markdown",
   "metadata": {},
   "source": [
    "## Predict"
   ]
  },
  {
   "cell_type": "code",
   "execution_count": null,
   "metadata": {},
   "outputs": [],
   "source": [
    "pred_voxel = deep_sdf.model.predict([all_xyz, np.tile(latent, (all_xyz.shape[0], 1))])\n",
    "pred_voxel.shape"
   ]
  },
  {
   "cell_type": "code",
   "execution_count": null,
   "metadata": {},
   "outputs": [],
   "source": [
    "pred_voxel"
   ]
  },
  {
   "cell_type": "markdown",
   "metadata": {},
   "source": [
    "# Data Processing"
   ]
  },
  {
   "cell_type": "code",
   "execution_count": null,
   "metadata": {},
   "outputs": [],
   "source": [
    "data_dir = Path.home() / 'Documents/generated_data/neural_rendering'"
   ]
  },
  {
   "cell_type": "code",
   "execution_count": null,
   "metadata": {},
   "outputs": [],
   "source": [
    "from mesh_to_sdf import mesh_to_voxels, sample_sdf_near_surface\n",
    "\n",
    "import trimesh\n",
    "import skimage.measure"
   ]
  },
  {
   "cell_type": "markdown",
   "metadata": {},
   "source": [
    "## Voxelize Mesh"
   ]
  },
  {
   "cell_type": "code",
   "execution_count": null,
   "metadata": {},
   "outputs": [],
   "source": [
    "voxel_resolution = 50\n",
    "mesh = trimesh.load(data_dir / 'suzanne.obj')\n",
    "\n",
    "mesh_voxels = mesh_to_voxels(mesh, voxel_resolution, pad=False)\n",
    "mesh_voxels.shape"
   ]
  },
  {
   "cell_type": "code",
   "execution_count": null,
   "metadata": {},
   "outputs": [],
   "source": [
    "voxels = pred_voxel.reshape(tuple([size]*3))"
   ]
  },
  {
   "cell_type": "code",
   "execution_count": null,
   "metadata": {},
   "outputs": [],
   "source": [
    "# show mesh\n",
    "vertices, faces, normals, _ = skimage.measure.marching_cubes_lewiner(voxels, level=0)\n",
    "mesh = trimesh.Trimesh(vertices=vertices, faces=faces, vertex_normals=normals)\n",
    "mesh.show()"
   ]
  },
  {
   "cell_type": "code",
   "execution_count": null,
   "metadata": {},
   "outputs": [],
   "source": [
    "# save voxels to file\n",
    "np.save(data_dir / 'suzanne.npy', np.array(voxels, dtype=np.float16))"
   ]
  },
  {
   "cell_type": "markdown",
   "metadata": {},
   "source": [
    "## Sample SDF"
   ]
  },
  {
   "cell_type": "code",
   "execution_count": null,
   "metadata": {},
   "outputs": [],
   "source": [
    "mesh = trimesh.load(data_dir / 'suzanne.obj')\n",
    "\n",
    "number_of_points = 250000\n",
    "points, sdf = sample_sdf_near_surface(mesh, number_of_points=number_of_points)\n",
    "points.shape"
   ]
  },
  {
   "cell_type": "code",
   "execution_count": null,
   "metadata": {},
   "outputs": [],
   "source": []
  }
 ],
 "metadata": {
  "kernelspec": {
   "display_name": "Data Science",
   "language": "python",
   "name": "data-science"
  },
  "language_info": {
   "codemirror_mode": {
    "name": "ipython",
    "version": 3
   },
   "file_extension": ".py",
   "mimetype": "text/x-python",
   "name": "python",
   "nbconvert_exporter": "python",
   "pygments_lexer": "ipython3",
   "version": "3.8.5"
  },
  "toc": {
   "base_numbering": 1,
   "nav_menu": {},
   "number_sections": true,
   "sideBar": true,
   "skip_h1_title": false,
   "title_cell": "Table of Contents",
   "title_sidebar": "Contents",
   "toc_cell": true,
   "toc_position": {},
   "toc_section_display": true,
   "toc_window_display": true
  }
 },
 "nbformat": 4,
 "nbformat_minor": 4
}
